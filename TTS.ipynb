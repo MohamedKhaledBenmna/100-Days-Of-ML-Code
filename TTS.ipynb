{
  "cells": [
    {
      "cell_type": "markdown",
      "metadata": {
        "id": "view-in-github",
        "colab_type": "text"
      },
      "source": [
        "<a href=\"https://colab.research.google.com/github/MohamedKhaledBenmna/100-Days-Of-ML-Code/blob/master/TTS.ipynb\" target=\"_parent\"><img src=\"https://colab.research.google.com/assets/colab-badge.svg\" alt=\"Open In Colab\"/></a>"
      ]
    },
    {
      "cell_type": "code",
      "execution_count": null,
      "metadata": {
        "colab": {
          "base_uri": "https://localhost:8080/"
        },
        "id": "y8-ZaFz-1a7B",
        "outputId": "29abd9f5-cf9d-4547-c1af-7576d79e724b"
      },
      "outputs": [
        {
          "name": "stdout",
          "output_type": "stream",
          "text": [
            "Looking in indexes: https://pypi.org/simple, https://us-python.pkg.dev/colab-wheels/public/simple/\n",
            "Requirement already satisfied: pip in /usr/local/lib/python3.7/dist-packages (21.1.3)\n",
            "Collecting pip\n",
            "  Downloading pip-22.3.1-py3-none-any.whl (2.1 MB)\n",
            "\u001b[K     |████████████████████████████████| 2.1 MB 41.5 MB/s \n",
            "\u001b[?25hInstalling collected packages: pip\n",
            "  Attempting uninstall: pip\n",
            "    Found existing installation: pip 21.1.3\n",
            "    Uninstalling pip-21.1.3:\n",
            "      Successfully uninstalled pip-21.1.3\n",
            "Successfully installed pip-22.3.1\n",
            "Looking in indexes: https://pypi.org/simple, https://us-python.pkg.dev/colab-wheels/public/simple/\n",
            "Collecting TTS\n",
            "  Downloading TTS-0.9.0-cp37-cp37m-manylinux1_x86_64.whl (566 kB)\n",
            "\u001b[2K     \u001b[90m━━━━━━━━━━━━━━━━━━━━━━━━━━━━━━━━━━━━━━\u001b[0m \u001b[32m566.2/566.2 kB\u001b[0m \u001b[31m20.2 MB/s\u001b[0m eta \u001b[36m0:00:00\u001b[0m\n",
            "\u001b[?25hCollecting pysbd\n",
            "  Downloading pysbd-0.3.4-py3-none-any.whl (71 kB)\n",
            "\u001b[2K     \u001b[90m━━━━━━━━━━━━━━━━━━━━━━━━━━━━━━━━━━━━━━━━\u001b[0m \u001b[32m71.1/71.1 kB\u001b[0m \u001b[31m9.1 MB/s\u001b[0m eta \u001b[36m0:00:00\u001b[0m\n",
            "\u001b[?25hCollecting pypinyin\n",
            "  Downloading pypinyin-0.47.1-py2.py3-none-any.whl (1.4 MB)\n",
            "\u001b[2K     \u001b[90m━━━━━━━━━━━━━━━━━━━━━━━━━━━━━━━━━━━━━━━━\u001b[0m \u001b[32m1.4/1.4 MB\u001b[0m \u001b[31m40.0 MB/s\u001b[0m eta \u001b[36m0:00:00\u001b[0m\n",
            "\u001b[?25hRequirement already satisfied: matplotlib in /usr/local/lib/python3.7/dist-packages (from TTS) (3.2.2)\n",
            "Requirement already satisfied: torchaudio in /usr/local/lib/python3.7/dist-packages (from TTS) (0.12.1+cu113)\n",
            "Collecting librosa==0.8.0\n",
            "  Downloading librosa-0.8.0.tar.gz (183 kB)\n",
            "\u001b[2K     \u001b[90m━━━━━━━━━━━━━━━━━━━━━━━━━━━━━━━━━━━━━━\u001b[0m \u001b[32m183.9/183.9 kB\u001b[0m \u001b[31m16.7 MB/s\u001b[0m eta \u001b[36m0:00:00\u001b[0m\n",
            "\u001b[?25h  Preparing metadata (setup.py) ... \u001b[?25l\u001b[?25hdone\n",
            "Collecting gruut[de]==2.2.3\n",
            "  Downloading gruut-2.2.3.tar.gz (73 kB)\n",
            "\u001b[2K     \u001b[90m━━━━━━━━━━━━━━━━━━━━━━━━━━━━━━━━━━━━━━━━\u001b[0m \u001b[32m73.5/73.5 kB\u001b[0m \u001b[31m4.9 MB/s\u001b[0m eta \u001b[36m0:00:00\u001b[0m\n",
            "\u001b[?25h  Preparing metadata (setup.py) ... \u001b[?25l\u001b[?25hdone\n",
            "Collecting jamo\n",
            "  Downloading jamo-0.4.1-py3-none-any.whl (9.5 kB)\n",
            "Collecting mecab-python3==1.0.5\n",
            "  Downloading mecab_python3-1.0.5-cp37-cp37m-manylinux_2_17_x86_64.manylinux2014_x86_64.whl (574 kB)\n",
            "\u001b[2K     \u001b[90m━━━━━━━━━━━━━━━━━━━━━━━━━━━━━━━━━━━━━━\u001b[0m \u001b[32m574.6/574.6 kB\u001b[0m \u001b[31m38.7 MB/s\u001b[0m eta \u001b[36m0:00:00\u001b[0m\n",
            "\u001b[?25hCollecting g2pkk>=0.1.1\n",
            "  Downloading g2pkk-0.1.2-py3-none-any.whl (25 kB)\n",
            "Collecting numba==0.55.1\n",
            "  Downloading numba-0.55.1-1-cp37-cp37m-manylinux2014_x86_64.manylinux_2_17_x86_64.whl (3.3 MB)\n",
            "\u001b[2K     \u001b[90m━━━━━━━━━━━━━━━━━━━━━━━━━━━━━━━━━━━━━━━━\u001b[0m \u001b[32m3.3/3.3 MB\u001b[0m \u001b[31m42.1 MB/s\u001b[0m eta \u001b[36m0:00:00\u001b[0m\n",
            "\u001b[?25hRequirement already satisfied: nltk in /usr/local/lib/python3.7/dist-packages (from TTS) (3.7)\n",
            "Requirement already satisfied: torch>=1.7 in /usr/local/lib/python3.7/dist-packages (from TTS) (1.12.1+cu113)\n",
            "Collecting umap-learn==0.5.1\n",
            "  Downloading umap-learn-0.5.1.tar.gz (80 kB)\n",
            "\u001b[2K     \u001b[90m━━━━━━━━━━━━━━━━━━━━━━━━━━━━━━━━━━━━━━━━\u001b[0m \u001b[32m80.9/80.9 kB\u001b[0m \u001b[31m10.2 MB/s\u001b[0m eta \u001b[36m0:00:00\u001b[0m\n",
            "\u001b[?25h  Preparing metadata (setup.py) ... \u001b[?25l\u001b[?25hdone\n",
            "Requirement already satisfied: jieba in /usr/local/lib/python3.7/dist-packages (from TTS) (0.42.1)\n",
            "Requirement already satisfied: pyyaml in /usr/local/lib/python3.7/dist-packages (from TTS) (6.0)\n",
            "Requirement already satisfied: tqdm in /usr/local/lib/python3.7/dist-packages (from TTS) (4.64.1)\n",
            "Requirement already satisfied: flask in /usr/local/lib/python3.7/dist-packages (from TTS) (1.1.4)\n",
            "Collecting inflect==5.6.0\n",
            "  Downloading inflect-5.6.0-py3-none-any.whl (33 kB)\n",
            "Collecting trainer\n",
            "  Downloading trainer-0.0.16-py3-none-any.whl (42 kB)\n",
            "\u001b[2K     \u001b[90m━━━━━━━━━━━━━━━━━━━━━━━━━━━━━━━━━━━━━━━━\u001b[0m \u001b[32m42.4/42.4 kB\u001b[0m \u001b[31m5.8 MB/s\u001b[0m eta \u001b[36m0:00:00\u001b[0m\n",
            "\u001b[?25hRequirement already satisfied: pandas in /usr/local/lib/python3.7/dist-packages (from TTS) (1.3.5)\n",
            "Collecting coqpit>=0.0.16\n",
            "  Downloading coqpit-0.0.16-py3-none-any.whl (13 kB)\n",
            "Collecting anyascii\n",
            "  Downloading anyascii-0.3.1-py3-none-any.whl (287 kB)\n",
            "\u001b[2K     \u001b[90m━━━━━━━━━━━━━━━━━━━━━━━━━━━━━━━━━━━━━━\u001b[0m \u001b[32m287.5/287.5 kB\u001b[0m \u001b[31m31.0 MB/s\u001b[0m eta \u001b[36m0:00:00\u001b[0m\n",
            "\u001b[?25hCollecting cython==0.29.28\n",
            "  Downloading Cython-0.29.28-cp37-cp37m-manylinux_2_17_x86_64.manylinux2014_x86_64.manylinux_2_24_x86_64.whl (1.9 MB)\n",
            "\u001b[2K     \u001b[90m━━━━━━━━━━━━━━━━━━━━━━━━━━━━━━━━━━━━━━━━\u001b[0m \u001b[32m1.9/1.9 MB\u001b[0m \u001b[31m72.0 MB/s\u001b[0m eta \u001b[36m0:00:00\u001b[0m\n",
            "\u001b[?25hRequirement already satisfied: scipy>=1.4.0 in /usr/local/lib/python3.7/dist-packages (from TTS) (1.7.3)\n",
            "Requirement already satisfied: fsspec>=2021.04.0 in /usr/local/lib/python3.7/dist-packages (from TTS) (2022.10.0)\n",
            "Requirement already satisfied: soundfile in /usr/local/lib/python3.7/dist-packages (from TTS) (0.11.0)\n",
            "Collecting unidic-lite==1.0.8\n",
            "  Downloading unidic-lite-1.0.8.tar.gz (47.4 MB)\n",
            "\u001b[2K     \u001b[90m━━━━━━━━━━━━━━━━━━━━━━━━━━━━━━━━━━━━━━━━\u001b[0m \u001b[32m47.4/47.4 MB\u001b[0m \u001b[31m17.5 MB/s\u001b[0m eta \u001b[36m0:00:00\u001b[0m\n",
            "\u001b[?25h  Preparing metadata (setup.py) ... \u001b[?25l\u001b[?25hdone\n",
            "Requirement already satisfied: numpy==1.21.6 in /usr/local/lib/python3.7/dist-packages (from TTS) (1.21.6)\n",
            "Requirement already satisfied: Babel<3.0.0,>=2.8.0 in /usr/local/lib/python3.7/dist-packages (from gruut[de]==2.2.3->TTS) (2.11.0)\n",
            "Collecting dateparser~=1.1.0\n",
            "  Downloading dateparser-1.1.3-py2.py3-none-any.whl (292 kB)\n",
            "\u001b[2K     \u001b[90m━━━━━━━━━━━━━━━━━━━━━━━━━━━━━━━━━━━━━━\u001b[0m \u001b[32m292.7/292.7 kB\u001b[0m \u001b[31m31.7 MB/s\u001b[0m eta \u001b[36m0:00:00\u001b[0m\n",
            "\u001b[?25hCollecting gruut-ipa<1.0,>=0.12.0\n",
            "  Downloading gruut-ipa-0.13.0.tar.gz (101 kB)\n",
            "\u001b[2K     \u001b[90m━━━━━━━━━━━━━━━━━━━━━━━━━━━━━━━━━━━━━━\u001b[0m \u001b[32m101.6/101.6 kB\u001b[0m \u001b[31m15.2 MB/s\u001b[0m eta \u001b[36m0:00:00\u001b[0m\n",
            "\u001b[?25h  Preparing metadata (setup.py) ... \u001b[?25l\u001b[?25hdone\n",
            "Collecting gruut_lang_en~=2.0.0\n",
            "  Downloading gruut_lang_en-2.0.0.tar.gz (15.2 MB)\n",
            "\u001b[2K     \u001b[90m━━━━━━━━━━━━━━━━━━━━━━━━━━━━━━━━━━━━━━━━\u001b[0m \u001b[32m15.2/15.2 MB\u001b[0m \u001b[31m96.6 MB/s\u001b[0m eta \u001b[36m0:00:00\u001b[0m\n",
            "\u001b[?25h  Preparing metadata (setup.py) ... \u001b[?25l\u001b[?25hdone\n",
            "Collecting jsonlines~=1.2.0\n",
            "  Downloading jsonlines-1.2.0-py2.py3-none-any.whl (7.6 kB)\n",
            "Requirement already satisfied: networkx<3.0.0,>=2.5.0 in /usr/local/lib/python3.7/dist-packages (from gruut[de]==2.2.3->TTS) (2.6.3)\n",
            "Collecting num2words<1.0.0,>=0.5.10\n",
            "  Downloading num2words-0.5.12-py3-none-any.whl (125 kB)\n",
            "\u001b[2K     \u001b[90m━━━━━━━━━━━━━━━━━━━━━━━━━━━━━━━━━━━━━━\u001b[0m \u001b[32m125.2/125.2 kB\u001b[0m \u001b[31m17.4 MB/s\u001b[0m eta \u001b[36m0:00:00\u001b[0m\n",
            "\u001b[?25hCollecting python-crfsuite~=0.9.7\n",
            "  Downloading python_crfsuite-0.9.8-cp37-cp37m-manylinux_2_17_x86_64.manylinux2014_x86_64.whl (965 kB)\n",
            "\u001b[2K     \u001b[90m━━━━━━━━━━━━━━━━━━━━━━━━━━━━━━━━━━━━━━\u001b[0m \u001b[32m965.4/965.4 kB\u001b[0m \u001b[31m67.7 MB/s\u001b[0m eta \u001b[36m0:00:00\u001b[0m\n",
            "\u001b[?25hRequirement already satisfied: importlib_resources in /usr/local/lib/python3.7/dist-packages (from gruut[de]==2.2.3->TTS) (5.10.0)\n",
            "Collecting gruut_lang_de~=2.0.0\n",
            "  Downloading gruut_lang_de-2.0.0.tar.gz (18.1 MB)\n",
            "\u001b[2K     \u001b[90m━━━━━━━━━━━━━━━━━━━━━━━━━━━━━━━━━━━━━━━━\u001b[0m \u001b[32m18.1/18.1 MB\u001b[0m \u001b[31m18.3 MB/s\u001b[0m eta \u001b[36m0:00:00\u001b[0m\n",
            "\u001b[?25h  Preparing metadata (setup.py) ... \u001b[?25l\u001b[?25hdone\n",
            "Requirement already satisfied: audioread>=2.0.0 in /usr/local/lib/python3.7/dist-packages (from librosa==0.8.0->TTS) (3.0.0)\n",
            "Requirement already satisfied: scikit-learn!=0.19.0,>=0.14.0 in /usr/local/lib/python3.7/dist-packages (from librosa==0.8.0->TTS) (1.0.2)\n",
            "Requirement already satisfied: joblib>=0.14 in /usr/local/lib/python3.7/dist-packages (from librosa==0.8.0->TTS) (1.2.0)\n",
            "Requirement already satisfied: decorator>=3.0.0 in /usr/local/lib/python3.7/dist-packages (from librosa==0.8.0->TTS) (4.4.2)\n",
            "Requirement already satisfied: resampy>=0.2.2 in /usr/local/lib/python3.7/dist-packages (from librosa==0.8.0->TTS) (0.4.2)\n",
            "Requirement already satisfied: pooch>=1.0 in /usr/local/lib/python3.7/dist-packages (from librosa==0.8.0->TTS) (1.6.0)\n",
            "Collecting llvmlite<0.39,>=0.38.0rc1\n",
            "  Downloading llvmlite-0.38.1-cp37-cp37m-manylinux_2_17_x86_64.manylinux2014_x86_64.whl (34.5 MB)\n",
            "\u001b[2K     \u001b[90m━━━━━━━━━━━━━━━━━━━━━━━━━━━━━━━━━━━━━━━━\u001b[0m \u001b[32m34.5/34.5 MB\u001b[0m \u001b[31m18.9 MB/s\u001b[0m eta \u001b[36m0:00:00\u001b[0m\n",
            "\u001b[?25hRequirement already satisfied: setuptools in /usr/local/lib/python3.7/dist-packages (from numba==0.55.1->TTS) (57.4.0)\n",
            "Collecting pynndescent>=0.5\n",
            "  Downloading pynndescent-0.5.8.tar.gz (1.1 MB)\n",
            "\u001b[2K     \u001b[90m━━━━━━━━━━━━━━━━━━━━━━━━━━━━━━━━━━━━━━━━\u001b[0m \u001b[32m1.1/1.1 MB\u001b[0m \u001b[31m63.0 MB/s\u001b[0m eta \u001b[36m0:00:00\u001b[0m\n",
            "\u001b[?25h  Preparing metadata (setup.py) ... \u001b[?25l\u001b[?25hdone\n",
            "Requirement already satisfied: cffi>=1.0 in /usr/local/lib/python3.7/dist-packages (from soundfile->TTS) (1.15.1)\n",
            "Requirement already satisfied: typing-extensions in /usr/local/lib/python3.7/dist-packages (from torch>=1.7->TTS) (4.1.1)\n",
            "Requirement already satisfied: Jinja2<3.0,>=2.10.1 in /usr/local/lib/python3.7/dist-packages (from flask->TTS) (2.11.3)\n",
            "Requirement already satisfied: itsdangerous<2.0,>=0.24 in /usr/local/lib/python3.7/dist-packages (from flask->TTS) (1.1.0)\n",
            "Requirement already satisfied: Werkzeug<2.0,>=0.15 in /usr/local/lib/python3.7/dist-packages (from flask->TTS) (1.0.1)\n",
            "Requirement already satisfied: click<8.0,>=5.1 in /usr/local/lib/python3.7/dist-packages (from flask->TTS) (7.1.2)\n",
            "Requirement already satisfied: cycler>=0.10 in /usr/local/lib/python3.7/dist-packages (from matplotlib->TTS) (0.11.0)\n",
            "Requirement already satisfied: python-dateutil>=2.1 in /usr/local/lib/python3.7/dist-packages (from matplotlib->TTS) (2.8.2)\n",
            "Requirement already satisfied: kiwisolver>=1.0.1 in /usr/local/lib/python3.7/dist-packages (from matplotlib->TTS) (1.4.4)\n",
            "Requirement already satisfied: pyparsing!=2.0.4,!=2.1.2,!=2.1.6,>=2.0.1 in /usr/local/lib/python3.7/dist-packages (from matplotlib->TTS) (3.0.9)\n",
            "Requirement already satisfied: regex>=2021.8.3 in /usr/local/lib/python3.7/dist-packages (from nltk->TTS) (2022.6.2)\n",
            "Requirement already satisfied: pytz>=2017.3 in /usr/local/lib/python3.7/dist-packages (from pandas->TTS) (2022.6)\n",
            "Collecting tensorboardX\n",
            "  Downloading tensorboardX-2.5.1-py2.py3-none-any.whl (125 kB)\n",
            "\u001b[2K     \u001b[90m━━━━━━━━━━━━━━━━━━━━━━━━━━━━━━━━━━━━━━\u001b[0m \u001b[32m125.4/125.4 kB\u001b[0m \u001b[31m17.2 MB/s\u001b[0m eta \u001b[36m0:00:00\u001b[0m\n",
            "\u001b[?25hRequirement already satisfied: protobuf<3.20,>=3.9.2 in /usr/local/lib/python3.7/dist-packages (from trainer->TTS) (3.19.6)\n",
            "Requirement already satisfied: pycparser in /usr/local/lib/python3.7/dist-packages (from cffi>=1.0->soundfile->TTS) (2.21)\n",
            "Requirement already satisfied: tzlocal in /usr/local/lib/python3.7/dist-packages (from dateparser~=1.1.0->gruut[de]==2.2.3->TTS) (1.5.1)\n",
            "Collecting regex>=2021.8.3\n",
            "  Downloading regex-2022.3.2-cp37-cp37m-manylinux_2_17_x86_64.manylinux2014_x86_64.whl (749 kB)\n",
            "\u001b[2K     \u001b[90m━━━━━━━━━━━━━━━━━━━━━━━━━━━━━━━━━━━━━━\u001b[0m \u001b[32m749.3/749.3 kB\u001b[0m \u001b[31m53.5 MB/s\u001b[0m eta \u001b[36m0:00:00\u001b[0m\n",
            "\u001b[?25hRequirement already satisfied: MarkupSafe>=0.23 in /usr/local/lib/python3.7/dist-packages (from Jinja2<3.0,>=2.10.1->flask->TTS) (2.0.1)\n",
            "Requirement already satisfied: six in /usr/local/lib/python3.7/dist-packages (from jsonlines~=1.2.0->gruut[de]==2.2.3->TTS) (1.15.0)\n",
            "Collecting docopt>=0.6.2\n",
            "  Downloading docopt-0.6.2.tar.gz (25 kB)\n",
            "  Preparing metadata (setup.py) ... \u001b[?25l\u001b[?25hdone\n",
            "Requirement already satisfied: packaging>=20.0 in /usr/local/lib/python3.7/dist-packages (from pooch>=1.0->librosa==0.8.0->TTS) (21.3)\n",
            "Requirement already satisfied: appdirs>=1.3.0 in /usr/local/lib/python3.7/dist-packages (from pooch>=1.0->librosa==0.8.0->TTS) (1.4.4)\n",
            "Requirement already satisfied: requests>=2.19.0 in /usr/local/lib/python3.7/dist-packages (from pooch>=1.0->librosa==0.8.0->TTS) (2.23.0)\n",
            "Requirement already satisfied: importlib-metadata>=4.8.1 in /usr/local/lib/python3.7/dist-packages (from pynndescent>=0.5->umap-learn==0.5.1->TTS) (4.13.0)\n",
            "Requirement already satisfied: threadpoolctl>=2.0.0 in /usr/local/lib/python3.7/dist-packages (from scikit-learn!=0.19.0,>=0.14.0->librosa==0.8.0->TTS) (3.1.0)\n",
            "Requirement already satisfied: zipp>=3.1.0 in /usr/local/lib/python3.7/dist-packages (from importlib_resources->gruut[de]==2.2.3->TTS) (3.10.0)\n",
            "Requirement already satisfied: idna<3,>=2.5 in /usr/local/lib/python3.7/dist-packages (from requests>=2.19.0->pooch>=1.0->librosa==0.8.0->TTS) (2.10)\n",
            "Requirement already satisfied: chardet<4,>=3.0.2 in /usr/local/lib/python3.7/dist-packages (from requests>=2.19.0->pooch>=1.0->librosa==0.8.0->TTS) (3.0.4)\n",
            "Requirement already satisfied: urllib3!=1.25.0,!=1.25.1,<1.26,>=1.21.1 in /usr/local/lib/python3.7/dist-packages (from requests>=2.19.0->pooch>=1.0->librosa==0.8.0->TTS) (1.24.3)\n",
            "Requirement already satisfied: certifi>=2017.4.17 in /usr/local/lib/python3.7/dist-packages (from requests>=2.19.0->pooch>=1.0->librosa==0.8.0->TTS) (2022.9.24)\n",
            "Building wheels for collected packages: librosa, umap-learn, unidic-lite, gruut-ipa, gruut_lang_de, gruut_lang_en, pynndescent, gruut, docopt\n",
            "  Building wheel for librosa (setup.py) ... \u001b[?25l\u001b[?25hdone\n",
            "  Created wheel for librosa: filename=librosa-0.8.0-py3-none-any.whl size=201396 sha256=2bfaa241a5e529947c6bd877cf73c2cb9fb8b052cff512444b5121fdd1e730b1\n",
            "  Stored in directory: /root/.cache/pip/wheels/ac/49/db/6c8ccdd322ac8b4de974b76475cacd1f6922eb9304538a9a80\n",
            "  Building wheel for umap-learn (setup.py) ... \u001b[?25l\u001b[?25hdone\n",
            "  Created wheel for umap-learn: filename=umap_learn-0.5.1-py3-none-any.whl size=76566 sha256=4812daaffb8df658ab64416cfb70fce6f392075f5b14497625d2218cfc41c815\n",
            "  Stored in directory: /root/.cache/pip/wheels/b2/19/d5/22acf48203401bd639fccacb6e6083739f74b19918d149131b\n",
            "  Building wheel for unidic-lite (setup.py) ... \u001b[?25l\u001b[?25hdone\n",
            "  Created wheel for unidic-lite: filename=unidic_lite-1.0.8-py3-none-any.whl size=47658837 sha256=16ca8d1d21669461a3d0826505deeeae04a391c3183ae326b39bf8bf0eda5fc4\n",
            "  Stored in directory: /root/.cache/pip/wheels/33/ce/1e/cf1cf1aa91ddbe5d05d7dd349a2da342a17e453c8216b23c14\n",
            "  Building wheel for gruut-ipa (setup.py) ... \u001b[?25l\u001b[?25hdone\n",
            "  Created wheel for gruut-ipa: filename=gruut_ipa-0.13.0-py3-none-any.whl size=104894 sha256=dc457efb13b80d0767f695fb5c19eb8460da8afa04ed5f5c0bb4667e02db5597\n",
            "  Stored in directory: /root/.cache/pip/wheels/4a/8d/c7/80723afa80e62b8435331fe77ca43585a88fe82d5650e409c9\n",
            "  Building wheel for gruut_lang_de (setup.py) ... \u001b[?25l\u001b[?25hdone\n",
            "  Created wheel for gruut_lang_de: filename=gruut_lang_de-2.0.0-py3-none-any.whl size=18498203 sha256=6cd65d64f20bb865ffe2b00ddbd4b1a787f210143277ed849320c58b8bdc0b95\n",
            "  Stored in directory: /root/.cache/pip/wheels/8b/8c/d4/ad39c4d7fdff49cc9dd2ad295b8c359a9c59bcaa4ad7f2a3bb\n",
            "  Building wheel for gruut_lang_en (setup.py) ... \u001b[?25l\u001b[?25hdone\n",
            "  Created wheel for gruut_lang_en: filename=gruut_lang_en-2.0.0-py3-none-any.whl size=15297197 sha256=c68c794be6aa4b9be84c598fd968fb6cc4920c716ef0f2a2df4e1fe8b6238cbb\n",
            "  Stored in directory: /root/.cache/pip/wheels/62/5f/10/456289066a1bb4cac1538877c1b0de221be0e28d934c18081a\n",
            "  Building wheel for pynndescent (setup.py) ... \u001b[?25l\u001b[?25hdone\n",
            "  Created wheel for pynndescent: filename=pynndescent-0.5.8-py3-none-any.whl size=55509 sha256=e98b38b817d2b772da589ddb32a088d5006dca12d2843b61ee436fbd681a91ae\n",
            "  Stored in directory: /root/.cache/pip/wheels/2b/c5/9f/b5a0c7c48c7aaa3b26a04885de5a50d4fe0c2e69fb5a77c8ce\n",
            "  Building wheel for gruut (setup.py) ... \u001b[?25l\u001b[?25hdone\n",
            "  Created wheel for gruut: filename=gruut-2.2.3-py3-none-any.whl size=75818 sha256=acbfb43560f0e2acd5b5dcb4bebcf1b5527f7866841cc33e9de3fbf0078a14ae\n",
            "  Stored in directory: /root/.cache/pip/wheels/cf/b1/7f/b9ce35a17f7d99958832771dcac44b385772061ecca5df2b29\n",
            "  Building wheel for docopt (setup.py) ... \u001b[?25l\u001b[?25hdone\n",
            "  Created wheel for docopt: filename=docopt-0.6.2-py2.py3-none-any.whl size=13723 sha256=b4776e9982c9e4d6f53f578449dd62fa677ba11bd5822b1923826dc81ca7e51b\n",
            "  Stored in directory: /root/.cache/pip/wheels/1f/e0/34/704e15d0b49f199ac74a2757d018d428ad4cf119c078c80f16\n",
            "Successfully built librosa umap-learn unidic-lite gruut-ipa gruut_lang_de gruut_lang_en pynndescent gruut docopt\n",
            "Installing collected packages: unidic-lite, python-crfsuite, mecab-python3, jamo, gruut_lang_en, gruut_lang_de, docopt, tensorboardX, regex, pysbd, pypinyin, num2words, llvmlite, jsonlines, inflect, gruut-ipa, cython, coqpit, anyascii, numba, dateparser, trainer, pynndescent, gruut, g2pkk, umap-learn, librosa, TTS\n",
            "  Attempting uninstall: regex\n",
            "    Found existing installation: regex 2022.6.2\n",
            "    Uninstalling regex-2022.6.2:\n",
            "      Successfully uninstalled regex-2022.6.2\n",
            "  Attempting uninstall: llvmlite\n",
            "    Found existing installation: llvmlite 0.39.1\n",
            "    Uninstalling llvmlite-0.39.1:\n",
            "      Successfully uninstalled llvmlite-0.39.1\n",
            "  Attempting uninstall: inflect\n",
            "    Found existing installation: inflect 2.1.0\n",
            "    Uninstalling inflect-2.1.0:\n",
            "      Successfully uninstalled inflect-2.1.0\n",
            "  Attempting uninstall: cython\n",
            "    Found existing installation: Cython 0.29.32\n",
            "    Uninstalling Cython-0.29.32:\n",
            "      Successfully uninstalled Cython-0.29.32\n",
            "  Attempting uninstall: numba\n",
            "    Found existing installation: numba 0.56.4\n",
            "    Uninstalling numba-0.56.4:\n",
            "      Successfully uninstalled numba-0.56.4\n",
            "  Attempting uninstall: librosa\n",
            "    Found existing installation: librosa 0.8.1\n",
            "    Uninstalling librosa-0.8.1:\n",
            "      Successfully uninstalled librosa-0.8.1\n",
            "Successfully installed TTS-0.9.0 anyascii-0.3.1 coqpit-0.0.16 cython-0.29.28 dateparser-1.1.3 docopt-0.6.2 g2pkk-0.1.2 gruut-2.2.3 gruut-ipa-0.13.0 gruut_lang_de-2.0.0 gruut_lang_en-2.0.0 inflect-5.6.0 jamo-0.4.1 jsonlines-1.2.0 librosa-0.8.0 llvmlite-0.38.1 mecab-python3-1.0.5 num2words-0.5.12 numba-0.55.1 pynndescent-0.5.8 pypinyin-0.47.1 pysbd-0.3.4 python-crfsuite-0.9.8 regex-2022.3.2 tensorboardX-2.5.1 trainer-0.0.16 umap-learn-0.5.1 unidic-lite-1.0.8\n",
            "\u001b[33mWARNING: Running pip as the 'root' user can result in broken permissions and conflicting behaviour with the system package manager. It is recommended to use a virtual environment instead: https://pip.pypa.io/warnings/venv\u001b[0m\u001b[33m\n",
            "\u001b[0m"
          ]
        }
      ],
      "source": [
        "! pip install -U pip\n",
        "! pip install TTS"
      ]
    },
    {
      "cell_type": "code",
      "execution_count": null,
      "metadata": {
        "id": "m3Q6cbRS2xzM"
      },
      "outputs": [],
      "source": [
        "import os\n",
        "\n",
        "# BaseDatasetConfig: defines name, formatter and path of the dataset.\n",
        "from TTS.tts.configs.shared_configs import BaseDatasetConfig\n",
        "\n",
        "output_path = \"tts_train_dir\"\n",
        "if not os.path.exists(output_path):\n",
        "    os.makedirs(output_path)\n",
        "    "
      ]
    },
    {
      "cell_type": "code",
      "execution_count": null,
      "metadata": {
        "colab": {
          "base_uri": "https://localhost:8080/"
        },
        "id": "LdG0QS693YKp",
        "outputId": "f0795adf-869b-440c-baf0-d849a652f8ef"
      },
      "outputs": [
        {
          "name": "stdout",
          "output_type": "stream",
          "text": [
            "--2022-11-17 08:27:55--  https://data.keithito.com/data/speech/LJSpeech-1.1.tar.bz2\n",
            "Resolving data.keithito.com (data.keithito.com)... 174.138.79.61\n",
            "Connecting to data.keithito.com (data.keithito.com)|174.138.79.61|:443... connected.\n",
            "HTTP request sent, awaiting response... 200 OK\n",
            "Length: 2748572632 (2.6G) [application/octet-stream]\n",
            "Saving to: ‘tts_train_dir/LJSpeech-1.1.tar.bz2’\n",
            "\n",
            "tts_train_dir/LJSpe 100%[===================>]   2.56G   144MB/s    in 19s     \n",
            "\n",
            "2022-11-17 08:28:14 (136 MB/s) - ‘tts_train_dir/LJSpeech-1.1.tar.bz2’ saved [2748572632/2748572632]\n",
            "\n"
          ]
        }
      ],
      "source": [
        "!wget -O $output_path/LJSpeech-1.1.tar.bz2 https://data.keithito.com/data/speech/LJSpeech-1.1.tar.bz2 \n",
        "!tar -xf $output_path/LJSpeech-1.1.tar.bz2 -C $output_path"
      ]
    },
    {
      "cell_type": "code",
      "execution_count": null,
      "metadata": {
        "id": "3u2Op4Hi7Ewq"
      },
      "outputs": [],
      "source": [
        "import pandas as pd\n",
        "df = pd.read_csv( \"/content/tts_train_dir/LJSpeech-1.1/metadata.csv\", on_bad_lines=\"skip\", sep = \"|\")\n",
        "df.head(10)\n",
        "newdf= df.iloc[0:100, :]\n",
        "from pathlib import Path  \n",
        "filepath = Path('/content/tts_train_dir/LJSpeech-1.1/out.csv')  \n",
        "newdf.to_csv(\"/content/tts_train_dir/LJSpeech-1.1/out.csv\", index= False , sep = \"|\" )\n",
        "\n",
        "dataset_config = BaseDatasetConfig(  meta_file_train=\"out.csv\", path=os.path.join(output_path, \"LJSpeech-1.1/\")\n",
        ", formatter=\"ljspeech\")\n"
      ]
    },
    {
      "cell_type": "code",
      "execution_count": null,
      "metadata": {
        "id": "FIXA2pia7MZ3"
      },
      "outputs": [],
      "source": [
        "# GlowTTSConfig: all model related values for training, validating and testing.\n",
        "from TTS.tts.configs.glow_tts_config import GlowTTSConfig\n",
        "config = GlowTTSConfig(\n",
        "    batch_size=32,\n",
        "    eval_batch_size=16,\n",
        "    num_loader_workers=4,\n",
        "    num_eval_loader_workers=4,\n",
        "    run_eval=True,\n",
        "    test_delay_epochs=-1,\n",
        "    epochs=100,\n",
        "    text_cleaner=\"phoneme_cleaners\",\n",
        "    use_phonemes=True,\n",
        "    phoneme_language=\"en-us\",\n",
        "    phoneme_cache_path=os.path.join(output_path, \"phoneme_cache\"),\n",
        "    print_step=25,\n",
        "    print_eval=False,\n",
        "    mixed_precision=True,\n",
        "    output_path=output_path,\n",
        "    datasets=[dataset_config],\n",
        "    save_step=1000,\n",
        ")"
      ]
    },
    {
      "cell_type": "code",
      "execution_count": null,
      "metadata": {
        "colab": {
          "base_uri": "https://localhost:8080/"
        },
        "id": "lQbtuN0Y8nts",
        "outputId": "00cb1c08-24b6-4091-dc51-fa72ddbb8bb2"
      },
      "outputs": [
        {
          "name": "stdout",
          "output_type": "stream",
          "text": [
            " > Setting up Audio Processor...\n",
            " | > sample_rate:22050\n",
            " | > resample:False\n",
            " | > num_mels:80\n",
            " | > log_func:np.log10\n",
            " | > min_level_db:-100\n",
            " | > frame_shift_ms:None\n",
            " | > frame_length_ms:None\n",
            " | > ref_level_db:20\n",
            " | > fft_size:1024\n",
            " | > power:1.5\n",
            " | > preemphasis:0.0\n",
            " | > griffin_lim_iters:60\n",
            " | > signal_norm:True\n",
            " | > symmetric_norm:True\n",
            " | > mel_fmin:0\n",
            " | > mel_fmax:None\n",
            " | > pitch_fmin:1.0\n",
            " | > pitch_fmax:640.0\n",
            " | > spec_gain:20.0\n",
            " | > stft_pad_mode:reflect\n",
            " | > max_norm:4.0\n",
            " | > clip_norm:True\n",
            " | > do_trim_silence:True\n",
            " | > trim_db:45\n",
            " | > do_sound_norm:False\n",
            " | > do_amp_to_db_linear:True\n",
            " | > do_amp_to_db_mel:True\n",
            " | > do_rms_norm:False\n",
            " | > db_level:None\n",
            " | > stats_path:None\n",
            " | > base:10\n",
            " | > hop_length:256\n",
            " | > win_length:1024\n"
          ]
        }
      ],
      "source": [
        "from TTS.utils.audio import AudioProcessor\n",
        "ap = AudioProcessor.init_from_config(config)"
      ]
    },
    {
      "cell_type": "code",
      "execution_count": null,
      "metadata": {
        "id": "M2hAWTnl93rK"
      },
      "outputs": [],
      "source": [
        "from TTS.tts.utils.text.tokenizer import TTSTokenizer\n",
        "tokenizer, config = TTSTokenizer.init_from_config(config)"
      ]
    },
    {
      "cell_type": "code",
      "execution_count": null,
      "metadata": {
        "colab": {
          "base_uri": "https://localhost:8080/"
        },
        "id": "NK3qcmH4-W6o",
        "outputId": "595131b0-de7c-4e7c-98ff-cd06d7ffcf31"
      },
      "outputs": [
        {
          "name": "stdout",
          "output_type": "stream",
          "text": [
            " | > Found 101 files in /content/tts_train_dir/LJSpeech-1.1\n"
          ]
        }
      ],
      "source": [
        "from TTS.tts.datasets import *\n",
        "train_samples, eval_samples = load_tts_samples(\n",
        "    dataset_config,\n",
        "    eval_split=True,\n",
        "    eval_split_max_size=config.eval_split_max_size,\n",
        "     eval_split_size=config.eval_split_size,\n",
        ")"
      ]
    },
    {
      "cell_type": "code",
      "execution_count": null,
      "metadata": {
        "id": "Jch5cARZ-lqK"
      },
      "outputs": [],
      "source": [
        "from TTS.tts.models.glow_tts import GlowTTS\n",
        "model = GlowTTS(config, ap, tokenizer, speaker_manager=None)"
      ]
    },
    {
      "cell_type": "code",
      "execution_count": null,
      "metadata": {
        "colab": {
          "base_uri": "https://localhost:8080/"
        },
        "id": "rlX60lsW_Jqa",
        "outputId": "44976a7b-18dd-4406-c738-ecda728f0e9a"
      },
      "outputs": [
        {
          "name": "stderr",
          "output_type": "stream",
          "text": [
            " > Training Environment:\n",
            " | > Num. of CPUs: 2\n",
            " | > Num. of Torch Threads: 1\n",
            " | > Torch seed: 54321\n",
            " | > Torch CUDNN: True\n",
            " | > Torch CUDNN deterministic: False\n",
            " | > Torch CUDNN benchmark: False\n",
            "\n",
            " > Model has 28610257 parameters\n"
          ]
        }
      ],
      "source": [
        "from trainer import Trainer, TrainerArgs\n",
        "trainer = Trainer(\n",
        "    TrainerArgs(), config, output_path, model=model, train_samples=train_samples, eval_samples=eval_samples\n",
        ")"
      ]
    },
    {
      "cell_type": "code",
      "execution_count": 45,
      "metadata": {
        "colab": {
          "base_uri": "https://localhost:8080/"
        },
        "id": "zd6c6sh4_gGO",
        "outputId": "59a7dd88-f85d-4ccb-d906-99af5c6644e0"
      },
      "outputs": [
        {
          "metadata": {
            "tags": null
          },
          "name": "stderr",
          "output_type": "stream",
          "text": [
            "\n",
            "\u001b[4m\u001b[1m > EPOCH: 0/100\u001b[0m\n",
            " --> tts_train_dir/run-November-17-2022_09+42AM-0000000\n"
          ]
        },
        {
          "metadata": {
            "tags": null
          },
          "name": "stdout",
          "output_type": "stream",
          "text": [
            "[*] Pre-computing phonemes...\n"
          ]
        },
        {
          "metadata": {
            "tags": null
          },
          "name": "stderr",
          "output_type": "stream",
          "text": [
            "  2%|▏         | 2/100 [00:00<00:42,  2.32it/s]"
          ]
        },
        {
          "metadata": {
            "tags": null
          },
          "name": "stdout",
          "output_type": "stream",
          "text": [
            "fɚ ðə sɛvəntinθ sɛnt͡ʃɚi lɛtɚz ɑɹ æt list pjʊɹ ænd sɪmpəl ɪn laɪn. ðə ɪtæliən, boʊdəni, ænd ðə fɹɛnt͡ʃmæn, dɪdət,\n",
            " [!] Character '͡' not found in the vocabulary. Discarding it.\n"
          ]
        },
        {
          "metadata": {
            "tags": null
          },
          "name": "stderr",
          "output_type": "stream",
          "text": [
            "100%|██████████| 100/100 [00:07<00:00, 13.84it/s]\n",
            "/usr/local/lib/python3.7/dist-packages/torch/utils/data/dataloader.py:566: UserWarning: This DataLoader will create 4 worker processes in total. Our suggested max number of worker in current system is 2, which is smaller than what this DataLoader is going to create. Please be aware that excessive worker creation might get DataLoader running slow or even freeze, lower the worker number to avoid potential slowness/freeze if necessary.\n",
            "  cpuset_checked))\n",
            "\n",
            "\u001b[1m > TRAINING (2022-11-17 09:42:28) \u001b[0m\n"
          ]
        },
        {
          "metadata": {
            "tags": null
          },
          "name": "stdout",
          "output_type": "stream",
          "text": [
            "\n",
            "\n",
            "> DataLoader initialization\n",
            "| > Tokenizer:\n",
            "\t| > add_blank: False\n",
            "\t| > use_eos_bos: False\n",
            "\t| > use_phonemes: True\n",
            "\t| > phonemizer:\n",
            "\t\t| > phoneme language: en-us\n",
            "\t\t| > phoneme backend: gruut\n",
            "\t| > 1 not found characters:\n",
            "\t| > ͡\n",
            "| > Number of instances : 100\n",
            " | > Preprocessing samples\n",
            " | > Max text length: 169\n",
            " | > Min text length: 26\n",
            " | > Avg text length: 100.83\n",
            " | \n",
            " | > Max audio length: 219315.0\n",
            " | > Min audio length: 39347.0\n",
            " | > Avg audio length: 145581.88\n",
            " | > Num. instances discarded samples: 0\n",
            " | > Batch group size: 0.\n"
          ]
        },
        {
          "metadata": {
            "tags": null
          },
          "name": "stderr",
          "output_type": "stream",
          "text": [
            "/usr/local/lib/python3.7/dist-packages/torch/amp/autocast_mode.py:198: UserWarning: User provided device_type of 'cuda', but CUDA is not available. Disabling\n",
            "  warnings.warn('User provided device_type of \\'cuda\\', but CUDA is not available. Disabling')\n",
            "\n",
            "\u001b[1m   --> STEP: 0/4 -- GLOBAL_STEP: 0\u001b[0m\n",
            "     | > current_lr: 0.00000 \n",
            "     | > step_time: 13.16270  (13.16267)\n",
            "     | > loader_time: 2.48790  (2.48788)\n",
            "\n",
            "/usr/local/lib/python3.7/dist-packages/torch/optim/lr_scheduler.py:136: UserWarning: Detected call of `lr_scheduler.step()` before `optimizer.step()`. In PyTorch 1.1.0 and later, you should call them in the opposite order: `optimizer.step()` before `lr_scheduler.step()`.  Failure to do this will result in PyTorch skipping the first value of the learning rate schedule. See more details at https://pytorch.org/docs/stable/optim.html#how-to-adjust-learning-rate\n",
            "  \"https://pytorch.org/docs/stable/optim.html#how-to-adjust-learning-rate\", UserWarning)\n",
            "\n",
            "\u001b[1m > EVALUATION \u001b[0m\n",
            "\n"
          ]
        },
        {
          "metadata": {
            "tags": null
          },
          "name": "stdout",
          "output_type": "stream",
          "text": [
            "\n",
            "\n",
            "> DataLoader initialization\n",
            "| > Tokenizer:\n",
            "\t| > add_blank: False\n",
            "\t| > use_eos_bos: False\n",
            "\t| > use_phonemes: True\n",
            "\t| > phonemizer:\n",
            "\t\t| > phoneme language: en-us\n",
            "\t\t| > phoneme backend: gruut\n",
            "\t| > 1 not found characters:\n",
            "\t| > ͡\n",
            "| > Number of instances : 1\n",
            " | > Preprocessing samples\n",
            " | > Max text length: 140\n",
            " | > Min text length: 140\n",
            " | > Avg text length: 140.0\n",
            " | \n",
            " | > Max audio length: 212659.0\n",
            " | > Min audio length: 212659.0\n",
            " | > Avg audio length: 212659.0\n",
            " | > Num. instances discarded samples: 0\n",
            " | > Batch group size: 0.\n",
            " | > Synthesizing test sentences.\n"
          ]
        },
        {
          "metadata": {
            "tags": null
          },
          "name": "stderr",
          "output_type": "stream",
          "text": [
            "\n",
            "  \u001b[1m--> EVAL PERFORMANCE\u001b[0m\n",
            "     | > avg_loader_time: 0.17451 \u001b[0m(+0.00000)\n",
            "     | > avg_loss: 3.39863 \u001b[0m(+0.00000)\n",
            "     | > avg_log_mle: 0.78679 \u001b[0m(+0.00000)\n",
            "     | > avg_loss_dur: 2.61184 \u001b[0m(+0.00000)\n",
            "\n",
            " > BEST MODEL : tts_train_dir/run-November-17-2022_09+42AM-0000000/best_model_4.pth\n",
            "\n",
            "\u001b[4m\u001b[1m > EPOCH: 1/100\u001b[0m\n",
            " --> tts_train_dir/run-November-17-2022_09+42AM-0000000\n",
            "/usr/local/lib/python3.7/dist-packages/torch/utils/data/dataloader.py:566: UserWarning: This DataLoader will create 4 worker processes in total. Our suggested max number of worker in current system is 2, which is smaller than what this DataLoader is going to create. Please be aware that excessive worker creation might get DataLoader running slow or even freeze, lower the worker number to avoid potential slowness/freeze if necessary.\n",
            "  cpuset_checked))\n",
            "\n",
            "\u001b[1m > TRAINING (2022-11-17 09:43:19) \u001b[0m\n"
          ]
        },
        {
          "metadata": {
            "tags": null
          },
          "name": "stdout",
          "output_type": "stream",
          "text": [
            "\n",
            "\n",
            "> DataLoader initialization\n",
            "| > Tokenizer:\n",
            "\t| > add_blank: False\n",
            "\t| > use_eos_bos: False\n",
            "\t| > use_phonemes: True\n",
            "\t| > phonemizer:\n",
            "\t\t| > phoneme language: en-us\n",
            "\t\t| > phoneme backend: gruut\n",
            "\t| > 1 not found characters:\n",
            "\t| > ͡\n",
            "| > Number of instances : 100\n",
            " | > Preprocessing samples\n",
            " | > Max text length: 169\n",
            " | > Min text length: 26\n",
            " | > Avg text length: 100.83\n",
            " | \n",
            " | > Max audio length: 219315.0\n",
            " | > Min audio length: 39347.0\n",
            " | > Avg audio length: 145581.88\n",
            " | > Num. instances discarded samples: 0\n",
            " | > Batch group size: 0.\n"
          ]
        },
        {
          "metadata": {
            "tags": null
          },
          "name": "stderr",
          "output_type": "stream",
          "text": [
            "/usr/local/lib/python3.7/dist-packages/torch/amp/autocast_mode.py:198: UserWarning: User provided device_type of 'cuda', but CUDA is not available. Disabling\n",
            "  warnings.warn('User provided device_type of \\'cuda\\', but CUDA is not available. Disabling')\n",
            "\n",
            "\u001b[1m > EVALUATION \u001b[0m\n",
            "\n"
          ]
        },
        {
          "metadata": {
            "tags": null
          },
          "name": "stdout",
          "output_type": "stream",
          "text": [
            "\n",
            "\n",
            "> DataLoader initialization\n",
            "| > Tokenizer:\n",
            "\t| > add_blank: False\n",
            "\t| > use_eos_bos: False\n",
            "\t| > use_phonemes: True\n",
            "\t| > phonemizer:\n",
            "\t\t| > phoneme language: en-us\n",
            "\t\t| > phoneme backend: gruut\n",
            "\t| > 1 not found characters:\n",
            "\t| > ͡\n",
            "| > Number of instances : 1\n",
            " | > Preprocessing samples\n",
            " | > Max text length: 140\n",
            " | > Min text length: 140\n",
            " | > Avg text length: 140.0\n",
            " | \n",
            " | > Max audio length: 212659.0\n",
            " | > Min audio length: 212659.0\n",
            " | > Avg audio length: 212659.0\n",
            " | > Num. instances discarded samples: 0\n",
            " | > Batch group size: 0.\n",
            " | > Synthesizing test sentences.\n"
          ]
        },
        {
          "metadata": {
            "tags": null
          },
          "name": "stderr",
          "output_type": "stream",
          "text": [
            "\n",
            "  \u001b[1m--> EVAL PERFORMANCE\u001b[0m\n",
            "     | > avg_loader_time:\u001b[92m 0.10147 \u001b[0m(-0.07305)\n",
            "     | > avg_loss:\u001b[91m 3.40576 \u001b[0m(+0.00713)\n",
            "     | > avg_log_mle:\u001b[92m 0.78338 \u001b[0m(-0.00342)\n",
            "     | > avg_loss_dur:\u001b[91m 2.62239 \u001b[0m(+0.01055)\n",
            "\n",
            "\n",
            "\u001b[4m\u001b[1m > EPOCH: 2/100\u001b[0m\n",
            " --> tts_train_dir/run-November-17-2022_09+42AM-0000000\n",
            "\n",
            "\u001b[1m > TRAINING (2022-11-17 09:44:07) \u001b[0m\n"
          ]
        },
        {
          "metadata": {
            "tags": null
          },
          "name": "stdout",
          "output_type": "stream",
          "text": [
            "\n",
            "\n",
            "> DataLoader initialization\n",
            "| > Tokenizer:\n",
            "\t| > add_blank: False\n",
            "\t| > use_eos_bos: False\n",
            "\t| > use_phonemes: True\n",
            "\t| > phonemizer:\n",
            "\t\t| > phoneme language: en-us\n",
            "\t\t| > phoneme backend: gruut\n",
            "\t| > 1 not found characters:\n",
            "\t| > ͡\n",
            "| > Number of instances : 100\n",
            " | > Preprocessing samples\n",
            " | > Max text length: 169\n",
            " | > Min text length: 26\n",
            " | > Avg text length: 100.83\n",
            " | \n",
            " | > Max audio length: 219315.0\n",
            " | > Min audio length: 39347.0\n",
            " | > Avg audio length: 145581.88\n",
            " | > Num. instances discarded samples: 0\n",
            " | > Batch group size: 0.\n"
          ]
        },
        {
          "metadata": {
            "tags": null
          },
          "name": "stderr",
          "output_type": "stream",
          "text": [
            "\n",
            "\u001b[1m > EVALUATION \u001b[0m\n",
            "\n"
          ]
        },
        {
          "metadata": {
            "tags": null
          },
          "name": "stdout",
          "output_type": "stream",
          "text": [
            "\n",
            "\n",
            "> DataLoader initialization\n",
            "| > Tokenizer:\n",
            "\t| > add_blank: False\n",
            "\t| > use_eos_bos: False\n",
            "\t| > use_phonemes: True\n",
            "\t| > phonemizer:\n",
            "\t\t| > phoneme language: en-us\n",
            "\t\t| > phoneme backend: gruut\n",
            "\t| > 1 not found characters:\n",
            "\t| > ͡\n",
            "| > Number of instances : 1\n",
            " | > Preprocessing samples\n",
            " | > Max text length: 140\n",
            " | > Min text length: 140\n",
            " | > Avg text length: 140.0\n",
            " | \n",
            " | > Max audio length: 212659.0\n",
            " | > Min audio length: 212659.0\n",
            " | > Avg audio length: 212659.0\n",
            " | > Num. instances discarded samples: 0\n",
            " | > Batch group size: 0.\n",
            " | > Synthesizing test sentences.\n"
          ]
        },
        {
          "metadata": {
            "tags": null
          },
          "name": "stderr",
          "output_type": "stream",
          "text": [
            "\n",
            "  \u001b[1m--> EVAL PERFORMANCE\u001b[0m\n",
            "     | > avg_loader_time:\u001b[91m 0.19242 \u001b[0m(+0.09096)\n",
            "     | > avg_loss:\u001b[92m 3.38437 \u001b[0m(-0.02139)\n",
            "     | > avg_log_mle:\u001b[92m 0.77951 \u001b[0m(-0.00386)\n",
            "     | > avg_loss_dur:\u001b[92m 2.60486 \u001b[0m(-0.01753)\n",
            "\n",
            " > BEST MODEL : tts_train_dir/run-November-17-2022_09+42AM-0000000/best_model_12.pth\n",
            "\n",
            "\u001b[4m\u001b[1m > EPOCH: 3/100\u001b[0m\n",
            " --> tts_train_dir/run-November-17-2022_09+42AM-0000000\n",
            "\n",
            "\u001b[1m > TRAINING (2022-11-17 09:45:24) \u001b[0m\n"
          ]
        },
        {
          "metadata": {
            "tags": null
          },
          "name": "stdout",
          "output_type": "stream",
          "text": [
            "\n",
            "\n",
            "> DataLoader initialization\n",
            "| > Tokenizer:\n",
            "\t| > add_blank: False\n",
            "\t| > use_eos_bos: False\n",
            "\t| > use_phonemes: True\n",
            "\t| > phonemizer:\n",
            "\t\t| > phoneme language: en-us\n",
            "\t\t| > phoneme backend: gruut\n",
            "\t| > 1 not found characters:\n",
            "\t| > ͡\n",
            "| > Number of instances : 100\n",
            " | > Preprocessing samples\n",
            " | > Max text length: 169\n",
            " | > Min text length: 26\n",
            " | > Avg text length: 100.83\n",
            " | \n",
            " | > Max audio length: 219315.0\n",
            " | > Min audio length: 39347.0\n",
            " | > Avg audio length: 145581.88\n",
            " | > Num. instances discarded samples: 0\n",
            " | > Batch group size: 0.\n"
          ]
        },
        {
          "metadata": {
            "tags": null
          },
          "name": "stderr",
          "output_type": "stream",
          "text": [
            "\n",
            "\u001b[1m > EVALUATION \u001b[0m\n",
            "\n"
          ]
        },
        {
          "metadata": {
            "tags": null
          },
          "name": "stdout",
          "output_type": "stream",
          "text": [
            "\n",
            "\n",
            "> DataLoader initialization\n",
            "| > Tokenizer:\n",
            "\t| > add_blank: False\n",
            "\t| > use_eos_bos: False\n",
            "\t| > use_phonemes: True\n",
            "\t| > phonemizer:\n",
            "\t\t| > phoneme language: en-us\n",
            "\t\t| > phoneme backend: gruut\n",
            "\t| > 1 not found characters:\n",
            "\t| > ͡\n",
            "| > Number of instances : 1\n",
            " | > Preprocessing samples\n",
            " | > Max text length: 140\n",
            " | > Min text length: 140\n",
            " | > Avg text length: 140.0\n",
            " | \n",
            " | > Max audio length: 212659.0\n",
            " | > Min audio length: 212659.0\n",
            " | > Avg audio length: 212659.0\n",
            " | > Num. instances discarded samples: 0\n",
            " | > Batch group size: 0.\n",
            " | > Synthesizing test sentences.\n"
          ]
        },
        {
          "metadata": {
            "tags": null
          },
          "name": "stderr",
          "output_type": "stream",
          "text": [
            "\n",
            "  \u001b[1m--> EVAL PERFORMANCE\u001b[0m\n",
            "     | > avg_loader_time:\u001b[92m 0.18602 \u001b[0m(-0.00640)\n",
            "     | > avg_loss:\u001b[92m 3.38413 \u001b[0m(-0.00024)\n",
            "     | > avg_log_mle:\u001b[92m 0.77951 \u001b[0m(-0.00000)\n",
            "     | > avg_loss_dur:\u001b[92m 2.60462 \u001b[0m(-0.00024)\n",
            "\n",
            " > BEST MODEL : tts_train_dir/run-November-17-2022_09+42AM-0000000/best_model_16.pth\n",
            "\n",
            "\u001b[4m\u001b[1m > EPOCH: 4/100\u001b[0m\n",
            " --> tts_train_dir/run-November-17-2022_09+42AM-0000000\n",
            "\n",
            "\u001b[1m > TRAINING (2022-11-17 09:47:22) \u001b[0m\n"
          ]
        },
        {
          "metadata": {
            "tags": null
          },
          "name": "stdout",
          "output_type": "stream",
          "text": [
            "\n",
            "\n",
            "> DataLoader initialization\n",
            "| > Tokenizer:\n",
            "\t| > add_blank: False\n",
            "\t| > use_eos_bos: False\n",
            "\t| > use_phonemes: True\n",
            "\t| > phonemizer:\n",
            "\t\t| > phoneme language: en-us\n",
            "\t\t| > phoneme backend: gruut\n",
            "\t| > 1 not found characters:\n",
            "\t| > ͡\n",
            "| > Number of instances : 100\n",
            " | > Preprocessing samples\n",
            " | > Max text length: 169\n",
            " | > Min text length: 26\n",
            " | > Avg text length: 100.83\n",
            " | \n",
            " | > Max audio length: 219315.0\n",
            " | > Min audio length: 39347.0\n",
            " | > Avg audio length: 145581.88\n",
            " | > Num. instances discarded samples: 0\n",
            " | > Batch group size: 0.\n"
          ]
        },
        {
          "metadata": {
            "tags": null
          },
          "name": "stderr",
          "output_type": "stream",
          "text": [
            "\n",
            "\u001b[1m > EVALUATION \u001b[0m\n",
            "\n"
          ]
        },
        {
          "metadata": {
            "tags": null
          },
          "name": "stdout",
          "output_type": "stream",
          "text": [
            "\n",
            "\n",
            "> DataLoader initialization\n",
            "| > Tokenizer:\n",
            "\t| > add_blank: False\n",
            "\t| > use_eos_bos: False\n",
            "\t| > use_phonemes: True\n",
            "\t| > phonemizer:\n",
            "\t\t| > phoneme language: en-us\n",
            "\t\t| > phoneme backend: gruut\n",
            "\t| > 1 not found characters:\n",
            "\t| > ͡\n",
            "| > Number of instances : 1\n",
            " | > Preprocessing samples\n",
            " | > Max text length: 140\n",
            " | > Min text length: 140\n",
            " | > Avg text length: 140.0\n",
            " | \n",
            " | > Max audio length: 212659.0\n",
            " | > Min audio length: 212659.0\n",
            " | > Avg audio length: 212659.0\n",
            " | > Num. instances discarded samples: 0\n",
            " | > Batch group size: 0.\n",
            " | > Synthesizing test sentences.\n"
          ]
        },
        {
          "metadata": {
            "tags": null
          },
          "name": "stderr",
          "output_type": "stream",
          "text": [
            "\n",
            "  \u001b[1m--> EVAL PERFORMANCE\u001b[0m\n",
            "     | > avg_loader_time:\u001b[91m 0.19591 \u001b[0m(+0.00989)\n",
            "     | > avg_loss:\u001b[92m 3.38319 \u001b[0m(-0.00093)\n",
            "     | > avg_log_mle:\u001b[92m 0.77949 \u001b[0m(-0.00002)\n",
            "     | > avg_loss_dur:\u001b[92m 2.60371 \u001b[0m(-0.00091)\n",
            "\n",
            " > BEST MODEL : tts_train_dir/run-November-17-2022_09+42AM-0000000/best_model_20.pth\n",
            "\n",
            "\u001b[4m\u001b[1m > EPOCH: 5/100\u001b[0m\n",
            " --> tts_train_dir/run-November-17-2022_09+42AM-0000000\n",
            "\n",
            "\u001b[1m > TRAINING (2022-11-17 09:49:19) \u001b[0m\n"
          ]
        },
        {
          "metadata": {
            "tags": null
          },
          "name": "stdout",
          "output_type": "stream",
          "text": [
            "\n",
            "\n",
            "> DataLoader initialization\n",
            "| > Tokenizer:\n",
            "\t| > add_blank: False\n",
            "\t| > use_eos_bos: False\n",
            "\t| > use_phonemes: True\n",
            "\t| > phonemizer:\n",
            "\t\t| > phoneme language: en-us\n",
            "\t\t| > phoneme backend: gruut\n",
            "\t| > 1 not found characters:\n",
            "\t| > ͡\n",
            "| > Number of instances : 100\n",
            " | > Preprocessing samples\n",
            " | > Max text length: 169\n",
            " | > Min text length: 26\n",
            " | > Avg text length: 100.83\n",
            " | \n",
            " | > Max audio length: 219315.0\n",
            " | > Min audio length: 39347.0\n",
            " | > Avg audio length: 145581.88\n",
            " | > Num. instances discarded samples: 0\n",
            " | > Batch group size: 0.\n"
          ]
        },
        {
          "metadata": {
            "tags": null
          },
          "name": "stderr",
          "output_type": "stream",
          "text": [
            "\n",
            "\u001b[1m > EVALUATION \u001b[0m\n",
            "\n"
          ]
        },
        {
          "metadata": {
            "tags": null
          },
          "name": "stdout",
          "output_type": "stream",
          "text": [
            "\n",
            "\n",
            "> DataLoader initialization\n",
            "| > Tokenizer:\n",
            "\t| > add_blank: False\n",
            "\t| > use_eos_bos: False\n",
            "\t| > use_phonemes: True\n",
            "\t| > phonemizer:\n",
            "\t\t| > phoneme language: en-us\n",
            "\t\t| > phoneme backend: gruut\n",
            "\t| > 1 not found characters:\n",
            "\t| > ͡\n",
            "| > Number of instances : 1\n",
            " | > Preprocessing samples\n",
            " | > Max text length: 140\n",
            " | > Min text length: 140\n",
            " | > Avg text length: 140.0\n",
            " | \n",
            " | > Max audio length: 212659.0\n",
            " | > Min audio length: 212659.0\n",
            " | > Avg audio length: 212659.0\n",
            " | > Num. instances discarded samples: 0\n",
            " | > Batch group size: 0.\n",
            " | > Synthesizing test sentences.\n"
          ]
        },
        {
          "metadata": {
            "tags": null
          },
          "name": "stderr",
          "output_type": "stream",
          "text": [
            "\n",
            "  \u001b[1m--> EVAL PERFORMANCE\u001b[0m\n",
            "     | > avg_loader_time:\u001b[91m 0.20469 \u001b[0m(+0.00877)\n",
            "     | > avg_loss:\u001b[92m 3.38152 \u001b[0m(-0.00168)\n",
            "     | > avg_log_mle:\u001b[92m 0.77946 \u001b[0m(-0.00003)\n",
            "     | > avg_loss_dur:\u001b[92m 2.60206 \u001b[0m(-0.00165)\n",
            "\n",
            " > BEST MODEL : tts_train_dir/run-November-17-2022_09+42AM-0000000/best_model_24.pth\n",
            "\n",
            "\u001b[4m\u001b[1m > EPOCH: 6/100\u001b[0m\n",
            " --> tts_train_dir/run-November-17-2022_09+42AM-0000000\n",
            "\n",
            "\u001b[1m > TRAINING (2022-11-17 09:51:18) \u001b[0m\n"
          ]
        },
        {
          "metadata": {
            "tags": null
          },
          "name": "stdout",
          "output_type": "stream",
          "text": [
            "\n",
            "\n",
            "> DataLoader initialization\n",
            "| > Tokenizer:\n",
            "\t| > add_blank: False\n",
            "\t| > use_eos_bos: False\n",
            "\t| > use_phonemes: True\n",
            "\t| > phonemizer:\n",
            "\t\t| > phoneme language: en-us\n",
            "\t\t| > phoneme backend: gruut\n",
            "\t| > 1 not found characters:\n",
            "\t| > ͡\n",
            "| > Number of instances : 100\n",
            " | > Preprocessing samples\n",
            " | > Max text length: 169\n",
            " | > Min text length: 26\n",
            " | > Avg text length: 100.83\n",
            " | \n",
            " | > Max audio length: 219315.0\n",
            " | > Min audio length: 39347.0\n",
            " | > Avg audio length: 145581.88\n",
            " | > Num. instances discarded samples: 0\n",
            " | > Batch group size: 0.\n"
          ]
        },
        {
          "metadata": {
            "tags": null
          },
          "name": "stderr",
          "output_type": "stream",
          "text": [
            "\n",
            "\u001b[1m   --> STEP: 1/4 -- GLOBAL_STEP: 25\u001b[0m\n",
            "     | > loss: 3.32521  (3.32521)\n",
            "     | > log_mle: 0.76104  (0.76104)\n",
            "     | > loss_dur: 2.56417  (2.56417)\n",
            "     | > grad_norm: 10.16701  (10.16701)\n",
            "     | > current_lr: 0.00000 \n",
            "     | > step_time: 33.30870  (33.30873)\n",
            "     | > loader_time: 0.00220  (0.00223)\n",
            "\n",
            "\n",
            "\u001b[1m > EVALUATION \u001b[0m\n",
            "\n"
          ]
        },
        {
          "metadata": {
            "tags": null
          },
          "name": "stdout",
          "output_type": "stream",
          "text": [
            "\n",
            "\n",
            "> DataLoader initialization\n",
            "| > Tokenizer:\n",
            "\t| > add_blank: False\n",
            "\t| > use_eos_bos: False\n",
            "\t| > use_phonemes: True\n",
            "\t| > phonemizer:\n",
            "\t\t| > phoneme language: en-us\n",
            "\t\t| > phoneme backend: gruut\n",
            "\t| > 1 not found characters:\n",
            "\t| > ͡\n",
            "| > Number of instances : 1\n",
            " | > Preprocessing samples\n",
            " | > Max text length: 140\n",
            " | > Min text length: 140\n",
            " | > Avg text length: 140.0\n",
            " | \n",
            " | > Max audio length: 212659.0\n",
            " | > Min audio length: 212659.0\n",
            " | > Avg audio length: 212659.0\n",
            " | > Num. instances discarded samples: 0\n",
            " | > Batch group size: 0.\n",
            " | > Synthesizing test sentences.\n"
          ]
        },
        {
          "metadata": {
            "tags": null
          },
          "name": "stderr",
          "output_type": "stream",
          "text": [
            "\n",
            "  \u001b[1m--> EVAL PERFORMANCE\u001b[0m\n",
            "     | > avg_loader_time:\u001b[92m 0.19683 \u001b[0m(-0.00786)\n",
            "     | > avg_loss:\u001b[92m 3.37900 \u001b[0m(-0.00252)\n",
            "     | > avg_log_mle:\u001b[92m 0.77941 \u001b[0m(-0.00005)\n",
            "     | > avg_loss_dur:\u001b[92m 2.59959 \u001b[0m(-0.00247)\n",
            "\n",
            " > BEST MODEL : tts_train_dir/run-November-17-2022_09+42AM-0000000/best_model_28.pth\n",
            "\n",
            "\u001b[4m\u001b[1m > EPOCH: 7/100\u001b[0m\n",
            " --> tts_train_dir/run-November-17-2022_09+42AM-0000000\n",
            "\n",
            "\u001b[1m > TRAINING (2022-11-17 09:53:13) \u001b[0m\n"
          ]
        },
        {
          "metadata": {
            "tags": null
          },
          "name": "stdout",
          "output_type": "stream",
          "text": [
            "\n",
            "\n",
            "> DataLoader initialization\n",
            "| > Tokenizer:\n",
            "\t| > add_blank: False\n",
            "\t| > use_eos_bos: False\n",
            "\t| > use_phonemes: True\n",
            "\t| > phonemizer:\n",
            "\t\t| > phoneme language: en-us\n",
            "\t\t| > phoneme backend: gruut\n",
            "\t| > 1 not found characters:\n",
            "\t| > ͡\n",
            "| > Number of instances : 100\n",
            " | > Preprocessing samples\n",
            " | > Max text length: 169\n",
            " | > Min text length: 26\n",
            " | > Avg text length: 100.83\n",
            " | \n",
            " | > Max audio length: 219315.0\n",
            " | > Min audio length: 39347.0\n",
            " | > Avg audio length: 145581.88\n",
            " | > Num. instances discarded samples: 0\n",
            " | > Batch group size: 0.\n"
          ]
        },
        {
          "metadata": {
            "tags": null
          },
          "name": "stderr",
          "output_type": "stream",
          "text": [
            "\n",
            "\u001b[1m > EVALUATION \u001b[0m\n",
            "\n"
          ]
        },
        {
          "metadata": {
            "tags": null
          },
          "name": "stdout",
          "output_type": "stream",
          "text": [
            "\n",
            "\n",
            "> DataLoader initialization\n",
            "| > Tokenizer:\n",
            "\t| > add_blank: False\n",
            "\t| > use_eos_bos: False\n",
            "\t| > use_phonemes: True\n",
            "\t| > phonemizer:\n",
            "\t\t| > phoneme language: en-us\n",
            "\t\t| > phoneme backend: gruut\n",
            "\t| > 1 not found characters:\n",
            "\t| > ͡\n",
            "| > Number of instances : 1\n",
            " | > Preprocessing samples\n",
            " | > Max text length: 140\n",
            " | > Min text length: 140\n",
            " | > Avg text length: 140.0\n",
            " | \n",
            " | > Max audio length: 212659.0\n",
            " | > Min audio length: 212659.0\n",
            " | > Avg audio length: 212659.0\n",
            " | > Num. instances discarded samples: 0\n",
            " | > Batch group size: 0.\n",
            " | > Synthesizing test sentences.\n"
          ]
        },
        {
          "metadata": {
            "tags": null
          },
          "name": "stderr",
          "output_type": "stream",
          "text": [
            "\n",
            "  \u001b[1m--> EVAL PERFORMANCE\u001b[0m\n",
            "     | > avg_loader_time:\u001b[91m 0.21858 \u001b[0m(+0.02175)\n",
            "     | > avg_loss:\u001b[92m 3.37563 \u001b[0m(-0.00336)\n",
            "     | > avg_log_mle:\u001b[92m 0.77934 \u001b[0m(-0.00007)\n",
            "     | > avg_loss_dur:\u001b[92m 2.59629 \u001b[0m(-0.00330)\n",
            "\n",
            " > BEST MODEL : tts_train_dir/run-November-17-2022_09+42AM-0000000/best_model_32.pth\n",
            "\n",
            "\u001b[4m\u001b[1m > EPOCH: 8/100\u001b[0m\n",
            " --> tts_train_dir/run-November-17-2022_09+42AM-0000000\n",
            "\n",
            "\u001b[1m > TRAINING (2022-11-17 09:55:15) \u001b[0m\n"
          ]
        },
        {
          "metadata": {
            "tags": null
          },
          "name": "stdout",
          "output_type": "stream",
          "text": [
            "\n",
            "\n",
            "> DataLoader initialization\n",
            "| > Tokenizer:\n",
            "\t| > add_blank: False\n",
            "\t| > use_eos_bos: False\n",
            "\t| > use_phonemes: True\n",
            "\t| > phonemizer:\n",
            "\t\t| > phoneme language: en-us\n",
            "\t\t| > phoneme backend: gruut\n",
            "\t| > 1 not found characters:\n",
            "\t| > ͡\n",
            "| > Number of instances : 100\n",
            " | > Preprocessing samples\n",
            " | > Max text length: 169\n",
            " | > Min text length: 26\n",
            " | > Avg text length: 100.83\n",
            " | \n",
            " | > Max audio length: 219315.0\n",
            " | > Min audio length: 39347.0\n",
            " | > Avg audio length: 145581.88\n",
            " | > Num. instances discarded samples: 0\n",
            " | > Batch group size: 0.\n"
          ]
        },
        {
          "metadata": {
            "tags": null
          },
          "name": "stderr",
          "output_type": "stream",
          "text": [
            "\n",
            "\u001b[1m > EVALUATION \u001b[0m\n",
            "\n"
          ]
        },
        {
          "metadata": {
            "tags": null
          },
          "name": "stdout",
          "output_type": "stream",
          "text": [
            "\n",
            "\n",
            "> DataLoader initialization\n",
            "| > Tokenizer:\n",
            "\t| > add_blank: False\n",
            "\t| > use_eos_bos: False\n",
            "\t| > use_phonemes: True\n",
            "\t| > phonemizer:\n",
            "\t\t| > phoneme language: en-us\n",
            "\t\t| > phoneme backend: gruut\n",
            "\t| > 1 not found characters:\n",
            "\t| > ͡\n",
            "| > Number of instances : 1\n",
            " | > Preprocessing samples\n",
            " | > Max text length: 140\n",
            " | > Min text length: 140\n",
            " | > Avg text length: 140.0\n",
            " | \n",
            " | > Max audio length: 212659.0\n",
            " | > Min audio length: 212659.0\n",
            " | > Avg audio length: 212659.0\n",
            " | > Num. instances discarded samples: 0\n",
            " | > Batch group size: 0.\n",
            " | > Synthesizing test sentences.\n"
          ]
        },
        {
          "metadata": {
            "tags": null
          },
          "name": "stderr",
          "output_type": "stream",
          "text": [
            "\n",
            "  \u001b[1m--> EVAL PERFORMANCE\u001b[0m\n",
            "     | > avg_loader_time:\u001b[92m 0.21253 \u001b[0m(-0.00604)\n",
            "     | > avg_loss:\u001b[92m 3.34474 \u001b[0m(-0.03090)\n",
            "     | > avg_log_mle:\u001b[92m 0.77925 \u001b[0m(-0.00009)\n",
            "     | > avg_loss_dur:\u001b[92m 2.56548 \u001b[0m(-0.03081)\n",
            "\n",
            " > BEST MODEL : tts_train_dir/run-November-17-2022_09+42AM-0000000/best_model_36.pth\n",
            "\n",
            "\u001b[4m\u001b[1m > EPOCH: 9/100\u001b[0m\n",
            " --> tts_train_dir/run-November-17-2022_09+42AM-0000000\n",
            "\n",
            "\u001b[1m > TRAINING (2022-11-17 09:57:16) \u001b[0m\n"
          ]
        },
        {
          "metadata": {
            "tags": null
          },
          "name": "stdout",
          "output_type": "stream",
          "text": [
            "\n",
            "\n",
            "> DataLoader initialization\n",
            "| > Tokenizer:\n",
            "\t| > add_blank: False\n",
            "\t| > use_eos_bos: False\n",
            "\t| > use_phonemes: True\n",
            "\t| > phonemizer:\n",
            "\t\t| > phoneme language: en-us\n",
            "\t\t| > phoneme backend: gruut\n",
            "\t| > 1 not found characters:\n",
            "\t| > ͡\n",
            "| > Number of instances : 100\n",
            " | > Preprocessing samples\n",
            " | > Max text length: 169\n",
            " | > Min text length: 26\n",
            " | > Avg text length: 100.83\n",
            " | \n",
            " | > Max audio length: 219315.0\n",
            " | > Min audio length: 39347.0\n",
            " | > Avg audio length: 145581.88\n",
            " | > Num. instances discarded samples: 0\n",
            " | > Batch group size: 0.\n"
          ]
        },
        {
          "metadata": {
            "tags": null
          },
          "name": "stderr",
          "output_type": "stream",
          "text": [
            "\n",
            "\u001b[1m > EVALUATION \u001b[0m\n",
            "\n"
          ]
        },
        {
          "metadata": {
            "tags": null
          },
          "name": "stdout",
          "output_type": "stream",
          "text": [
            "\n",
            "\n",
            "> DataLoader initialization\n",
            "| > Tokenizer:\n",
            "\t| > add_blank: False\n",
            "\t| > use_eos_bos: False\n",
            "\t| > use_phonemes: True\n",
            "\t| > phonemizer:\n",
            "\t\t| > phoneme language: en-us\n",
            "\t\t| > phoneme backend: gruut\n",
            "\t| > 1 not found characters:\n",
            "\t| > ͡\n",
            "| > Number of instances : 1\n",
            " | > Preprocessing samples\n",
            " | > Max text length: 140\n",
            " | > Min text length: 140\n",
            " | > Avg text length: 140.0\n",
            " | \n",
            " | > Max audio length: 212659.0\n",
            " | > Min audio length: 212659.0\n",
            " | > Avg audio length: 212659.0\n",
            " | > Num. instances discarded samples: 0\n",
            " | > Batch group size: 0.\n",
            " | > Synthesizing test sentences.\n"
          ]
        },
        {
          "metadata": {
            "tags": null
          },
          "name": "stderr",
          "output_type": "stream",
          "text": [
            "\n",
            "  \u001b[1m--> EVAL PERFORMANCE\u001b[0m\n",
            "     | > avg_loader_time:\u001b[91m 0.23324 \u001b[0m(+0.02070)\n",
            "     | > avg_loss:\u001b[92m 3.33949 \u001b[0m(-0.00525)\n",
            "     | > avg_log_mle:\u001b[92m 0.77915 \u001b[0m(-0.00011)\n",
            "     | > avg_loss_dur:\u001b[92m 2.56034 \u001b[0m(-0.00514)\n",
            "\n",
            " > BEST MODEL : tts_train_dir/run-November-17-2022_09+42AM-0000000/best_model_40.pth\n",
            "\n",
            "\u001b[4m\u001b[1m > EPOCH: 10/100\u001b[0m\n",
            " --> tts_train_dir/run-November-17-2022_09+42AM-0000000\n",
            "\n",
            "\u001b[1m > TRAINING (2022-11-17 09:59:14) \u001b[0m\n"
          ]
        },
        {
          "metadata": {
            "tags": null
          },
          "name": "stdout",
          "output_type": "stream",
          "text": [
            "\n",
            "\n",
            "> DataLoader initialization\n",
            "| > Tokenizer:\n",
            "\t| > add_blank: False\n",
            "\t| > use_eos_bos: False\n",
            "\t| > use_phonemes: True\n",
            "\t| > phonemizer:\n",
            "\t\t| > phoneme language: en-us\n",
            "\t\t| > phoneme backend: gruut\n",
            "\t| > 1 not found characters:\n",
            "\t| > ͡\n",
            "| > Number of instances : 100\n",
            " | > Preprocessing samples\n",
            " | > Max text length: 169\n",
            " | > Min text length: 26\n",
            " | > Avg text length: 100.83\n",
            " | \n",
            " | > Max audio length: 219315.0\n",
            " | > Min audio length: 39347.0\n",
            " | > Avg audio length: 145581.88\n",
            " | > Num. instances discarded samples: 0\n",
            " | > Batch group size: 0.\n"
          ]
        },
        {
          "metadata": {
            "tags": null
          },
          "name": "stderr",
          "output_type": "stream",
          "text": [
            "\n",
            "\u001b[1m > EVALUATION \u001b[0m\n",
            "\n"
          ]
        },
        {
          "metadata": {
            "tags": null
          },
          "name": "stdout",
          "output_type": "stream",
          "text": [
            "\n",
            "\n",
            "> DataLoader initialization\n",
            "| > Tokenizer:\n",
            "\t| > add_blank: False\n",
            "\t| > use_eos_bos: False\n",
            "\t| > use_phonemes: True\n",
            "\t| > phonemizer:\n",
            "\t\t| > phoneme language: en-us\n",
            "\t\t| > phoneme backend: gruut\n",
            "\t| > 1 not found characters:\n",
            "\t| > ͡\n",
            "| > Number of instances : 1\n",
            " | > Preprocessing samples\n",
            " | > Max text length: 140\n",
            " | > Min text length: 140\n",
            " | > Avg text length: 140.0\n",
            " | \n",
            " | > Max audio length: 212659.0\n",
            " | > Min audio length: 212659.0\n",
            " | > Avg audio length: 212659.0\n",
            " | > Num. instances discarded samples: 0\n",
            " | > Batch group size: 0.\n",
            " | > Synthesizing test sentences.\n"
          ]
        },
        {
          "metadata": {
            "tags": null
          },
          "name": "stderr",
          "output_type": "stream",
          "text": [
            "\n",
            "  \u001b[1m--> EVAL PERFORMANCE\u001b[0m\n",
            "     | > avg_loader_time:\u001b[92m 0.21031 \u001b[0m(-0.02292)\n",
            "     | > avg_loss:\u001b[92m 3.33327 \u001b[0m(-0.00622)\n",
            "     | > avg_log_mle:\u001b[92m 0.77902 \u001b[0m(-0.00013)\n",
            "     | > avg_loss_dur:\u001b[92m 2.55425 \u001b[0m(-0.00609)\n",
            "\n",
            " > BEST MODEL : tts_train_dir/run-November-17-2022_09+42AM-0000000/best_model_44.pth\n",
            "\n",
            "\u001b[4m\u001b[1m > EPOCH: 11/100\u001b[0m\n",
            " --> tts_train_dir/run-November-17-2022_09+42AM-0000000\n",
            "\n",
            "\u001b[1m > TRAINING (2022-11-17 10:01:10) \u001b[0m\n"
          ]
        },
        {
          "metadata": {
            "tags": null
          },
          "name": "stdout",
          "output_type": "stream",
          "text": [
            "\n",
            "\n",
            "> DataLoader initialization\n",
            "| > Tokenizer:\n",
            "\t| > add_blank: False\n",
            "\t| > use_eos_bos: False\n",
            "\t| > use_phonemes: True\n",
            "\t| > phonemizer:\n",
            "\t\t| > phoneme language: en-us\n",
            "\t\t| > phoneme backend: gruut\n",
            "\t| > 1 not found characters:\n",
            "\t| > ͡\n",
            "| > Number of instances : 100\n",
            " | > Preprocessing samples\n",
            " | > Max text length: 169\n",
            " | > Min text length: 26\n",
            " | > Avg text length: 100.83\n",
            " | \n",
            " | > Max audio length: 219315.0\n",
            " | > Min audio length: 39347.0\n",
            " | > Avg audio length: 145581.88\n",
            " | > Num. instances discarded samples: 0\n",
            " | > Batch group size: 0.\n"
          ]
        },
        {
          "metadata": {
            "tags": null
          },
          "name": "stderr",
          "output_type": "stream",
          "text": [
            "\n",
            "\u001b[1m > EVALUATION \u001b[0m\n",
            "\n"
          ]
        },
        {
          "metadata": {
            "tags": null
          },
          "name": "stdout",
          "output_type": "stream",
          "text": [
            "\n",
            "\n",
            "> DataLoader initialization\n",
            "| > Tokenizer:\n",
            "\t| > add_blank: False\n",
            "\t| > use_eos_bos: False\n",
            "\t| > use_phonemes: True\n",
            "\t| > phonemizer:\n",
            "\t\t| > phoneme language: en-us\n",
            "\t\t| > phoneme backend: gruut\n",
            "\t| > 1 not found characters:\n",
            "\t| > ͡\n",
            "| > Number of instances : 1\n",
            " | > Preprocessing samples\n",
            " | > Max text length: 140\n",
            " | > Min text length: 140\n",
            " | > Avg text length: 140.0\n",
            " | \n",
            " | > Max audio length: 212659.0\n",
            " | > Min audio length: 212659.0\n",
            " | > Avg audio length: 212659.0\n",
            " | > Num. instances discarded samples: 0\n",
            " | > Batch group size: 0.\n",
            " | > Synthesizing test sentences.\n"
          ]
        },
        {
          "metadata": {
            "tags": null
          },
          "name": "stderr",
          "output_type": "stream",
          "text": [
            "\n",
            "  \u001b[1m--> EVAL PERFORMANCE\u001b[0m\n",
            "     | > avg_loader_time:\u001b[92m 0.20801 \u001b[0m(-0.00230)\n",
            "     | > avg_loss:\u001b[92m 3.32583 \u001b[0m(-0.00744)\n",
            "     | > avg_log_mle:\u001b[92m 0.77887 \u001b[0m(-0.00015)\n",
            "     | > avg_loss_dur:\u001b[92m 2.54696 \u001b[0m(-0.00729)\n",
            "\n",
            " > BEST MODEL : tts_train_dir/run-November-17-2022_09+42AM-0000000/best_model_48.pth\n",
            "\n",
            "\u001b[4m\u001b[1m > EPOCH: 12/100\u001b[0m\n",
            " --> tts_train_dir/run-November-17-2022_09+42AM-0000000\n",
            "\n",
            "\u001b[1m > TRAINING (2022-11-17 10:03:05) \u001b[0m\n"
          ]
        },
        {
          "metadata": {
            "tags": null
          },
          "name": "stdout",
          "output_type": "stream",
          "text": [
            "\n",
            "\n",
            "> DataLoader initialization\n",
            "| > Tokenizer:\n",
            "\t| > add_blank: False\n",
            "\t| > use_eos_bos: False\n",
            "\t| > use_phonemes: True\n",
            "\t| > phonemizer:\n",
            "\t\t| > phoneme language: en-us\n",
            "\t\t| > phoneme backend: gruut\n",
            "\t| > 1 not found characters:\n",
            "\t| > ͡\n",
            "| > Number of instances : 100\n",
            " | > Preprocessing samples\n",
            " | > Max text length: 169\n",
            " | > Min text length: 26\n",
            " | > Avg text length: 100.83\n",
            " | \n",
            " | > Max audio length: 219315.0\n",
            " | > Min audio length: 39347.0\n",
            " | > Avg audio length: 145581.88\n",
            " | > Num. instances discarded samples: 0\n",
            " | > Batch group size: 0.\n"
          ]
        },
        {
          "metadata": {
            "tags": null
          },
          "name": "stderr",
          "output_type": "stream",
          "text": [
            "\n",
            "\u001b[1m   --> STEP: 2/4 -- GLOBAL_STEP: 50\u001b[0m\n",
            "     | > loss: 3.29706  (3.32178)\n",
            "     | > log_mle: 0.76127  (0.76014)\n",
            "     | > loss_dur: 2.53579  (2.56164)\n",
            "     | > grad_norm: 10.02995  (10.03726)\n",
            "     | > current_lr: 0.00000 \n",
            "     | > step_time: 32.93990  (33.95265)\n",
            "     | > loader_time: 0.00150  (0.00154)\n",
            "\n",
            "\n",
            "\u001b[1m > EVALUATION \u001b[0m\n",
            "\n"
          ]
        },
        {
          "metadata": {
            "tags": null
          },
          "name": "stdout",
          "output_type": "stream",
          "text": [
            "\n",
            "\n",
            "> DataLoader initialization\n",
            "| > Tokenizer:\n",
            "\t| > add_blank: False\n",
            "\t| > use_eos_bos: False\n",
            "\t| > use_phonemes: True\n",
            "\t| > phonemizer:\n",
            "\t\t| > phoneme language: en-us\n",
            "\t\t| > phoneme backend: gruut\n",
            "\t| > 1 not found characters:\n",
            "\t| > ͡\n",
            "| > Number of instances : 1\n",
            " | > Preprocessing samples\n",
            " | > Max text length: 140\n",
            " | > Min text length: 140\n",
            " | > Avg text length: 140.0\n",
            " | \n",
            " | > Max audio length: 212659.0\n",
            " | > Min audio length: 212659.0\n",
            " | > Avg audio length: 212659.0\n",
            " | > Num. instances discarded samples: 0\n",
            " | > Batch group size: 0.\n",
            " | > Synthesizing test sentences.\n"
          ]
        },
        {
          "metadata": {
            "tags": null
          },
          "name": "stderr",
          "output_type": "stream",
          "text": [
            "\n",
            "  \u001b[1m--> EVAL PERFORMANCE\u001b[0m\n",
            "     | > avg_loader_time:\u001b[91m 0.22326 \u001b[0m(+0.01524)\n",
            "     | > avg_loss:\u001b[92m 3.31742 \u001b[0m(-0.00841)\n",
            "     | > avg_log_mle:\u001b[92m 0.77870 \u001b[0m(-0.00017)\n",
            "     | > avg_loss_dur:\u001b[92m 2.53872 \u001b[0m(-0.00824)\n",
            "\n",
            " > BEST MODEL : tts_train_dir/run-November-17-2022_09+42AM-0000000/best_model_52.pth\n",
            "\n",
            "\u001b[4m\u001b[1m > EPOCH: 13/100\u001b[0m\n",
            " --> tts_train_dir/run-November-17-2022_09+42AM-0000000\n",
            "\n",
            "\u001b[1m > TRAINING (2022-11-17 10:05:06) \u001b[0m\n"
          ]
        },
        {
          "metadata": {
            "tags": null
          },
          "name": "stdout",
          "output_type": "stream",
          "text": [
            "\n",
            "\n",
            "> DataLoader initialization\n",
            "| > Tokenizer:\n",
            "\t| > add_blank: False\n",
            "\t| > use_eos_bos: False\n",
            "\t| > use_phonemes: True\n",
            "\t| > phonemizer:\n",
            "\t\t| > phoneme language: en-us\n",
            "\t\t| > phoneme backend: gruut\n",
            "\t| > 1 not found characters:\n",
            "\t| > ͡\n",
            "| > Number of instances : 100\n",
            " | > Preprocessing samples\n",
            " | > Max text length: 169\n",
            " | > Min text length: 26\n",
            " | > Avg text length: 100.83\n",
            " | \n",
            " | > Max audio length: 219315.0\n",
            " | > Min audio length: 39347.0\n",
            " | > Avg audio length: 145581.88\n",
            " | > Num. instances discarded samples: 0\n",
            " | > Batch group size: 0.\n"
          ]
        },
        {
          "metadata": {
            "tags": null
          },
          "name": "stderr",
          "output_type": "stream",
          "text": [
            "\n",
            "\u001b[1m > EVALUATION \u001b[0m\n",
            "\n"
          ]
        },
        {
          "metadata": {
            "tags": null
          },
          "name": "stdout",
          "output_type": "stream",
          "text": [
            "\n",
            "\n",
            "> DataLoader initialization\n",
            "| > Tokenizer:\n",
            "\t| > add_blank: False\n",
            "\t| > use_eos_bos: False\n",
            "\t| > use_phonemes: True\n",
            "\t| > phonemizer:\n",
            "\t\t| > phoneme language: en-us\n",
            "\t\t| > phoneme backend: gruut\n",
            "\t| > 1 not found characters:\n",
            "\t| > ͡\n",
            "| > Number of instances : 1\n",
            " | > Preprocessing samples\n",
            " | > Max text length: 140\n",
            " | > Min text length: 140\n",
            " | > Avg text length: 140.0\n",
            " | \n",
            " | > Max audio length: 212659.0\n",
            " | > Min audio length: 212659.0\n",
            " | > Avg audio length: 212659.0\n",
            " | > Num. instances discarded samples: 0\n",
            " | > Batch group size: 0.\n",
            " | > Synthesizing test sentences.\n"
          ]
        },
        {
          "metadata": {
            "tags": null
          },
          "name": "stderr",
          "output_type": "stream",
          "text": [
            "\n",
            "  \u001b[1m--> EVAL PERFORMANCE\u001b[0m\n",
            "     | > avg_loader_time:\u001b[92m 0.20639 \u001b[0m(-0.01687)\n",
            "     | > avg_loss:\u001b[92m 3.30812 \u001b[0m(-0.00930)\n",
            "     | > avg_log_mle:\u001b[92m 0.77851 \u001b[0m(-0.00020)\n",
            "     | > avg_loss_dur:\u001b[92m 2.52962 \u001b[0m(-0.00910)\n",
            "\n",
            " > BEST MODEL : tts_train_dir/run-November-17-2022_09+42AM-0000000/best_model_56.pth\n",
            "\n",
            "\u001b[4m\u001b[1m > EPOCH: 14/100\u001b[0m\n",
            " --> tts_train_dir/run-November-17-2022_09+42AM-0000000\n",
            "\n",
            "\u001b[1m > TRAINING (2022-11-17 10:07:05) \u001b[0m\n"
          ]
        },
        {
          "metadata": {
            "tags": null
          },
          "name": "stdout",
          "output_type": "stream",
          "text": [
            "\n",
            "\n",
            "> DataLoader initialization\n",
            "| > Tokenizer:\n",
            "\t| > add_blank: False\n",
            "\t| > use_eos_bos: False\n",
            "\t| > use_phonemes: True\n",
            "\t| > phonemizer:\n",
            "\t\t| > phoneme language: en-us\n",
            "\t\t| > phoneme backend: gruut\n",
            "\t| > 1 not found characters:\n",
            "\t| > ͡\n",
            "| > Number of instances : 100\n",
            " | > Preprocessing samples\n",
            " | > Max text length: 169\n",
            " | > Min text length: 26\n",
            " | > Avg text length: 100.83\n",
            " | \n",
            " | > Max audio length: 219315.0\n",
            " | > Min audio length: 39347.0\n",
            " | > Avg audio length: 145581.88\n",
            " | > Num. instances discarded samples: 0\n",
            " | > Batch group size: 0.\n"
          ]
        },
        {
          "metadata": {
            "tags": null
          },
          "name": "stderr",
          "output_type": "stream",
          "text": [
            "\n",
            "\u001b[1m > EVALUATION \u001b[0m\n",
            "\n"
          ]
        },
        {
          "metadata": {
            "tags": null
          },
          "name": "stdout",
          "output_type": "stream",
          "text": [
            "\n",
            "\n",
            "> DataLoader initialization\n",
            "| > Tokenizer:\n",
            "\t| > add_blank: False\n",
            "\t| > use_eos_bos: False\n",
            "\t| > use_phonemes: True\n",
            "\t| > phonemizer:\n",
            "\t\t| > phoneme language: en-us\n",
            "\t\t| > phoneme backend: gruut\n",
            "\t| > 1 not found characters:\n",
            "\t| > ͡\n",
            "| > Number of instances : 1\n",
            " | > Preprocessing samples\n",
            " | > Max text length: 140\n",
            " | > Min text length: 140\n",
            " | > Avg text length: 140.0\n",
            " | \n",
            " | > Max audio length: 212659.0\n",
            " | > Min audio length: 212659.0\n",
            " | > Avg audio length: 212659.0\n",
            " | > Num. instances discarded samples: 0\n",
            " | > Batch group size: 0.\n",
            " | > Synthesizing test sentences.\n"
          ]
        },
        {
          "metadata": {
            "tags": null
          },
          "name": "stderr",
          "output_type": "stream",
          "text": [
            "\n",
            "  \u001b[1m--> EVAL PERFORMANCE\u001b[0m\n",
            "     | > avg_loader_time:\u001b[91m 0.20946 \u001b[0m(+0.00307)\n",
            "     | > avg_loss:\u001b[92m 3.29750 \u001b[0m(-0.01062)\n",
            "     | > avg_log_mle:\u001b[92m 0.77828 \u001b[0m(-0.00022)\n",
            "     | > avg_loss_dur:\u001b[92m 2.51922 \u001b[0m(-0.01040)\n",
            "\n",
            " > BEST MODEL : tts_train_dir/run-November-17-2022_09+42AM-0000000/best_model_60.pth\n",
            "\n",
            "\u001b[4m\u001b[1m > EPOCH: 15/100\u001b[0m\n",
            " --> tts_train_dir/run-November-17-2022_09+42AM-0000000\n",
            "\n",
            "\u001b[1m > TRAINING (2022-11-17 10:09:01) \u001b[0m\n"
          ]
        },
        {
          "metadata": {
            "tags": null
          },
          "name": "stdout",
          "output_type": "stream",
          "text": [
            "\n",
            "\n",
            "> DataLoader initialization\n",
            "| > Tokenizer:\n",
            "\t| > add_blank: False\n",
            "\t| > use_eos_bos: False\n",
            "\t| > use_phonemes: True\n",
            "\t| > phonemizer:\n",
            "\t\t| > phoneme language: en-us\n",
            "\t\t| > phoneme backend: gruut\n",
            "\t| > 1 not found characters:\n",
            "\t| > ͡\n",
            "| > Number of instances : 100\n",
            " | > Preprocessing samples\n",
            " | > Max text length: 169\n",
            " | > Min text length: 26\n",
            " | > Avg text length: 100.83\n",
            " | \n",
            " | > Max audio length: 219315.0\n",
            " | > Min audio length: 39347.0\n",
            " | > Avg audio length: 145581.88\n",
            " | > Num. instances discarded samples: 0\n",
            " | > Batch group size: 0.\n"
          ]
        },
        {
          "metadata": {
            "tags": null
          },
          "name": "stderr",
          "output_type": "stream",
          "text": [
            "\n",
            "\u001b[1m > EVALUATION \u001b[0m\n",
            "\n"
          ]
        },
        {
          "metadata": {
            "tags": null
          },
          "name": "stdout",
          "output_type": "stream",
          "text": [
            "\n",
            "\n",
            "> DataLoader initialization\n",
            "| > Tokenizer:\n",
            "\t| > add_blank: False\n",
            "\t| > use_eos_bos: False\n",
            "\t| > use_phonemes: True\n",
            "\t| > phonemizer:\n",
            "\t\t| > phoneme language: en-us\n",
            "\t\t| > phoneme backend: gruut\n",
            "\t| > 1 not found characters:\n",
            "\t| > ͡\n",
            "| > Number of instances : 1\n",
            " | > Preprocessing samples\n",
            " | > Max text length: 140\n",
            " | > Min text length: 140\n",
            " | > Avg text length: 140.0\n",
            " | \n",
            " | > Max audio length: 212659.0\n",
            " | > Min audio length: 212659.0\n",
            " | > Avg audio length: 212659.0\n",
            " | > Num. instances discarded samples: 0\n",
            " | > Batch group size: 0.\n",
            " | > Synthesizing test sentences.\n"
          ]
        },
        {
          "metadata": {
            "tags": null
          },
          "name": "stderr",
          "output_type": "stream",
          "text": [
            "\n",
            "  \u001b[1m--> EVAL PERFORMANCE\u001b[0m\n",
            "     | > avg_loader_time:\u001b[92m 0.20636 \u001b[0m(-0.00309)\n",
            "     | > avg_loss:\u001b[92m 3.28578 \u001b[0m(-0.01172)\n",
            "     | > avg_log_mle:\u001b[92m 0.77803 \u001b[0m(-0.00025)\n",
            "     | > avg_loss_dur:\u001b[92m 2.50775 \u001b[0m(-0.01147)\n",
            "\n",
            " > BEST MODEL : tts_train_dir/run-November-17-2022_09+42AM-0000000/best_model_64.pth\n",
            "\n",
            "\u001b[4m\u001b[1m > EPOCH: 16/100\u001b[0m\n",
            " --> tts_train_dir/run-November-17-2022_09+42AM-0000000\n",
            "\n",
            "\u001b[1m > TRAINING (2022-11-17 10:10:58) \u001b[0m\n"
          ]
        },
        {
          "metadata": {
            "tags": null
          },
          "name": "stdout",
          "output_type": "stream",
          "text": [
            "\n",
            "\n",
            "> DataLoader initialization\n",
            "| > Tokenizer:\n",
            "\t| > add_blank: False\n",
            "\t| > use_eos_bos: False\n",
            "\t| > use_phonemes: True\n",
            "\t| > phonemizer:\n",
            "\t\t| > phoneme language: en-us\n",
            "\t\t| > phoneme backend: gruut\n",
            "\t| > 1 not found characters:\n",
            "\t| > ͡\n",
            "| > Number of instances : 100\n",
            " | > Preprocessing samples\n",
            " | > Max text length: 169\n",
            " | > Min text length: 26\n",
            " | > Avg text length: 100.83\n",
            " | \n",
            " | > Max audio length: 219315.0\n",
            " | > Min audio length: 39347.0\n",
            " | > Avg audio length: 145581.88\n",
            " | > Num. instances discarded samples: 0\n",
            " | > Batch group size: 0.\n"
          ]
        },
        {
          "metadata": {
            "tags": null
          },
          "name": "stderr",
          "output_type": "stream",
          "text": [
            "\n",
            "\u001b[1m > EVALUATION \u001b[0m\n",
            "\n"
          ]
        },
        {
          "metadata": {
            "tags": null
          },
          "name": "stdout",
          "output_type": "stream",
          "text": [
            "\n",
            "\n",
            "> DataLoader initialization\n",
            "| > Tokenizer:\n",
            "\t| > add_blank: False\n",
            "\t| > use_eos_bos: False\n",
            "\t| > use_phonemes: True\n",
            "\t| > phonemizer:\n",
            "\t\t| > phoneme language: en-us\n",
            "\t\t| > phoneme backend: gruut\n",
            "\t| > 1 not found characters:\n",
            "\t| > ͡\n",
            "| > Number of instances : 1\n",
            " | > Preprocessing samples\n",
            " | > Max text length: 140\n",
            " | > Min text length: 140\n",
            " | > Avg text length: 140.0\n",
            " | \n",
            " | > Max audio length: 212659.0\n",
            " | > Min audio length: 212659.0\n",
            " | > Avg audio length: 212659.0\n",
            " | > Num. instances discarded samples: 0\n",
            " | > Batch group size: 0.\n",
            " | > Synthesizing test sentences.\n"
          ]
        },
        {
          "metadata": {
            "tags": null
          },
          "name": "stderr",
          "output_type": "stream",
          "text": [
            "\n",
            "  \u001b[1m--> EVAL PERFORMANCE\u001b[0m\n",
            "     | > avg_loader_time:\u001b[91m 0.21413 \u001b[0m(+0.00776)\n",
            "     | > avg_loss:\u001b[92m 3.27298 \u001b[0m(-0.01281)\n",
            "     | > avg_log_mle:\u001b[92m 0.77776 \u001b[0m(-0.00028)\n",
            "     | > avg_loss_dur:\u001b[92m 2.49522 \u001b[0m(-0.01253)\n",
            "\n",
            " > BEST MODEL : tts_train_dir/run-November-17-2022_09+42AM-0000000/best_model_68.pth\n",
            "\n",
            "\u001b[4m\u001b[1m > EPOCH: 17/100\u001b[0m\n",
            " --> tts_train_dir/run-November-17-2022_09+42AM-0000000\n",
            "\n",
            "\u001b[1m > TRAINING (2022-11-17 10:12:55) \u001b[0m\n"
          ]
        },
        {
          "metadata": {
            "tags": null
          },
          "name": "stdout",
          "output_type": "stream",
          "text": [
            "\n",
            "\n",
            "> DataLoader initialization\n",
            "| > Tokenizer:\n",
            "\t| > add_blank: False\n",
            "\t| > use_eos_bos: False\n",
            "\t| > use_phonemes: True\n",
            "\t| > phonemizer:\n",
            "\t\t| > phoneme language: en-us\n",
            "\t\t| > phoneme backend: gruut\n",
            "\t| > 1 not found characters:\n",
            "\t| > ͡\n",
            "| > Number of instances : 100\n",
            " | > Preprocessing samples\n",
            " | > Max text length: 169\n",
            " | > Min text length: 26\n",
            " | > Avg text length: 100.83\n",
            " | \n",
            " | > Max audio length: 219315.0\n",
            " | > Min audio length: 39347.0\n",
            " | > Avg audio length: 145581.88\n",
            " | > Num. instances discarded samples: 0\n",
            " | > Batch group size: 0.\n"
          ]
        },
        {
          "metadata": {
            "tags": null
          },
          "name": "stderr",
          "output_type": "stream",
          "text": [
            "\n",
            "\u001b[1m > EVALUATION \u001b[0m\n",
            "\n"
          ]
        },
        {
          "metadata": {
            "tags": null
          },
          "name": "stdout",
          "output_type": "stream",
          "text": [
            "\n",
            "\n",
            "> DataLoader initialization\n",
            "| > Tokenizer:\n",
            "\t| > add_blank: False\n",
            "\t| > use_eos_bos: False\n",
            "\t| > use_phonemes: True\n",
            "\t| > phonemizer:\n",
            "\t\t| > phoneme language: en-us\n",
            "\t\t| > phoneme backend: gruut\n",
            "\t| > 1 not found characters:\n",
            "\t| > ͡\n",
            "| > Number of instances : 1\n",
            " | > Preprocessing samples\n",
            " | > Max text length: 140\n",
            " | > Min text length: 140\n",
            " | > Avg text length: 140.0\n",
            " | \n",
            " | > Max audio length: 212659.0\n",
            " | > Min audio length: 212659.0\n",
            " | > Avg audio length: 212659.0\n",
            " | > Num. instances discarded samples: 0\n",
            " | > Batch group size: 0.\n",
            " | > Synthesizing test sentences.\n"
          ]
        },
        {
          "metadata": {
            "tags": null
          },
          "name": "stderr",
          "output_type": "stream",
          "text": [
            "\n",
            "  \u001b[1m--> EVAL PERFORMANCE\u001b[0m\n",
            "     | > avg_loader_time:\u001b[91m 0.25434 \u001b[0m(+0.04021)\n",
            "     | > avg_loss:\u001b[92m 3.27035 \u001b[0m(-0.00263)\n",
            "     | > avg_log_mle:\u001b[92m 0.77745 \u001b[0m(-0.00031)\n",
            "     | > avg_loss_dur:\u001b[92m 2.49290 \u001b[0m(-0.00233)\n",
            "\n",
            " > BEST MODEL : tts_train_dir/run-November-17-2022_09+42AM-0000000/best_model_72.pth\n",
            "\n",
            "\u001b[4m\u001b[1m > EPOCH: 18/100\u001b[0m\n",
            " --> tts_train_dir/run-November-17-2022_09+42AM-0000000\n",
            "\n",
            "\u001b[1m > TRAINING (2022-11-17 10:14:56) \u001b[0m\n"
          ]
        },
        {
          "metadata": {
            "tags": null
          },
          "name": "stdout",
          "output_type": "stream",
          "text": [
            "\n",
            "\n",
            "> DataLoader initialization\n",
            "| > Tokenizer:\n",
            "\t| > add_blank: False\n",
            "\t| > use_eos_bos: False\n",
            "\t| > use_phonemes: True\n",
            "\t| > phonemizer:\n",
            "\t\t| > phoneme language: en-us\n",
            "\t\t| > phoneme backend: gruut\n",
            "\t| > 1 not found characters:\n",
            "\t| > ͡\n",
            "| > Number of instances : 100\n",
            " | > Preprocessing samples\n",
            " | > Max text length: 169\n",
            " | > Min text length: 26\n",
            " | > Avg text length: 100.83\n",
            " | \n",
            " | > Max audio length: 219315.0\n",
            " | > Min audio length: 39347.0\n",
            " | > Avg audio length: 145581.88\n",
            " | > Num. instances discarded samples: 0\n",
            " | > Batch group size: 0.\n"
          ]
        },
        {
          "metadata": {
            "tags": null
          },
          "name": "stderr",
          "output_type": "stream",
          "text": [
            "\n",
            "\u001b[1m   --> STEP: 3/4 -- GLOBAL_STEP: 75\u001b[0m\n",
            "     | > loss: 3.18321  (3.26261)\n",
            "     | > log_mle: 0.75893  (0.75856)\n",
            "     | > loss_dur: 2.42428  (2.50405)\n",
            "     | > grad_norm: 9.70407  (9.72678)\n",
            "     | > current_lr: 0.00000 \n",
            "     | > step_time: 5.00760  (24.31614)\n",
            "     | > loader_time: 0.00170  (0.00196)\n",
            "\n",
            "\n",
            "\u001b[1m > EVALUATION \u001b[0m\n",
            "\n"
          ]
        },
        {
          "metadata": {
            "tags": null
          },
          "name": "stdout",
          "output_type": "stream",
          "text": [
            "\n",
            "\n",
            "> DataLoader initialization\n",
            "| > Tokenizer:\n",
            "\t| > add_blank: False\n",
            "\t| > use_eos_bos: False\n",
            "\t| > use_phonemes: True\n",
            "\t| > phonemizer:\n",
            "\t\t| > phoneme language: en-us\n",
            "\t\t| > phoneme backend: gruut\n",
            "\t| > 1 not found characters:\n",
            "\t| > ͡\n",
            "| > Number of instances : 1\n",
            " | > Preprocessing samples\n",
            " | > Max text length: 140\n",
            " | > Min text length: 140\n",
            " | > Avg text length: 140.0\n",
            " | \n",
            " | > Max audio length: 212659.0\n",
            " | > Min audio length: 212659.0\n",
            " | > Avg audio length: 212659.0\n",
            " | > Num. instances discarded samples: 0\n",
            " | > Batch group size: 0.\n",
            " | > Synthesizing test sentences.\n"
          ]
        },
        {
          "metadata": {
            "tags": null
          },
          "name": "stderr",
          "output_type": "stream",
          "text": [
            "\n",
            "  \u001b[1m--> EVAL PERFORMANCE\u001b[0m\n",
            "     | > avg_loader_time:\u001b[92m 0.22956 \u001b[0m(-0.02478)\n",
            "     | > avg_loss:\u001b[92m 3.24506 \u001b[0m(-0.02529)\n",
            "     | > avg_log_mle:\u001b[92m 0.77711 \u001b[0m(-0.00034)\n",
            "     | > avg_loss_dur:\u001b[92m 2.46795 \u001b[0m(-0.02495)\n",
            "\n",
            " > BEST MODEL : tts_train_dir/run-November-17-2022_09+42AM-0000000/best_model_76.pth\n",
            "\n",
            "\u001b[4m\u001b[1m > EPOCH: 19/100\u001b[0m\n",
            " --> tts_train_dir/run-November-17-2022_09+42AM-0000000\n",
            "\n",
            "\u001b[1m > TRAINING (2022-11-17 10:16:55) \u001b[0m\n"
          ]
        },
        {
          "metadata": {
            "tags": null
          },
          "name": "stdout",
          "output_type": "stream",
          "text": [
            "\n",
            "\n",
            "> DataLoader initialization\n",
            "| > Tokenizer:\n",
            "\t| > add_blank: False\n",
            "\t| > use_eos_bos: False\n",
            "\t| > use_phonemes: True\n",
            "\t| > phonemizer:\n",
            "\t\t| > phoneme language: en-us\n",
            "\t\t| > phoneme backend: gruut\n",
            "\t| > 1 not found characters:\n",
            "\t| > ͡\n",
            "| > Number of instances : 100\n",
            " | > Preprocessing samples\n",
            " | > Max text length: 169\n",
            " | > Min text length: 26\n",
            " | > Avg text length: 100.83\n",
            " | \n",
            " | > Max audio length: 219315.0\n",
            " | > Min audio length: 39347.0\n",
            " | > Avg audio length: 145581.88\n",
            " | > Num. instances discarded samples: 0\n",
            " | > Batch group size: 0.\n"
          ]
        },
        {
          "metadata": {
            "tags": null
          },
          "name": "stderr",
          "output_type": "stream",
          "text": [
            "\n",
            "\u001b[1m > EVALUATION \u001b[0m\n",
            "\n"
          ]
        },
        {
          "metadata": {
            "tags": null
          },
          "name": "stdout",
          "output_type": "stream",
          "text": [
            "\n",
            "\n",
            "> DataLoader initialization\n",
            "| > Tokenizer:\n",
            "\t| > add_blank: False\n",
            "\t| > use_eos_bos: False\n",
            "\t| > use_phonemes: True\n",
            "\t| > phonemizer:\n",
            "\t\t| > phoneme language: en-us\n",
            "\t\t| > phoneme backend: gruut\n",
            "\t| > 1 not found characters:\n",
            "\t| > ͡\n",
            "| > Number of instances : 1\n",
            " | > Preprocessing samples\n",
            " | > Max text length: 140\n",
            " | > Min text length: 140\n",
            " | > Avg text length: 140.0\n",
            " | \n",
            " | > Max audio length: 212659.0\n",
            " | > Min audio length: 212659.0\n",
            " | > Avg audio length: 212659.0\n",
            " | > Num. instances discarded samples: 0\n",
            " | > Batch group size: 0.\n",
            " | > Synthesizing test sentences.\n"
          ]
        },
        {
          "metadata": {
            "tags": null
          },
          "name": "stderr",
          "output_type": "stream",
          "text": [
            "\n",
            "  \u001b[1m--> EVAL PERFORMANCE\u001b[0m\n",
            "     | > avg_loader_time:\u001b[92m 0.22204 \u001b[0m(-0.00752)\n",
            "     | > avg_loss:\u001b[92m 3.23576 \u001b[0m(-0.00930)\n",
            "     | > avg_log_mle:\u001b[92m 0.77675 \u001b[0m(-0.00037)\n",
            "     | > avg_loss_dur:\u001b[92m 2.45901 \u001b[0m(-0.00893)\n",
            "\n",
            " > BEST MODEL : tts_train_dir/run-November-17-2022_09+42AM-0000000/best_model_80.pth\n",
            "\n",
            "\u001b[4m\u001b[1m > EPOCH: 20/100\u001b[0m\n",
            " --> tts_train_dir/run-November-17-2022_09+42AM-0000000\n",
            "\n",
            "\u001b[1m > TRAINING (2022-11-17 10:18:53) \u001b[0m\n"
          ]
        },
        {
          "metadata": {
            "tags": null
          },
          "name": "stdout",
          "output_type": "stream",
          "text": [
            "\n",
            "\n",
            "> DataLoader initialization\n",
            "| > Tokenizer:\n",
            "\t| > add_blank: False\n",
            "\t| > use_eos_bos: False\n",
            "\t| > use_phonemes: True\n",
            "\t| > phonemizer:\n",
            "\t\t| > phoneme language: en-us\n",
            "\t\t| > phoneme backend: gruut\n",
            "\t| > 1 not found characters:\n",
            "\t| > ͡\n",
            "| > Number of instances : 100\n",
            " | > Preprocessing samples\n",
            " | > Max text length: 169\n",
            " | > Min text length: 26\n",
            " | > Avg text length: 100.83\n",
            " | \n",
            " | > Max audio length: 219315.0\n",
            " | > Min audio length: 39347.0\n",
            " | > Avg audio length: 145581.88\n",
            " | > Num. instances discarded samples: 0\n",
            " | > Batch group size: 0.\n"
          ]
        },
        {
          "metadata": {
            "tags": null
          },
          "name": "stderr",
          "output_type": "stream",
          "text": [
            "\n",
            "\u001b[1m > EVALUATION \u001b[0m\n",
            "\n"
          ]
        },
        {
          "metadata": {
            "tags": null
          },
          "name": "stdout",
          "output_type": "stream",
          "text": [
            "\n",
            "\n",
            "> DataLoader initialization\n",
            "| > Tokenizer:\n",
            "\t| > add_blank: False\n",
            "\t| > use_eos_bos: False\n",
            "\t| > use_phonemes: True\n",
            "\t| > phonemizer:\n",
            "\t\t| > phoneme language: en-us\n",
            "\t\t| > phoneme backend: gruut\n",
            "\t| > 1 not found characters:\n",
            "\t| > ͡\n",
            "| > Number of instances : 1\n",
            " | > Preprocessing samples\n",
            " | > Max text length: 140\n",
            " | > Min text length: 140\n",
            " | > Avg text length: 140.0\n",
            " | \n",
            " | > Max audio length: 212659.0\n",
            " | > Min audio length: 212659.0\n",
            " | > Avg audio length: 212659.0\n",
            " | > Num. instances discarded samples: 0\n",
            " | > Batch group size: 0.\n",
            " | > Synthesizing test sentences.\n"
          ]
        },
        {
          "metadata": {
            "tags": null
          },
          "name": "stderr",
          "output_type": "stream",
          "text": [
            "\n",
            "  \u001b[1m--> EVAL PERFORMANCE\u001b[0m\n",
            "     | > avg_loader_time:\u001b[91m 0.22314 \u001b[0m(+0.00110)\n",
            "     | > avg_loss:\u001b[92m 3.22428 \u001b[0m(-0.01148)\n",
            "     | > avg_log_mle:\u001b[92m 0.77634 \u001b[0m(-0.00040)\n",
            "     | > avg_loss_dur:\u001b[92m 2.44793 \u001b[0m(-0.01108)\n",
            "\n",
            " > BEST MODEL : tts_train_dir/run-November-17-2022_09+42AM-0000000/best_model_84.pth\n",
            "\n",
            "\u001b[4m\u001b[1m > EPOCH: 21/100\u001b[0m\n",
            " --> tts_train_dir/run-November-17-2022_09+42AM-0000000\n",
            "\n",
            "\u001b[1m > TRAINING (2022-11-17 10:20:50) \u001b[0m\n"
          ]
        },
        {
          "metadata": {
            "tags": null
          },
          "name": "stdout",
          "output_type": "stream",
          "text": [
            "\n",
            "\n",
            "> DataLoader initialization\n",
            "| > Tokenizer:\n",
            "\t| > add_blank: False\n",
            "\t| > use_eos_bos: False\n",
            "\t| > use_phonemes: True\n",
            "\t| > phonemizer:\n",
            "\t\t| > phoneme language: en-us\n",
            "\t\t| > phoneme backend: gruut\n",
            "\t| > 1 not found characters:\n",
            "\t| > ͡\n",
            "| > Number of instances : 100\n",
            " | > Preprocessing samples\n",
            " | > Max text length: 169\n",
            " | > Min text length: 26\n",
            " | > Avg text length: 100.83\n",
            " | \n",
            " | > Max audio length: 219315.0\n",
            " | > Min audio length: 39347.0\n",
            " | > Avg audio length: 145581.88\n",
            " | > Num. instances discarded samples: 0\n",
            " | > Batch group size: 0.\n"
          ]
        },
        {
          "metadata": {
            "tags": null
          },
          "name": "stderr",
          "output_type": "stream",
          "text": [
            "\n",
            "\u001b[1m > EVALUATION \u001b[0m\n",
            "\n"
          ]
        },
        {
          "metadata": {
            "tags": null
          },
          "name": "stdout",
          "output_type": "stream",
          "text": [
            "\n",
            "\n",
            "> DataLoader initialization\n",
            "| > Tokenizer:\n",
            "\t| > add_blank: False\n",
            "\t| > use_eos_bos: False\n",
            "\t| > use_phonemes: True\n",
            "\t| > phonemizer:\n",
            "\t\t| > phoneme language: en-us\n",
            "\t\t| > phoneme backend: gruut\n",
            "\t| > 1 not found characters:\n",
            "\t| > ͡\n",
            "| > Number of instances : 1\n",
            " | > Preprocessing samples\n",
            " | > Max text length: 140\n",
            " | > Min text length: 140\n",
            " | > Avg text length: 140.0\n",
            " | \n",
            " | > Max audio length: 212659.0\n",
            " | > Min audio length: 212659.0\n",
            " | > Avg audio length: 212659.0\n",
            " | > Num. instances discarded samples: 0\n",
            " | > Batch group size: 0.\n",
            " | > Synthesizing test sentences.\n"
          ]
        },
        {
          "metadata": {
            "tags": null
          },
          "name": "stderr",
          "output_type": "stream",
          "text": [
            "\n",
            "  \u001b[1m--> EVAL PERFORMANCE\u001b[0m\n",
            "     | > avg_loader_time:\u001b[91m 0.22915 \u001b[0m(+0.00601)\n",
            "     | > avg_loss:\u001b[92m 3.20636 \u001b[0m(-0.01791)\n",
            "     | > avg_log_mle:\u001b[92m 0.77590 \u001b[0m(-0.00044)\n",
            "     | > avg_loss_dur:\u001b[92m 2.43046 \u001b[0m(-0.01747)\n",
            "\n",
            " > BEST MODEL : tts_train_dir/run-November-17-2022_09+42AM-0000000/best_model_88.pth\n",
            "\n",
            "\u001b[4m\u001b[1m > EPOCH: 22/100\u001b[0m\n",
            " --> tts_train_dir/run-November-17-2022_09+42AM-0000000\n",
            "\n",
            "\u001b[1m > TRAINING (2022-11-17 10:22:49) \u001b[0m\n"
          ]
        },
        {
          "metadata": {
            "tags": null
          },
          "name": "stdout",
          "output_type": "stream",
          "text": [
            "\n",
            "\n",
            "> DataLoader initialization\n",
            "| > Tokenizer:\n",
            "\t| > add_blank: False\n",
            "\t| > use_eos_bos: False\n",
            "\t| > use_phonemes: True\n",
            "\t| > phonemizer:\n",
            "\t\t| > phoneme language: en-us\n",
            "\t\t| > phoneme backend: gruut\n",
            "\t| > 1 not found characters:\n",
            "\t| > ͡\n",
            "| > Number of instances : 100\n",
            " | > Preprocessing samples\n",
            " | > Max text length: 169\n",
            " | > Min text length: 26\n",
            " | > Avg text length: 100.83\n",
            " | \n",
            " | > Max audio length: 219315.0\n",
            " | > Min audio length: 39347.0\n",
            " | > Avg audio length: 145581.88\n",
            " | > Num. instances discarded samples: 0\n",
            " | > Batch group size: 0.\n"
          ]
        },
        {
          "metadata": {
            "tags": null
          },
          "name": "stderr",
          "output_type": "stream",
          "text": [
            "\n",
            "\u001b[1m > EVALUATION \u001b[0m\n",
            "\n"
          ]
        },
        {
          "metadata": {
            "tags": null
          },
          "name": "stdout",
          "output_type": "stream",
          "text": [
            "\n",
            "\n",
            "> DataLoader initialization\n",
            "| > Tokenizer:\n",
            "\t| > add_blank: False\n",
            "\t| > use_eos_bos: False\n",
            "\t| > use_phonemes: True\n",
            "\t| > phonemizer:\n",
            "\t\t| > phoneme language: en-us\n",
            "\t\t| > phoneme backend: gruut\n",
            "\t| > 1 not found characters:\n",
            "\t| > ͡\n",
            "| > Number of instances : 1\n",
            " | > Preprocessing samples\n",
            " | > Max text length: 140\n",
            " | > Min text length: 140\n",
            " | > Avg text length: 140.0\n",
            " | \n",
            " | > Max audio length: 212659.0\n",
            " | > Min audio length: 212659.0\n",
            " | > Avg audio length: 212659.0\n",
            " | > Num. instances discarded samples: 0\n",
            " | > Batch group size: 0.\n",
            " | > Synthesizing test sentences.\n"
          ]
        },
        {
          "metadata": {
            "tags": null
          },
          "name": "stderr",
          "output_type": "stream",
          "text": [
            "\n",
            "  \u001b[1m--> EVAL PERFORMANCE\u001b[0m\n",
            "     | > avg_loader_time:\u001b[91m 0.23097 \u001b[0m(+0.00182)\n",
            "     | > avg_loss:\u001b[92m 3.18785 \u001b[0m(-0.01852)\n",
            "     | > avg_log_mle:\u001b[92m 0.77542 \u001b[0m(-0.00048)\n",
            "     | > avg_loss_dur:\u001b[92m 2.41243 \u001b[0m(-0.01804)\n",
            "\n",
            " > BEST MODEL : tts_train_dir/run-November-17-2022_09+42AM-0000000/best_model_92.pth\n",
            "\n",
            "\u001b[4m\u001b[1m > EPOCH: 23/100\u001b[0m\n",
            " --> tts_train_dir/run-November-17-2022_09+42AM-0000000\n",
            "\n",
            "\u001b[1m > TRAINING (2022-11-17 10:24:51) \u001b[0m\n"
          ]
        },
        {
          "metadata": {
            "tags": null
          },
          "name": "stdout",
          "output_type": "stream",
          "text": [
            "\n",
            "\n",
            "> DataLoader initialization\n",
            "| > Tokenizer:\n",
            "\t| > add_blank: False\n",
            "\t| > use_eos_bos: False\n",
            "\t| > use_phonemes: True\n",
            "\t| > phonemizer:\n",
            "\t\t| > phoneme language: en-us\n",
            "\t\t| > phoneme backend: gruut\n",
            "\t| > 1 not found characters:\n",
            "\t| > ͡\n",
            "| > Number of instances : 100\n",
            " | > Preprocessing samples\n",
            " | > Max text length: 169\n",
            " | > Min text length: 26\n",
            " | > Avg text length: 100.83\n",
            " | \n",
            " | > Max audio length: 219315.0\n",
            " | > Min audio length: 39347.0\n",
            " | > Avg audio length: 145581.88\n",
            " | > Num. instances discarded samples: 0\n",
            " | > Batch group size: 0.\n"
          ]
        },
        {
          "metadata": {
            "tags": null
          },
          "name": "stderr",
          "output_type": "stream",
          "text": [
            "\n",
            "\u001b[1m > EVALUATION \u001b[0m\n",
            "\n"
          ]
        },
        {
          "metadata": {
            "tags": null
          },
          "name": "stdout",
          "output_type": "stream",
          "text": [
            "\n",
            "\n",
            "> DataLoader initialization\n",
            "| > Tokenizer:\n",
            "\t| > add_blank: False\n",
            "\t| > use_eos_bos: False\n",
            "\t| > use_phonemes: True\n",
            "\t| > phonemizer:\n",
            "\t\t| > phoneme language: en-us\n",
            "\t\t| > phoneme backend: gruut\n",
            "\t| > 1 not found characters:\n",
            "\t| > ͡\n",
            "| > Number of instances : 1\n",
            " | > Preprocessing samples\n",
            " | > Max text length: 140\n",
            " | > Min text length: 140\n",
            " | > Avg text length: 140.0\n",
            " | \n",
            " | > Max audio length: 212659.0\n",
            " | > Min audio length: 212659.0\n",
            " | > Avg audio length: 212659.0\n",
            " | > Num. instances discarded samples: 0\n",
            " | > Batch group size: 0.\n",
            " | > Synthesizing test sentences.\n"
          ]
        },
        {
          "metadata": {
            "tags": null
          },
          "name": "stderr",
          "output_type": "stream",
          "text": [
            "\n",
            "  \u001b[1m--> EVAL PERFORMANCE\u001b[0m\n",
            "     | > avg_loader_time:\u001b[91m 0.23521 \u001b[0m(+0.00423)\n",
            "     | > avg_loss:\u001b[92m 3.16912 \u001b[0m(-0.01873)\n",
            "     | > avg_log_mle:\u001b[92m 0.77490 \u001b[0m(-0.00053)\n",
            "     | > avg_loss_dur:\u001b[92m 2.39422 \u001b[0m(-0.01821)\n",
            "\n",
            " > BEST MODEL : tts_train_dir/run-November-17-2022_09+42AM-0000000/best_model_96.pth\n",
            "\n",
            "\u001b[4m\u001b[1m > EPOCH: 24/100\u001b[0m\n",
            " --> tts_train_dir/run-November-17-2022_09+42AM-0000000\n",
            "\n",
            "\u001b[1m > TRAINING (2022-11-17 10:26:52) \u001b[0m\n"
          ]
        },
        {
          "metadata": {
            "tags": null
          },
          "name": "stdout",
          "output_type": "stream",
          "text": [
            "\n",
            "\n",
            "> DataLoader initialization\n",
            "| > Tokenizer:\n",
            "\t| > add_blank: False\n",
            "\t| > use_eos_bos: False\n",
            "\t| > use_phonemes: True\n",
            "\t| > phonemizer:\n",
            "\t\t| > phoneme language: en-us\n",
            "\t\t| > phoneme backend: gruut\n",
            "\t| > 1 not found characters:\n",
            "\t| > ͡\n",
            "| > Number of instances : 100\n",
            " | > Preprocessing samples\n",
            " | > Max text length: 169\n",
            " | > Min text length: 26\n",
            " | > Avg text length: 100.83\n",
            " | \n",
            " | > Max audio length: 219315.0\n",
            " | > Min audio length: 39347.0\n",
            " | > Avg audio length: 145581.88\n",
            " | > Num. instances discarded samples: 0\n",
            " | > Batch group size: 0.\n"
          ]
        },
        {
          "metadata": {
            "tags": null
          },
          "name": "stderr",
          "output_type": "stream",
          "text": [
            "\n",
            "\u001b[1m > EVALUATION \u001b[0m\n",
            "\n"
          ]
        },
        {
          "metadata": {
            "tags": null
          },
          "name": "stdout",
          "output_type": "stream",
          "text": [
            "\n",
            "\n",
            "> DataLoader initialization\n",
            "| > Tokenizer:\n",
            "\t| > add_blank: False\n",
            "\t| > use_eos_bos: False\n",
            "\t| > use_phonemes: True\n",
            "\t| > phonemizer:\n",
            "\t\t| > phoneme language: en-us\n",
            "\t\t| > phoneme backend: gruut\n",
            "\t| > 1 not found characters:\n",
            "\t| > ͡\n",
            "| > Number of instances : 1\n",
            " | > Preprocessing samples\n",
            " | > Max text length: 140\n",
            " | > Min text length: 140\n",
            " | > Avg text length: 140.0\n",
            " | \n",
            " | > Max audio length: 212659.0\n",
            " | > Min audio length: 212659.0\n",
            " | > Avg audio length: 212659.0\n",
            " | > Num. instances discarded samples: 0\n",
            " | > Batch group size: 0.\n",
            " | > Synthesizing test sentences.\n"
          ]
        },
        {
          "metadata": {
            "tags": null
          },
          "name": "stderr",
          "output_type": "stream",
          "text": [
            "\n",
            "  \u001b[1m--> EVAL PERFORMANCE\u001b[0m\n",
            "     | > avg_loader_time:\u001b[92m 0.23124 \u001b[0m(-0.00397)\n",
            "     | > avg_loss:\u001b[92m 3.15546 \u001b[0m(-0.01366)\n",
            "     | > avg_log_mle:\u001b[92m 0.77432 \u001b[0m(-0.00057)\n",
            "     | > avg_loss_dur:\u001b[92m 2.38113 \u001b[0m(-0.01309)\n",
            "\n",
            " > BEST MODEL : tts_train_dir/run-November-17-2022_09+42AM-0000000/best_model_100.pth\n",
            "\n",
            "\u001b[4m\u001b[1m > EPOCH: 25/100\u001b[0m\n",
            " --> tts_train_dir/run-November-17-2022_09+42AM-0000000\n",
            "\n",
            "\u001b[1m > TRAINING (2022-11-17 10:28:49) \u001b[0m\n"
          ]
        },
        {
          "metadata": {
            "tags": null
          },
          "name": "stdout",
          "output_type": "stream",
          "text": [
            "\n",
            "\n",
            "> DataLoader initialization\n",
            "| > Tokenizer:\n",
            "\t| > add_blank: False\n",
            "\t| > use_eos_bos: False\n",
            "\t| > use_phonemes: True\n",
            "\t| > phonemizer:\n",
            "\t\t| > phoneme language: en-us\n",
            "\t\t| > phoneme backend: gruut\n",
            "\t| > 1 not found characters:\n",
            "\t| > ͡\n",
            "| > Number of instances : 100\n",
            " | > Preprocessing samples\n",
            " | > Max text length: 169\n",
            " | > Min text length: 26\n",
            " | > Avg text length: 100.83\n",
            " | \n",
            " | > Max audio length: 219315.0\n",
            " | > Min audio length: 39347.0\n",
            " | > Avg audio length: 145581.88\n",
            " | > Num. instances discarded samples: 0\n",
            " | > Batch group size: 0.\n"
          ]
        },
        {
          "metadata": {
            "tags": null
          },
          "name": "stderr",
          "output_type": "stream",
          "text": [
            "\n",
            "\u001b[1m   --> STEP: 0/4 -- GLOBAL_STEP: 100\u001b[0m\n",
            "     | > loss: 3.20660  (3.20660)\n",
            "     | > log_mle: 0.75634  (0.75634)\n",
            "     | > loss_dur: 2.45026  (2.45026)\n",
            "     | > grad_norm: 8.96478  (8.96478)\n",
            "     | > current_lr: 0.00001 \n",
            "     | > step_time: 37.30080  (37.30082)\n",
            "     | > loader_time: 1.55470  (1.55472)\n",
            "\n",
            "\n",
            "\u001b[1m > EVALUATION \u001b[0m\n",
            "\n"
          ]
        },
        {
          "metadata": {
            "tags": null
          },
          "name": "stdout",
          "output_type": "stream",
          "text": [
            "\n",
            "\n",
            "> DataLoader initialization\n",
            "| > Tokenizer:\n",
            "\t| > add_blank: False\n",
            "\t| > use_eos_bos: False\n",
            "\t| > use_phonemes: True\n",
            "\t| > phonemizer:\n",
            "\t\t| > phoneme language: en-us\n",
            "\t\t| > phoneme backend: gruut\n",
            "\t| > 1 not found characters:\n",
            "\t| > ͡\n",
            "| > Number of instances : 1\n",
            " | > Preprocessing samples\n",
            " | > Max text length: 140\n",
            " | > Min text length: 140\n",
            " | > Avg text length: 140.0\n",
            " | \n",
            " | > Max audio length: 212659.0\n",
            " | > Min audio length: 212659.0\n",
            " | > Avg audio length: 212659.0\n",
            " | > Num. instances discarded samples: 0\n",
            " | > Batch group size: 0.\n",
            " | > Synthesizing test sentences.\n"
          ]
        },
        {
          "metadata": {
            "tags": null
          },
          "name": "stderr",
          "output_type": "stream",
          "text": [
            "\n",
            "  \u001b[1m--> EVAL PERFORMANCE\u001b[0m\n",
            "     | > avg_loader_time:\u001b[91m 0.23349 \u001b[0m(+0.00225)\n",
            "     | > avg_loss:\u001b[92m 3.14244 \u001b[0m(-0.01301)\n",
            "     | > avg_log_mle:\u001b[92m 0.77370 \u001b[0m(-0.00062)\n",
            "     | > avg_loss_dur:\u001b[92m 2.36874 \u001b[0m(-0.01239)\n",
            "\n",
            " > BEST MODEL : tts_train_dir/run-November-17-2022_09+42AM-0000000/best_model_104.pth\n",
            "\n",
            "\u001b[4m\u001b[1m > EPOCH: 26/100\u001b[0m\n",
            " --> tts_train_dir/run-November-17-2022_09+42AM-0000000\n",
            "\n",
            "\u001b[1m > TRAINING (2022-11-17 10:30:46) \u001b[0m\n"
          ]
        },
        {
          "metadata": {
            "tags": null
          },
          "name": "stdout",
          "output_type": "stream",
          "text": [
            "\n",
            "\n",
            "> DataLoader initialization\n",
            "| > Tokenizer:\n",
            "\t| > add_blank: False\n",
            "\t| > use_eos_bos: False\n",
            "\t| > use_phonemes: True\n",
            "\t| > phonemizer:\n",
            "\t\t| > phoneme language: en-us\n",
            "\t\t| > phoneme backend: gruut\n",
            "\t| > 1 not found characters:\n",
            "\t| > ͡\n",
            "| > Number of instances : 100\n",
            " | > Preprocessing samples\n",
            " | > Max text length: 169\n",
            " | > Min text length: 26\n",
            " | > Avg text length: 100.83\n",
            " | \n",
            " | > Max audio length: 219315.0\n",
            " | > Min audio length: 39347.0\n",
            " | > Avg audio length: 145581.88\n",
            " | > Num. instances discarded samples: 0\n",
            " | > Batch group size: 0.\n"
          ]
        },
        {
          "metadata": {
            "tags": null
          },
          "name": "stderr",
          "output_type": "stream",
          "text": [
            "\n",
            "\u001b[1m > EVALUATION \u001b[0m\n",
            "\n"
          ]
        },
        {
          "metadata": {
            "tags": null
          },
          "name": "stdout",
          "output_type": "stream",
          "text": [
            "\n",
            "\n",
            "> DataLoader initialization\n",
            "| > Tokenizer:\n",
            "\t| > add_blank: False\n",
            "\t| > use_eos_bos: False\n",
            "\t| > use_phonemes: True\n",
            "\t| > phonemizer:\n",
            "\t\t| > phoneme language: en-us\n",
            "\t\t| > phoneme backend: gruut\n",
            "\t| > 1 not found characters:\n",
            "\t| > ͡\n",
            "| > Number of instances : 1\n",
            " | > Preprocessing samples\n",
            " | > Max text length: 140\n",
            " | > Min text length: 140\n",
            " | > Avg text length: 140.0\n",
            " | \n",
            " | > Max audio length: 212659.0\n",
            " | > Min audio length: 212659.0\n",
            " | > Avg audio length: 212659.0\n",
            " | > Num. instances discarded samples: 0\n",
            " | > Batch group size: 0.\n",
            " | > Synthesizing test sentences.\n"
          ]
        },
        {
          "metadata": {
            "tags": null
          },
          "name": "stderr",
          "output_type": "stream",
          "text": [
            "\n",
            "  \u001b[1m--> EVAL PERFORMANCE\u001b[0m\n",
            "     | > avg_loader_time:\u001b[91m 0.23728 \u001b[0m(+0.00379)\n",
            "     | > avg_loss:\u001b[92m 3.00072 \u001b[0m(-0.14172)\n",
            "     | > avg_log_mle:\u001b[92m 0.77301 \u001b[0m(-0.00069)\n",
            "     | > avg_loss_dur:\u001b[92m 2.22772 \u001b[0m(-0.14103)\n",
            "\n",
            " > BEST MODEL : tts_train_dir/run-November-17-2022_09+42AM-0000000/best_model_108.pth\n",
            "\n",
            "\u001b[4m\u001b[1m > EPOCH: 27/100\u001b[0m\n",
            " --> tts_train_dir/run-November-17-2022_09+42AM-0000000\n",
            "\n",
            "\u001b[1m > TRAINING (2022-11-17 10:32:44) \u001b[0m\n"
          ]
        },
        {
          "metadata": {
            "tags": null
          },
          "name": "stdout",
          "output_type": "stream",
          "text": [
            "\n",
            "\n",
            "> DataLoader initialization\n",
            "| > Tokenizer:\n",
            "\t| > add_blank: False\n",
            "\t| > use_eos_bos: False\n",
            "\t| > use_phonemes: True\n",
            "\t| > phonemizer:\n",
            "\t\t| > phoneme language: en-us\n",
            "\t\t| > phoneme backend: gruut\n",
            "\t| > 1 not found characters:\n",
            "\t| > ͡\n",
            "| > Number of instances : 100\n",
            " | > Preprocessing samples\n",
            " | > Max text length: 169\n",
            " | > Min text length: 26\n",
            " | > Avg text length: 100.83\n",
            " | \n",
            " | > Max audio length: 219315.0\n",
            " | > Min audio length: 39347.0\n",
            " | > Avg audio length: 145581.88\n",
            " | > Num. instances discarded samples: 0\n",
            " | > Batch group size: 0.\n"
          ]
        },
        {
          "metadata": {
            "tags": null
          },
          "name": "stderr",
          "output_type": "stream",
          "text": [
            "\n",
            "\u001b[1m > EVALUATION \u001b[0m\n",
            "\n"
          ]
        },
        {
          "metadata": {
            "tags": null
          },
          "name": "stdout",
          "output_type": "stream",
          "text": [
            "\n",
            "\n",
            "> DataLoader initialization\n",
            "| > Tokenizer:\n",
            "\t| > add_blank: False\n",
            "\t| > use_eos_bos: False\n",
            "\t| > use_phonemes: True\n",
            "\t| > phonemizer:\n",
            "\t\t| > phoneme language: en-us\n",
            "\t\t| > phoneme backend: gruut\n",
            "\t| > 1 not found characters:\n",
            "\t| > ͡\n",
            "| > Number of instances : 1\n",
            " | > Preprocessing samples\n",
            " | > Max text length: 140\n",
            " | > Min text length: 140\n",
            " | > Avg text length: 140.0\n",
            " | \n",
            " | > Max audio length: 212659.0\n",
            " | > Min audio length: 212659.0\n",
            " | > Avg audio length: 212659.0\n",
            " | > Num. instances discarded samples: 0\n",
            " | > Batch group size: 0.\n",
            " | > Synthesizing test sentences.\n"
          ]
        },
        {
          "metadata": {
            "tags": null
          },
          "name": "stderr",
          "output_type": "stream",
          "text": [
            "\n",
            "  \u001b[1m--> EVAL PERFORMANCE\u001b[0m\n",
            "     | > avg_loader_time:\u001b[91m 0.29894 \u001b[0m(+0.06167)\n",
            "     | > avg_loss:\u001b[92m 2.98247 \u001b[0m(-0.01826)\n",
            "     | > avg_log_mle:\u001b[92m 0.77224 \u001b[0m(-0.00077)\n",
            "     | > avg_loss_dur:\u001b[92m 2.21023 \u001b[0m(-0.01749)\n",
            "\n",
            " > BEST MODEL : tts_train_dir/run-November-17-2022_09+42AM-0000000/best_model_112.pth\n",
            "\n",
            "\u001b[4m\u001b[1m > EPOCH: 28/100\u001b[0m\n",
            " --> tts_train_dir/run-November-17-2022_09+42AM-0000000\n",
            "\n",
            "\u001b[1m > TRAINING (2022-11-17 10:34:46) \u001b[0m\n"
          ]
        },
        {
          "metadata": {
            "tags": null
          },
          "name": "stdout",
          "output_type": "stream",
          "text": [
            "\n",
            "\n",
            "> DataLoader initialization\n",
            "| > Tokenizer:\n",
            "\t| > add_blank: False\n",
            "\t| > use_eos_bos: False\n",
            "\t| > use_phonemes: True\n",
            "\t| > phonemizer:\n",
            "\t\t| > phoneme language: en-us\n",
            "\t\t| > phoneme backend: gruut\n",
            "\t| > 1 not found characters:\n",
            "\t| > ͡\n",
            "| > Number of instances : 100\n",
            " | > Preprocessing samples\n",
            " | > Max text length: 169\n",
            " | > Min text length: 26\n",
            " | > Avg text length: 100.83\n",
            " | \n",
            " | > Max audio length: 219315.0\n",
            " | > Min audio length: 39347.0\n",
            " | > Avg audio length: 145581.88\n",
            " | > Num. instances discarded samples: 0\n",
            " | > Batch group size: 0.\n"
          ]
        },
        {
          "metadata": {
            "tags": null
          },
          "name": "stderr",
          "output_type": "stream",
          "text": [
            "\n",
            "\u001b[1m > EVALUATION \u001b[0m\n",
            "\n"
          ]
        },
        {
          "metadata": {
            "tags": null
          },
          "name": "stdout",
          "output_type": "stream",
          "text": [
            "\n",
            "\n",
            "> DataLoader initialization\n",
            "| > Tokenizer:\n",
            "\t| > add_blank: False\n",
            "\t| > use_eos_bos: False\n",
            "\t| > use_phonemes: True\n",
            "\t| > phonemizer:\n",
            "\t\t| > phoneme language: en-us\n",
            "\t\t| > phoneme backend: gruut\n",
            "\t| > 1 not found characters:\n",
            "\t| > ͡\n",
            "| > Number of instances : 1\n",
            " | > Preprocessing samples\n",
            " | > Max text length: 140\n",
            " | > Min text length: 140\n",
            " | > Avg text length: 140.0\n",
            " | \n",
            " | > Max audio length: 212659.0\n",
            " | > Min audio length: 212659.0\n",
            " | > Avg audio length: 212659.0\n",
            " | > Num. instances discarded samples: 0\n",
            " | > Batch group size: 0.\n",
            " | > Synthesizing test sentences.\n"
          ]
        },
        {
          "metadata": {
            "tags": null
          },
          "name": "stderr",
          "output_type": "stream",
          "text": [
            "\n",
            "  \u001b[1m--> EVAL PERFORMANCE\u001b[0m\n",
            "     | > avg_loader_time:\u001b[92m 0.24123 \u001b[0m(-0.05771)\n",
            "     | > avg_loss:\u001b[91m 2.99795 \u001b[0m(+0.01549)\n",
            "     | > avg_log_mle:\u001b[92m 0.77139 \u001b[0m(-0.00085)\n",
            "     | > avg_loss_dur:\u001b[91m 2.22656 \u001b[0m(+0.01634)\n",
            "\n",
            "\n",
            "\u001b[4m\u001b[1m > EPOCH: 29/100\u001b[0m\n",
            " --> tts_train_dir/run-November-17-2022_09+42AM-0000000\n",
            "\n",
            "\u001b[1m > TRAINING (2022-11-17 10:36:43) \u001b[0m\n"
          ]
        },
        {
          "metadata": {
            "tags": null
          },
          "name": "stdout",
          "output_type": "stream",
          "text": [
            "\n",
            "\n",
            "> DataLoader initialization\n",
            "| > Tokenizer:\n",
            "\t| > add_blank: False\n",
            "\t| > use_eos_bos: False\n",
            "\t| > use_phonemes: True\n",
            "\t| > phonemizer:\n",
            "\t\t| > phoneme language: en-us\n",
            "\t\t| > phoneme backend: gruut\n",
            "\t| > 1 not found characters:\n",
            "\t| > ͡\n",
            "| > Number of instances : 100\n",
            " | > Preprocessing samples\n",
            " | > Max text length: 169\n",
            " | > Min text length: 26\n",
            " | > Avg text length: 100.83\n",
            " | \n",
            " | > Max audio length: 219315.0\n",
            " | > Min audio length: 39347.0\n",
            " | > Avg audio length: 145581.88\n",
            " | > Num. instances discarded samples: 0\n",
            " | > Batch group size: 0.\n"
          ]
        },
        {
          "metadata": {
            "tags": null
          },
          "name": "stderr",
          "output_type": "stream",
          "text": [
            "\n",
            "\u001b[1m > EVALUATION \u001b[0m\n",
            "\n"
          ]
        },
        {
          "metadata": {
            "tags": null
          },
          "name": "stdout",
          "output_type": "stream",
          "text": [
            "\n",
            "\n",
            "> DataLoader initialization\n",
            "| > Tokenizer:\n",
            "\t| > add_blank: False\n",
            "\t| > use_eos_bos: False\n",
            "\t| > use_phonemes: True\n",
            "\t| > phonemizer:\n",
            "\t\t| > phoneme language: en-us\n",
            "\t\t| > phoneme backend: gruut\n",
            "\t| > 1 not found characters:\n",
            "\t| > ͡\n",
            "| > Number of instances : 1\n",
            " | > Preprocessing samples\n",
            " | > Max text length: 140\n",
            " | > Min text length: 140\n",
            " | > Avg text length: 140.0\n",
            " | \n",
            " | > Max audio length: 212659.0\n",
            " | > Min audio length: 212659.0\n",
            " | > Avg audio length: 212659.0\n",
            " | > Num. instances discarded samples: 0\n",
            " | > Batch group size: 0.\n",
            " | > Synthesizing test sentences.\n"
          ]
        },
        {
          "metadata": {
            "tags": null
          },
          "name": "stderr",
          "output_type": "stream",
          "text": [
            "\n",
            "  \u001b[1m--> EVAL PERFORMANCE\u001b[0m\n",
            "     | > avg_loader_time:\u001b[91m 0.24441 \u001b[0m(+0.00318)\n",
            "     | > avg_loss:\u001b[92m 2.97085 \u001b[0m(-0.02710)\n",
            "     | > avg_log_mle:\u001b[92m 0.77045 \u001b[0m(-0.00094)\n",
            "     | > avg_loss_dur:\u001b[92m 2.20041 \u001b[0m(-0.02615)\n",
            "\n",
            " > BEST MODEL : tts_train_dir/run-November-17-2022_09+42AM-0000000/best_model_120.pth\n",
            "\n",
            "\u001b[4m\u001b[1m > EPOCH: 30/100\u001b[0m\n",
            " --> tts_train_dir/run-November-17-2022_09+42AM-0000000\n",
            "\n",
            "\u001b[1m > TRAINING (2022-11-17 10:38:40) \u001b[0m\n"
          ]
        },
        {
          "metadata": {
            "tags": null
          },
          "name": "stdout",
          "output_type": "stream",
          "text": [
            "\n",
            "\n",
            "> DataLoader initialization\n",
            "| > Tokenizer:\n",
            "\t| > add_blank: False\n",
            "\t| > use_eos_bos: False\n",
            "\t| > use_phonemes: True\n",
            "\t| > phonemizer:\n",
            "\t\t| > phoneme language: en-us\n",
            "\t\t| > phoneme backend: gruut\n",
            "\t| > 1 not found characters:\n",
            "\t| > ͡\n",
            "| > Number of instances : 100\n",
            " | > Preprocessing samples\n",
            " | > Max text length: 169\n",
            " | > Min text length: 26\n",
            " | > Avg text length: 100.83\n",
            " | \n",
            " | > Max audio length: 219315.0\n",
            " | > Min audio length: 39347.0\n",
            " | > Avg audio length: 145581.88\n",
            " | > Num. instances discarded samples: 0\n",
            " | > Batch group size: 0.\n"
          ]
        },
        {
          "metadata": {
            "tags": null
          },
          "name": "stderr",
          "output_type": "stream",
          "text": [
            "\n",
            "\u001b[1m > EVALUATION \u001b[0m\n",
            "\n"
          ]
        },
        {
          "metadata": {
            "tags": null
          },
          "name": "stdout",
          "output_type": "stream",
          "text": [
            "\n",
            "\n",
            "> DataLoader initialization\n",
            "| > Tokenizer:\n",
            "\t| > add_blank: False\n",
            "\t| > use_eos_bos: False\n",
            "\t| > use_phonemes: True\n",
            "\t| > phonemizer:\n",
            "\t\t| > phoneme language: en-us\n",
            "\t\t| > phoneme backend: gruut\n",
            "\t| > 1 not found characters:\n",
            "\t| > ͡\n",
            "| > Number of instances : 1\n",
            " | > Preprocessing samples\n",
            " | > Max text length: 140\n",
            " | > Min text length: 140\n",
            " | > Avg text length: 140.0\n",
            " | \n",
            " | > Max audio length: 212659.0\n",
            " | > Min audio length: 212659.0\n",
            " | > Avg audio length: 212659.0\n",
            " | > Num. instances discarded samples: 0\n",
            " | > Batch group size: 0.\n",
            " | > Synthesizing test sentences.\n"
          ]
        },
        {
          "metadata": {
            "tags": null
          },
          "name": "stderr",
          "output_type": "stream",
          "text": [
            "\n",
            "  \u001b[1m--> EVAL PERFORMANCE\u001b[0m\n",
            "     | > avg_loader_time:\u001b[92m 0.23975 \u001b[0m(-0.00466)\n",
            "     | > avg_loss:\u001b[92m 2.96490 \u001b[0m(-0.00595)\n",
            "     | > avg_log_mle:\u001b[92m 0.76939 \u001b[0m(-0.00105)\n",
            "     | > avg_loss_dur:\u001b[92m 2.19551 \u001b[0m(-0.00490)\n",
            "\n",
            " > BEST MODEL : tts_train_dir/run-November-17-2022_09+42AM-0000000/best_model_124.pth\n",
            "\n",
            "\u001b[4m\u001b[1m > EPOCH: 31/100\u001b[0m\n",
            " --> tts_train_dir/run-November-17-2022_09+42AM-0000000\n",
            "\n",
            "\u001b[1m > TRAINING (2022-11-17 10:40:38) \u001b[0m\n"
          ]
        },
        {
          "metadata": {
            "tags": null
          },
          "name": "stdout",
          "output_type": "stream",
          "text": [
            "\n",
            "\n",
            "> DataLoader initialization\n",
            "| > Tokenizer:\n",
            "\t| > add_blank: False\n",
            "\t| > use_eos_bos: False\n",
            "\t| > use_phonemes: True\n",
            "\t| > phonemizer:\n",
            "\t\t| > phoneme language: en-us\n",
            "\t\t| > phoneme backend: gruut\n",
            "\t| > 1 not found characters:\n",
            "\t| > ͡\n",
            "| > Number of instances : 100\n",
            " | > Preprocessing samples\n",
            " | > Max text length: 169\n",
            " | > Min text length: 26\n",
            " | > Avg text length: 100.83\n",
            " | \n",
            " | > Max audio length: 219315.0\n",
            " | > Min audio length: 39347.0\n",
            " | > Avg audio length: 145581.88\n",
            " | > Num. instances discarded samples: 0\n",
            " | > Batch group size: 0.\n"
          ]
        },
        {
          "metadata": {
            "tags": null
          },
          "name": "stderr",
          "output_type": "stream",
          "text": [
            "\n",
            "\u001b[1m   --> STEP: 1/4 -- GLOBAL_STEP: 125\u001b[0m\n",
            "     | > loss: 3.01072  (3.01072)\n",
            "     | > log_mle: 0.75103  (0.75103)\n",
            "     | > loss_dur: 2.25969  (2.25969)\n",
            "     | > grad_norm: 7.62897  (7.62897)\n",
            "     | > current_lr: 0.00001 \n",
            "     | > step_time: 33.36340  (33.36342)\n",
            "     | > loader_time: 0.00220  (0.00215)\n",
            "\n",
            "\n",
            "\u001b[1m > EVALUATION \u001b[0m\n",
            "\n"
          ]
        },
        {
          "metadata": {
            "tags": null
          },
          "name": "stdout",
          "output_type": "stream",
          "text": [
            "\n",
            "\n",
            "> DataLoader initialization\n",
            "| > Tokenizer:\n",
            "\t| > add_blank: False\n",
            "\t| > use_eos_bos: False\n",
            "\t| > use_phonemes: True\n",
            "\t| > phonemizer:\n",
            "\t\t| > phoneme language: en-us\n",
            "\t\t| > phoneme backend: gruut\n",
            "\t| > 1 not found characters:\n",
            "\t| > ͡\n",
            "| > Number of instances : 1\n",
            " | > Preprocessing samples\n",
            " | > Max text length: 140\n",
            " | > Min text length: 140\n",
            " | > Avg text length: 140.0\n",
            " | \n",
            " | > Max audio length: 212659.0\n",
            " | > Min audio length: 212659.0\n",
            " | > Avg audio length: 212659.0\n",
            " | > Num. instances discarded samples: 0\n",
            " | > Batch group size: 0.\n",
            " | > Synthesizing test sentences.\n"
          ]
        },
        {
          "metadata": {
            "tags": null
          },
          "name": "stderr",
          "output_type": "stream",
          "text": [
            "\n",
            "  \u001b[1m--> EVAL PERFORMANCE\u001b[0m\n",
            "     | > avg_loader_time:\u001b[91m 0.24027 \u001b[0m(+0.00051)\n",
            "     | > avg_loss:\u001b[92m 2.96166 \u001b[0m(-0.00324)\n",
            "     | > avg_log_mle:\u001b[92m 0.76823 \u001b[0m(-0.00117)\n",
            "     | > avg_loss_dur:\u001b[92m 2.19343 \u001b[0m(-0.00207)\n",
            "\n",
            " > BEST MODEL : tts_train_dir/run-November-17-2022_09+42AM-0000000/best_model_128.pth\n",
            "\n",
            "\u001b[4m\u001b[1m > EPOCH: 32/100\u001b[0m\n",
            " --> tts_train_dir/run-November-17-2022_09+42AM-0000000\n",
            "\n",
            "\u001b[1m > TRAINING (2022-11-17 10:42:36) \u001b[0m\n"
          ]
        },
        {
          "metadata": {
            "tags": null
          },
          "name": "stdout",
          "output_type": "stream",
          "text": [
            "\n",
            "\n",
            "> DataLoader initialization\n",
            "| > Tokenizer:\n",
            "\t| > add_blank: False\n",
            "\t| > use_eos_bos: False\n",
            "\t| > use_phonemes: True\n",
            "\t| > phonemizer:\n",
            "\t\t| > phoneme language: en-us\n",
            "\t\t| > phoneme backend: gruut\n",
            "\t| > 1 not found characters:\n",
            "\t| > ͡\n",
            "| > Number of instances : 100\n",
            " | > Preprocessing samples\n",
            " | > Max text length: 169\n",
            " | > Min text length: 26\n",
            " | > Avg text length: 100.83\n",
            " | \n",
            " | > Max audio length: 219315.0\n",
            " | > Min audio length: 39347.0\n",
            " | > Avg audio length: 145581.88\n",
            " | > Num. instances discarded samples: 0\n",
            " | > Batch group size: 0.\n"
          ]
        },
        {
          "metadata": {
            "tags": null
          },
          "name": "stderr",
          "output_type": "stream",
          "text": [
            "\n",
            "\u001b[1m > EVALUATION \u001b[0m\n",
            "\n"
          ]
        },
        {
          "metadata": {
            "tags": null
          },
          "name": "stdout",
          "output_type": "stream",
          "text": [
            "\n",
            "\n",
            "> DataLoader initialization\n",
            "| > Tokenizer:\n",
            "\t| > add_blank: False\n",
            "\t| > use_eos_bos: False\n",
            "\t| > use_phonemes: True\n",
            "\t| > phonemizer:\n",
            "\t\t| > phoneme language: en-us\n",
            "\t\t| > phoneme backend: gruut\n",
            "\t| > 1 not found characters:\n",
            "\t| > ͡\n",
            "| > Number of instances : 1\n",
            " | > Preprocessing samples\n",
            " | > Max text length: 140\n",
            " | > Min text length: 140\n",
            " | > Avg text length: 140.0\n",
            " | \n",
            " | > Max audio length: 212659.0\n",
            " | > Min audio length: 212659.0\n",
            " | > Avg audio length: 212659.0\n",
            " | > Num. instances discarded samples: 0\n",
            " | > Batch group size: 0.\n",
            " | > Synthesizing test sentences.\n"
          ]
        },
        {
          "metadata": {
            "tags": null
          },
          "name": "stderr",
          "output_type": "stream",
          "text": [
            "\n",
            "  \u001b[1m--> EVAL PERFORMANCE\u001b[0m\n",
            "     | > avg_loader_time:\u001b[91m 0.25744 \u001b[0m(+0.01718)\n",
            "     | > avg_loss:\u001b[92m 2.90125 \u001b[0m(-0.06041)\n",
            "     | > avg_log_mle:\u001b[92m 0.76689 \u001b[0m(-0.00133)\n",
            "     | > avg_loss_dur:\u001b[92m 2.13436 \u001b[0m(-0.05907)\n",
            "\n",
            " > BEST MODEL : tts_train_dir/run-November-17-2022_09+42AM-0000000/best_model_132.pth\n",
            "\n",
            "\u001b[4m\u001b[1m > EPOCH: 33/100\u001b[0m\n",
            " --> tts_train_dir/run-November-17-2022_09+42AM-0000000\n",
            "\n",
            "\u001b[1m > TRAINING (2022-11-17 10:44:39) \u001b[0m\n"
          ]
        },
        {
          "metadata": {
            "tags": null
          },
          "name": "stdout",
          "output_type": "stream",
          "text": [
            "\n",
            "\n",
            "> DataLoader initialization\n",
            "| > Tokenizer:\n",
            "\t| > add_blank: False\n",
            "\t| > use_eos_bos: False\n",
            "\t| > use_phonemes: True\n",
            "\t| > phonemizer:\n",
            "\t\t| > phoneme language: en-us\n",
            "\t\t| > phoneme backend: gruut\n",
            "\t| > 1 not found characters:\n",
            "\t| > ͡\n",
            "| > Number of instances : 100\n",
            " | > Preprocessing samples\n",
            " | > Max text length: 169\n",
            " | > Min text length: 26\n",
            " | > Avg text length: 100.83\n",
            " | \n",
            " | > Max audio length: 219315.0\n",
            " | > Min audio length: 39347.0\n",
            " | > Avg audio length: 145581.88\n",
            " | > Num. instances discarded samples: 0\n",
            " | > Batch group size: 0.\n"
          ]
        },
        {
          "metadata": {
            "tags": null
          },
          "name": "stderr",
          "output_type": "stream",
          "text": [
            "\n",
            "\u001b[1m > EVALUATION \u001b[0m\n",
            "\n"
          ]
        },
        {
          "metadata": {
            "tags": null
          },
          "name": "stdout",
          "output_type": "stream",
          "text": [
            "\n",
            "\n",
            "> DataLoader initialization\n",
            "| > Tokenizer:\n",
            "\t| > add_blank: False\n",
            "\t| > use_eos_bos: False\n",
            "\t| > use_phonemes: True\n",
            "\t| > phonemizer:\n",
            "\t\t| > phoneme language: en-us\n",
            "\t\t| > phoneme backend: gruut\n",
            "\t| > 1 not found characters:\n",
            "\t| > ͡\n",
            "| > Number of instances : 1\n",
            " | > Preprocessing samples\n",
            " | > Max text length: 140\n",
            " | > Min text length: 140\n",
            " | > Avg text length: 140.0\n",
            " | \n",
            " | > Max audio length: 212659.0\n",
            " | > Min audio length: 212659.0\n",
            " | > Avg audio length: 212659.0\n",
            " | > Num. instances discarded samples: 0\n",
            " | > Batch group size: 0.\n",
            " | > Synthesizing test sentences.\n"
          ]
        },
        {
          "metadata": {
            "tags": null
          },
          "name": "stderr",
          "output_type": "stream",
          "text": [
            "\n",
            "  \u001b[1m--> EVAL PERFORMANCE\u001b[0m\n",
            "     | > avg_loader_time:\u001b[92m 0.24847 \u001b[0m(-0.00898)\n",
            "     | > avg_loss:\u001b[91m 2.90138 \u001b[0m(+0.00012)\n",
            "     | > avg_log_mle:\u001b[92m 0.76540 \u001b[0m(-0.00150)\n",
            "     | > avg_loss_dur:\u001b[91m 2.13598 \u001b[0m(+0.00162)\n",
            "\n",
            "\n",
            "\u001b[4m\u001b[1m > EPOCH: 34/100\u001b[0m\n",
            " --> tts_train_dir/run-November-17-2022_09+42AM-0000000\n",
            "\n",
            "\u001b[1m > TRAINING (2022-11-17 10:46:34) \u001b[0m\n"
          ]
        },
        {
          "metadata": {
            "tags": null
          },
          "name": "stdout",
          "output_type": "stream",
          "text": [
            "\n",
            "\n",
            "> DataLoader initialization\n",
            "| > Tokenizer:\n",
            "\t| > add_blank: False\n",
            "\t| > use_eos_bos: False\n",
            "\t| > use_phonemes: True\n",
            "\t| > phonemizer:\n",
            "\t\t| > phoneme language: en-us\n",
            "\t\t| > phoneme backend: gruut\n",
            "\t| > 1 not found characters:\n",
            "\t| > ͡\n",
            "| > Number of instances : 100\n",
            " | > Preprocessing samples\n",
            " | > Max text length: 169\n",
            " | > Min text length: 26\n",
            " | > Avg text length: 100.83\n",
            " | \n",
            " | > Max audio length: 219315.0\n",
            " | > Min audio length: 39347.0\n",
            " | > Avg audio length: 145581.88\n",
            " | > Num. instances discarded samples: 0\n",
            " | > Batch group size: 0.\n"
          ]
        },
        {
          "metadata": {
            "tags": null
          },
          "name": "stderr",
          "output_type": "stream",
          "text": [
            "\n",
            "\u001b[1m > EVALUATION \u001b[0m\n",
            "\n"
          ]
        },
        {
          "metadata": {
            "tags": null
          },
          "name": "stdout",
          "output_type": "stream",
          "text": [
            "\n",
            "\n",
            "> DataLoader initialization\n",
            "| > Tokenizer:\n",
            "\t| > add_blank: False\n",
            "\t| > use_eos_bos: False\n",
            "\t| > use_phonemes: True\n",
            "\t| > phonemizer:\n",
            "\t\t| > phoneme language: en-us\n",
            "\t\t| > phoneme backend: gruut\n",
            "\t| > 1 not found characters:\n",
            "\t| > ͡\n",
            "| > Number of instances : 1\n",
            " | > Preprocessing samples\n",
            " | > Max text length: 140\n",
            " | > Min text length: 140\n",
            " | > Avg text length: 140.0\n",
            " | \n",
            " | > Max audio length: 212659.0\n",
            " | > Min audio length: 212659.0\n",
            " | > Avg audio length: 212659.0\n",
            " | > Num. instances discarded samples: 0\n",
            " | > Batch group size: 0.\n",
            " | > Synthesizing test sentences.\n"
          ]
        },
        {
          "metadata": {
            "tags": null
          },
          "name": "stderr",
          "output_type": "stream",
          "text": [
            "\n",
            "  \u001b[1m--> EVAL PERFORMANCE\u001b[0m\n",
            "     | > avg_loader_time:\u001b[91m 0.25259 \u001b[0m(+0.00412)\n",
            "     | > avg_loss:\u001b[92m 2.84557 \u001b[0m(-0.05581)\n",
            "     | > avg_log_mle:\u001b[92m 0.76372 \u001b[0m(-0.00168)\n",
            "     | > avg_loss_dur:\u001b[92m 2.08185 \u001b[0m(-0.05413)\n",
            "\n",
            " > BEST MODEL : tts_train_dir/run-November-17-2022_09+42AM-0000000/best_model_140.pth\n",
            "\n",
            "\u001b[4m\u001b[1m > EPOCH: 35/100\u001b[0m\n",
            " --> tts_train_dir/run-November-17-2022_09+42AM-0000000\n",
            "\n",
            "\u001b[1m > TRAINING (2022-11-17 10:48:34) \u001b[0m\n"
          ]
        },
        {
          "metadata": {
            "tags": null
          },
          "name": "stdout",
          "output_type": "stream",
          "text": [
            "\n",
            "\n",
            "> DataLoader initialization\n",
            "| > Tokenizer:\n",
            "\t| > add_blank: False\n",
            "\t| > use_eos_bos: False\n",
            "\t| > use_phonemes: True\n",
            "\t| > phonemizer:\n",
            "\t\t| > phoneme language: en-us\n",
            "\t\t| > phoneme backend: gruut\n",
            "\t| > 1 not found characters:\n",
            "\t| > ͡\n",
            "| > Number of instances : 100\n",
            " | > Preprocessing samples\n",
            " | > Max text length: 169\n",
            " | > Min text length: 26\n",
            " | > Avg text length: 100.83\n",
            " | \n",
            " | > Max audio length: 219315.0\n",
            " | > Min audio length: 39347.0\n",
            " | > Avg audio length: 145581.88\n",
            " | > Num. instances discarded samples: 0\n",
            " | > Batch group size: 0.\n"
          ]
        },
        {
          "metadata": {
            "tags": null
          },
          "name": "stderr",
          "output_type": "stream",
          "text": [
            "\n",
            "\u001b[1m > EVALUATION \u001b[0m\n",
            "\n"
          ]
        },
        {
          "metadata": {
            "tags": null
          },
          "name": "stdout",
          "output_type": "stream",
          "text": [
            "\n",
            "\n",
            "> DataLoader initialization\n",
            "| > Tokenizer:\n",
            "\t| > add_blank: False\n",
            "\t| > use_eos_bos: False\n",
            "\t| > use_phonemes: True\n",
            "\t| > phonemizer:\n",
            "\t\t| > phoneme language: en-us\n",
            "\t\t| > phoneme backend: gruut\n",
            "\t| > 1 not found characters:\n",
            "\t| > ͡\n",
            "| > Number of instances : 1\n",
            " | > Preprocessing samples\n",
            " | > Max text length: 140\n",
            " | > Min text length: 140\n",
            " | > Avg text length: 140.0\n",
            " | \n",
            " | > Max audio length: 212659.0\n",
            " | > Min audio length: 212659.0\n",
            " | > Avg audio length: 212659.0\n",
            " | > Num. instances discarded samples: 0\n",
            " | > Batch group size: 0.\n",
            " | > Synthesizing test sentences.\n"
          ]
        },
        {
          "metadata": {
            "tags": null
          },
          "name": "stderr",
          "output_type": "stream",
          "text": [
            "\n",
            "  \u001b[1m--> EVAL PERFORMANCE\u001b[0m\n",
            "     | > avg_loader_time:\u001b[92m 0.23335 \u001b[0m(-0.01924)\n",
            "     | > avg_loss:\u001b[92m 2.82934 \u001b[0m(-0.01623)\n",
            "     | > avg_log_mle:\u001b[92m 0.76182 \u001b[0m(-0.00190)\n",
            "     | > avg_loss_dur:\u001b[92m 2.06752 \u001b[0m(-0.01433)\n",
            "\n",
            " > BEST MODEL : tts_train_dir/run-November-17-2022_09+42AM-0000000/best_model_144.pth\n",
            "\n",
            "\u001b[4m\u001b[1m > EPOCH: 36/100\u001b[0m\n",
            " --> tts_train_dir/run-November-17-2022_09+42AM-0000000\n",
            "\n",
            "\u001b[1m > TRAINING (2022-11-17 10:50:32) \u001b[0m\n"
          ]
        },
        {
          "metadata": {
            "tags": null
          },
          "name": "stdout",
          "output_type": "stream",
          "text": [
            "\n",
            "\n",
            "> DataLoader initialization\n",
            "| > Tokenizer:\n",
            "\t| > add_blank: False\n",
            "\t| > use_eos_bos: False\n",
            "\t| > use_phonemes: True\n",
            "\t| > phonemizer:\n",
            "\t\t| > phoneme language: en-us\n",
            "\t\t| > phoneme backend: gruut\n",
            "\t| > 1 not found characters:\n",
            "\t| > ͡\n",
            "| > Number of instances : 100\n",
            " | > Preprocessing samples\n",
            " | > Max text length: 169\n",
            " | > Min text length: 26\n",
            " | > Avg text length: 100.83\n",
            " | \n",
            " | > Max audio length: 219315.0\n",
            " | > Min audio length: 39347.0\n",
            " | > Avg audio length: 145581.88\n",
            " | > Num. instances discarded samples: 0\n",
            " | > Batch group size: 0.\n"
          ]
        },
        {
          "metadata": {
            "tags": null
          },
          "name": "stderr",
          "output_type": "stream",
          "text": [
            "\n",
            "\u001b[1m > EVALUATION \u001b[0m\n",
            "\n"
          ]
        },
        {
          "metadata": {
            "tags": null
          },
          "name": "stdout",
          "output_type": "stream",
          "text": [
            "\n",
            "\n",
            "> DataLoader initialization\n",
            "| > Tokenizer:\n",
            "\t| > add_blank: False\n",
            "\t| > use_eos_bos: False\n",
            "\t| > use_phonemes: True\n",
            "\t| > phonemizer:\n",
            "\t\t| > phoneme language: en-us\n",
            "\t\t| > phoneme backend: gruut\n",
            "\t| > 1 not found characters:\n",
            "\t| > ͡\n",
            "| > Number of instances : 1\n",
            " | > Preprocessing samples\n",
            " | > Max text length: 140\n",
            " | > Min text length: 140\n",
            " | > Avg text length: 140.0\n",
            " | \n",
            " | > Max audio length: 212659.0\n",
            " | > Min audio length: 212659.0\n",
            " | > Avg audio length: 212659.0\n",
            " | > Num. instances discarded samples: 0\n",
            " | > Batch group size: 0.\n",
            " | > Synthesizing test sentences.\n"
          ]
        },
        {
          "metadata": {
            "tags": null
          },
          "name": "stderr",
          "output_type": "stream",
          "text": [
            "\n",
            "  \u001b[1m--> EVAL PERFORMANCE\u001b[0m\n",
            "     | > avg_loader_time:\u001b[92m 0.22657 \u001b[0m(-0.00677)\n",
            "     | > avg_loss:\u001b[92m 2.82500 \u001b[0m(-0.00434)\n",
            "     | > avg_log_mle:\u001b[92m 0.75970 \u001b[0m(-0.00212)\n",
            "     | > avg_loss_dur:\u001b[92m 2.06530 \u001b[0m(-0.00222)\n",
            "\n",
            " > BEST MODEL : tts_train_dir/run-November-17-2022_09+42AM-0000000/best_model_148.pth\n",
            "\n",
            "\u001b[4m\u001b[1m > EPOCH: 37/100\u001b[0m\n",
            " --> tts_train_dir/run-November-17-2022_09+42AM-0000000\n",
            "\n",
            "\u001b[1m > TRAINING (2022-11-17 10:52:29) \u001b[0m\n"
          ]
        },
        {
          "metadata": {
            "tags": null
          },
          "name": "stdout",
          "output_type": "stream",
          "text": [
            "\n",
            "\n",
            "> DataLoader initialization\n",
            "| > Tokenizer:\n",
            "\t| > add_blank: False\n",
            "\t| > use_eos_bos: False\n",
            "\t| > use_phonemes: True\n",
            "\t| > phonemizer:\n",
            "\t\t| > phoneme language: en-us\n",
            "\t\t| > phoneme backend: gruut\n",
            "\t| > 1 not found characters:\n",
            "\t| > ͡\n",
            "| > Number of instances : 100\n",
            " | > Preprocessing samples\n",
            " | > Max text length: 169\n",
            " | > Min text length: 26\n",
            " | > Avg text length: 100.83\n",
            " | \n",
            " | > Max audio length: 219315.0\n",
            " | > Min audio length: 39347.0\n",
            " | > Avg audio length: 145581.88\n",
            " | > Num. instances discarded samples: 0\n",
            " | > Batch group size: 0.\n"
          ]
        },
        {
          "metadata": {
            "tags": null
          },
          "name": "stderr",
          "output_type": "stream",
          "text": [
            "\n",
            "\u001b[1m   --> STEP: 2/4 -- GLOBAL_STEP: 150\u001b[0m\n",
            "     | > loss: 2.87745  (2.89709)\n",
            "     | > log_mle: 0.73968  (0.74079)\n",
            "     | > loss_dur: 2.13777  (2.15630)\n",
            "     | > grad_norm: 6.22315  (6.27834)\n",
            "     | > current_lr: 0.00001 \n",
            "     | > step_time: 32.81270  (33.73341)\n",
            "     | > loader_time: 0.00170  (0.00202)\n",
            "\n",
            "\n",
            "\u001b[1m > EVALUATION \u001b[0m\n",
            "\n"
          ]
        },
        {
          "metadata": {
            "tags": null
          },
          "name": "stdout",
          "output_type": "stream",
          "text": [
            "\n",
            "\n",
            "> DataLoader initialization\n",
            "| > Tokenizer:\n",
            "\t| > add_blank: False\n",
            "\t| > use_eos_bos: False\n",
            "\t| > use_phonemes: True\n",
            "\t| > phonemizer:\n",
            "\t\t| > phoneme language: en-us\n",
            "\t\t| > phoneme backend: gruut\n",
            "\t| > 1 not found characters:\n",
            "\t| > ͡\n",
            "| > Number of instances : 1\n",
            " | > Preprocessing samples\n",
            " | > Max text length: 140\n",
            " | > Min text length: 140\n",
            " | > Avg text length: 140.0\n",
            " | \n",
            " | > Max audio length: 212659.0\n",
            " | > Min audio length: 212659.0\n",
            " | > Avg audio length: 212659.0\n",
            " | > Num. instances discarded samples: 0\n",
            " | > Batch group size: 0.\n",
            " | > Synthesizing test sentences.\n"
          ]
        },
        {
          "metadata": {
            "tags": null
          },
          "name": "stderr",
          "output_type": "stream",
          "text": [
            "\n",
            "  \u001b[1m--> EVAL PERFORMANCE\u001b[0m\n",
            "     | > avg_loader_time:\u001b[91m 0.24240 \u001b[0m(+0.01583)\n",
            "     | > avg_loss:\u001b[91m 2.83741 \u001b[0m(+0.01241)\n",
            "     | > avg_log_mle:\u001b[92m 0.75733 \u001b[0m(-0.00237)\n",
            "     | > avg_loss_dur:\u001b[91m 2.08008 \u001b[0m(+0.01478)\n",
            "\n",
            "\n",
            "\u001b[4m\u001b[1m > EPOCH: 38/100\u001b[0m\n",
            " --> tts_train_dir/run-November-17-2022_09+42AM-0000000\n",
            "\n",
            "\u001b[1m > TRAINING (2022-11-17 10:54:24) \u001b[0m\n"
          ]
        },
        {
          "metadata": {
            "tags": null
          },
          "name": "stdout",
          "output_type": "stream",
          "text": [
            "\n",
            "\n",
            "> DataLoader initialization\n",
            "| > Tokenizer:\n",
            "\t| > add_blank: False\n",
            "\t| > use_eos_bos: False\n",
            "\t| > use_phonemes: True\n",
            "\t| > phonemizer:\n",
            "\t\t| > phoneme language: en-us\n",
            "\t\t| > phoneme backend: gruut\n",
            "\t| > 1 not found characters:\n",
            "\t| > ͡\n",
            "| > Number of instances : 100\n",
            " | > Preprocessing samples\n",
            " | > Max text length: 169\n",
            " | > Min text length: 26\n",
            " | > Avg text length: 100.83\n",
            " | \n",
            " | > Max audio length: 219315.0\n",
            " | > Min audio length: 39347.0\n",
            " | > Avg audio length: 145581.88\n",
            " | > Num. instances discarded samples: 0\n",
            " | > Batch group size: 0.\n"
          ]
        },
        {
          "metadata": {
            "tags": null
          },
          "name": "stderr",
          "output_type": "stream",
          "text": [
            "\n",
            "\u001b[1m > EVALUATION \u001b[0m\n",
            "\n"
          ]
        },
        {
          "metadata": {
            "tags": null
          },
          "name": "stdout",
          "output_type": "stream",
          "text": [
            "\n",
            "\n",
            "> DataLoader initialization\n",
            "| > Tokenizer:\n",
            "\t| > add_blank: False\n",
            "\t| > use_eos_bos: False\n",
            "\t| > use_phonemes: True\n",
            "\t| > phonemizer:\n",
            "\t\t| > phoneme language: en-us\n",
            "\t\t| > phoneme backend: gruut\n",
            "\t| > 1 not found characters:\n",
            "\t| > ͡\n",
            "| > Number of instances : 1\n",
            " | > Preprocessing samples\n",
            " | > Max text length: 140\n",
            " | > Min text length: 140\n",
            " | > Avg text length: 140.0\n",
            " | \n",
            " | > Max audio length: 212659.0\n",
            " | > Min audio length: 212659.0\n",
            " | > Avg audio length: 212659.0\n",
            " | > Num. instances discarded samples: 0\n",
            " | > Batch group size: 0.\n",
            " | > Synthesizing test sentences.\n"
          ]
        },
        {
          "metadata": {
            "tags": null
          },
          "name": "stderr",
          "output_type": "stream",
          "text": [
            "\n",
            "  \u001b[1m--> EVAL PERFORMANCE\u001b[0m\n",
            "     | > avg_loader_time:\u001b[91m 0.26542 \u001b[0m(+0.02302)\n",
            "     | > avg_loss:\u001b[91m 2.87679 \u001b[0m(+0.03938)\n",
            "     | > avg_log_mle:\u001b[92m 0.75470 \u001b[0m(-0.00263)\n",
            "     | > avg_loss_dur:\u001b[91m 2.12210 \u001b[0m(+0.04201)\n",
            "\n",
            "\n",
            "\u001b[4m\u001b[1m > EPOCH: 39/100\u001b[0m\n",
            " --> tts_train_dir/run-November-17-2022_09+42AM-0000000\n",
            "\n",
            "\u001b[1m > TRAINING (2022-11-17 10:56:30) \u001b[0m\n"
          ]
        },
        {
          "metadata": {
            "tags": null
          },
          "name": "stdout",
          "output_type": "stream",
          "text": [
            "\n",
            "\n",
            "> DataLoader initialization\n",
            "| > Tokenizer:\n",
            "\t| > add_blank: False\n",
            "\t| > use_eos_bos: False\n",
            "\t| > use_phonemes: True\n",
            "\t| > phonemizer:\n",
            "\t\t| > phoneme language: en-us\n",
            "\t\t| > phoneme backend: gruut\n",
            "\t| > 1 not found characters:\n",
            "\t| > ͡\n",
            "| > Number of instances : 100\n",
            " | > Preprocessing samples\n",
            " | > Max text length: 169\n",
            " | > Min text length: 26\n",
            " | > Avg text length: 100.83\n",
            " | \n",
            " | > Max audio length: 219315.0\n",
            " | > Min audio length: 39347.0\n",
            " | > Avg audio length: 145581.88\n",
            " | > Num. instances discarded samples: 0\n",
            " | > Batch group size: 0.\n"
          ]
        },
        {
          "metadata": {
            "tags": null
          },
          "name": "stderr",
          "output_type": "stream",
          "text": [
            "\n",
            "\u001b[1m > EVALUATION \u001b[0m\n",
            "\n"
          ]
        },
        {
          "metadata": {
            "tags": null
          },
          "name": "stdout",
          "output_type": "stream",
          "text": [
            "\n",
            "\n",
            "> DataLoader initialization\n",
            "| > Tokenizer:\n",
            "\t| > add_blank: False\n",
            "\t| > use_eos_bos: False\n",
            "\t| > use_phonemes: True\n",
            "\t| > phonemizer:\n",
            "\t\t| > phoneme language: en-us\n",
            "\t\t| > phoneme backend: gruut\n",
            "\t| > 1 not found characters:\n",
            "\t| > ͡\n",
            "| > Number of instances : 1\n",
            " | > Preprocessing samples\n",
            " | > Max text length: 140\n",
            " | > Min text length: 140\n",
            " | > Avg text length: 140.0\n",
            " | \n",
            " | > Max audio length: 212659.0\n",
            " | > Min audio length: 212659.0\n",
            " | > Avg audio length: 212659.0\n",
            " | > Num. instances discarded samples: 0\n",
            " | > Batch group size: 0.\n",
            " | > Synthesizing test sentences.\n"
          ]
        },
        {
          "metadata": {
            "tags": null
          },
          "name": "stderr",
          "output_type": "stream",
          "text": [
            "\n",
            "  \u001b[1m--> EVAL PERFORMANCE\u001b[0m\n",
            "     | > avg_loader_time:\u001b[92m 0.23338 \u001b[0m(-0.03204)\n",
            "     | > avg_loss:\u001b[91m 2.88157 \u001b[0m(+0.00477)\n",
            "     | > avg_log_mle:\u001b[92m 0.75183 \u001b[0m(-0.00287)\n",
            "     | > avg_loss_dur:\u001b[91m 2.12974 \u001b[0m(+0.00764)\n",
            "\n",
            "\n",
            "\u001b[4m\u001b[1m > EPOCH: 40/100\u001b[0m\n",
            " --> tts_train_dir/run-November-17-2022_09+42AM-0000000\n",
            "\n",
            "\u001b[1m > TRAINING (2022-11-17 10:58:29) \u001b[0m\n"
          ]
        },
        {
          "metadata": {
            "tags": null
          },
          "name": "stdout",
          "output_type": "stream",
          "text": [
            "\n",
            "\n",
            "> DataLoader initialization\n",
            "| > Tokenizer:\n",
            "\t| > add_blank: False\n",
            "\t| > use_eos_bos: False\n",
            "\t| > use_phonemes: True\n",
            "\t| > phonemizer:\n",
            "\t\t| > phoneme language: en-us\n",
            "\t\t| > phoneme backend: gruut\n",
            "\t| > 1 not found characters:\n",
            "\t| > ͡\n",
            "| > Number of instances : 100\n",
            " | > Preprocessing samples\n",
            " | > Max text length: 169\n",
            " | > Min text length: 26\n",
            " | > Avg text length: 100.83\n",
            " | \n",
            " | > Max audio length: 219315.0\n",
            " | > Min audio length: 39347.0\n",
            " | > Avg audio length: 145581.88\n",
            " | > Num. instances discarded samples: 0\n",
            " | > Batch group size: 0.\n"
          ]
        },
        {
          "metadata": {
            "tags": null
          },
          "name": "stderr",
          "output_type": "stream",
          "text": [
            "\n",
            "\u001b[1m > EVALUATION \u001b[0m\n",
            "\n"
          ]
        },
        {
          "metadata": {
            "tags": null
          },
          "name": "stdout",
          "output_type": "stream",
          "text": [
            "\n",
            "\n",
            "> DataLoader initialization\n",
            "| > Tokenizer:\n",
            "\t| > add_blank: False\n",
            "\t| > use_eos_bos: False\n",
            "\t| > use_phonemes: True\n",
            "\t| > phonemizer:\n",
            "\t\t| > phoneme language: en-us\n",
            "\t\t| > phoneme backend: gruut\n",
            "\t| > 1 not found characters:\n",
            "\t| > ͡\n",
            "| > Number of instances : 1\n",
            " | > Preprocessing samples\n",
            " | > Max text length: 140\n",
            " | > Min text length: 140\n",
            " | > Avg text length: 140.0\n",
            " | \n",
            " | > Max audio length: 212659.0\n",
            " | > Min audio length: 212659.0\n",
            " | > Avg audio length: 212659.0\n",
            " | > Num. instances discarded samples: 0\n",
            " | > Batch group size: 0.\n",
            " | > Synthesizing test sentences.\n"
          ]
        },
        {
          "metadata": {
            "tags": null
          },
          "name": "stderr",
          "output_type": "stream",
          "text": [
            "\n",
            "  \u001b[1m--> EVAL PERFORMANCE\u001b[0m\n",
            "     | > avg_loader_time:\u001b[91m 0.25720 \u001b[0m(+0.02382)\n",
            "     | > avg_loss:\u001b[91m 2.89167 \u001b[0m(+0.01010)\n",
            "     | > avg_log_mle:\u001b[92m 0.74877 \u001b[0m(-0.00306)\n",
            "     | > avg_loss_dur:\u001b[91m 2.14290 \u001b[0m(+0.01316)\n",
            "\n",
            "\n",
            "\u001b[4m\u001b[1m > EPOCH: 41/100\u001b[0m\n",
            " --> tts_train_dir/run-November-17-2022_09+42AM-0000000\n",
            "\n",
            "\u001b[1m > TRAINING (2022-11-17 11:00:24) \u001b[0m\n"
          ]
        },
        {
          "metadata": {
            "tags": null
          },
          "name": "stdout",
          "output_type": "stream",
          "text": [
            "\n",
            "\n",
            "> DataLoader initialization\n",
            "| > Tokenizer:\n",
            "\t| > add_blank: False\n",
            "\t| > use_eos_bos: False\n",
            "\t| > use_phonemes: True\n",
            "\t| > phonemizer:\n",
            "\t\t| > phoneme language: en-us\n",
            "\t\t| > phoneme backend: gruut\n",
            "\t| > 1 not found characters:\n",
            "\t| > ͡\n",
            "| > Number of instances : 100\n",
            " | > Preprocessing samples\n",
            " | > Max text length: 169\n",
            " | > Min text length: 26\n",
            " | > Avg text length: 100.83\n",
            " | \n",
            " | > Max audio length: 219315.0\n",
            " | > Min audio length: 39347.0\n",
            " | > Avg audio length: 145581.88\n",
            " | > Num. instances discarded samples: 0\n",
            " | > Batch group size: 0.\n"
          ]
        },
        {
          "metadata": {
            "tags": null
          },
          "name": "stderr",
          "output_type": "stream",
          "text": [
            "\n",
            "\u001b[1m > EVALUATION \u001b[0m\n",
            "\n"
          ]
        },
        {
          "metadata": {
            "tags": null
          },
          "name": "stdout",
          "output_type": "stream",
          "text": [
            "\n",
            "\n",
            "> DataLoader initialization\n",
            "| > Tokenizer:\n",
            "\t| > add_blank: False\n",
            "\t| > use_eos_bos: False\n",
            "\t| > use_phonemes: True\n",
            "\t| > phonemizer:\n",
            "\t\t| > phoneme language: en-us\n",
            "\t\t| > phoneme backend: gruut\n",
            "\t| > 1 not found characters:\n",
            "\t| > ͡\n",
            "| > Number of instances : 1\n",
            " | > Preprocessing samples\n",
            " | > Max text length: 140\n",
            " | > Min text length: 140\n",
            " | > Avg text length: 140.0\n",
            " | \n",
            " | > Max audio length: 212659.0\n",
            " | > Min audio length: 212659.0\n",
            " | > Avg audio length: 212659.0\n",
            " | > Num. instances discarded samples: 0\n",
            " | > Batch group size: 0.\n",
            " | > Synthesizing test sentences.\n"
          ]
        },
        {
          "metadata": {
            "tags": null
          },
          "name": "stderr",
          "output_type": "stream",
          "text": [
            "\n",
            "  \u001b[1m--> EVAL PERFORMANCE\u001b[0m\n",
            "     | > avg_loader_time:\u001b[92m 0.23162 \u001b[0m(-0.02558)\n",
            "     | > avg_loss:\u001b[91m 2.89862 \u001b[0m(+0.00695)\n",
            "     | > avg_log_mle:\u001b[92m 0.74547 \u001b[0m(-0.00330)\n",
            "     | > avg_loss_dur:\u001b[91m 2.15315 \u001b[0m(+0.01025)\n",
            "\n",
            "\n",
            "\u001b[4m\u001b[1m > EPOCH: 42/100\u001b[0m\n",
            " --> tts_train_dir/run-November-17-2022_09+42AM-0000000\n",
            "\n",
            "\u001b[1m > TRAINING (2022-11-17 11:02:17) \u001b[0m\n"
          ]
        },
        {
          "metadata": {
            "tags": null
          },
          "name": "stdout",
          "output_type": "stream",
          "text": [
            "\n",
            "\n",
            "> DataLoader initialization\n",
            "| > Tokenizer:\n",
            "\t| > add_blank: False\n",
            "\t| > use_eos_bos: False\n",
            "\t| > use_phonemes: True\n",
            "\t| > phonemizer:\n",
            "\t\t| > phoneme language: en-us\n",
            "\t\t| > phoneme backend: gruut\n",
            "\t| > 1 not found characters:\n",
            "\t| > ͡\n",
            "| > Number of instances : 100\n",
            " | > Preprocessing samples\n",
            " | > Max text length: 169\n",
            " | > Min text length: 26\n",
            " | > Avg text length: 100.83\n",
            " | \n",
            " | > Max audio length: 219315.0\n",
            " | > Min audio length: 39347.0\n",
            " | > Avg audio length: 145581.88\n",
            " | > Num. instances discarded samples: 0\n",
            " | > Batch group size: 0.\n"
          ]
        },
        {
          "metadata": {
            "tags": null
          },
          "name": "stderr",
          "output_type": "stream",
          "text": [
            "\n",
            "\u001b[1m > EVALUATION \u001b[0m\n",
            "\n"
          ]
        },
        {
          "metadata": {
            "tags": null
          },
          "name": "stdout",
          "output_type": "stream",
          "text": [
            "\n",
            "\n",
            "> DataLoader initialization\n",
            "| > Tokenizer:\n",
            "\t| > add_blank: False\n",
            "\t| > use_eos_bos: False\n",
            "\t| > use_phonemes: True\n",
            "\t| > phonemizer:\n",
            "\t\t| > phoneme language: en-us\n",
            "\t\t| > phoneme backend: gruut\n",
            "\t| > 1 not found characters:\n",
            "\t| > ͡\n",
            "| > Number of instances : 1\n",
            " | > Preprocessing samples\n",
            " | > Max text length: 140\n",
            " | > Min text length: 140\n",
            " | > Avg text length: 140.0\n",
            " | \n",
            " | > Max audio length: 212659.0\n",
            " | > Min audio length: 212659.0\n",
            " | > Avg audio length: 212659.0\n",
            " | > Num. instances discarded samples: 0\n",
            " | > Batch group size: 0.\n",
            " | > Synthesizing test sentences.\n"
          ]
        },
        {
          "metadata": {
            "tags": null
          },
          "name": "stderr",
          "output_type": "stream",
          "text": [
            "\n",
            "  \u001b[1m--> EVAL PERFORMANCE\u001b[0m\n",
            "     | > avg_loader_time:\u001b[91m 0.23710 \u001b[0m(+0.00549)\n",
            "     | > avg_loss:\u001b[91m 2.90494 \u001b[0m(+0.00632)\n",
            "     | > avg_log_mle:\u001b[92m 0.74193 \u001b[0m(-0.00354)\n",
            "     | > avg_loss_dur:\u001b[91m 2.16301 \u001b[0m(+0.00986)\n",
            "\n",
            "\n",
            "\u001b[4m\u001b[1m > EPOCH: 43/100\u001b[0m\n",
            " --> tts_train_dir/run-November-17-2022_09+42AM-0000000\n",
            "\n",
            "\u001b[1m > TRAINING (2022-11-17 11:04:12) \u001b[0m\n"
          ]
        },
        {
          "metadata": {
            "tags": null
          },
          "name": "stdout",
          "output_type": "stream",
          "text": [
            "\n",
            "\n",
            "> DataLoader initialization\n",
            "| > Tokenizer:\n",
            "\t| > add_blank: False\n",
            "\t| > use_eos_bos: False\n",
            "\t| > use_phonemes: True\n",
            "\t| > phonemizer:\n",
            "\t\t| > phoneme language: en-us\n",
            "\t\t| > phoneme backend: gruut\n",
            "\t| > 1 not found characters:\n",
            "\t| > ͡\n",
            "| > Number of instances : 100\n",
            " | > Preprocessing samples\n",
            " | > Max text length: 169\n",
            " | > Min text length: 26\n",
            " | > Avg text length: 100.83\n",
            " | \n",
            " | > Max audio length: 219315.0\n",
            " | > Min audio length: 39347.0\n",
            " | > Avg audio length: 145581.88\n",
            " | > Num. instances discarded samples: 0\n",
            " | > Batch group size: 0.\n"
          ]
        },
        {
          "metadata": {
            "tags": null
          },
          "name": "stderr",
          "output_type": "stream",
          "text": [
            "\n",
            "\u001b[1m   --> STEP: 3/4 -- GLOBAL_STEP: 175\u001b[0m\n",
            "     | > loss: 2.86637  (2.84805)\n",
            "     | > log_mle: 0.71917  (0.72081)\n",
            "     | > loss_dur: 2.14721  (2.12724)\n",
            "     | > grad_norm: 5.34725  (5.31507)\n",
            "     | > current_lr: 0.00001 \n",
            "     | > step_time: 6.03850  (23.85913)\n",
            "     | > loader_time: 0.00260  (0.00204)\n",
            "\n",
            "\n",
            "\u001b[1m > EVALUATION \u001b[0m\n",
            "\n"
          ]
        },
        {
          "metadata": {
            "tags": null
          },
          "name": "stdout",
          "output_type": "stream",
          "text": [
            "\n",
            "\n",
            "> DataLoader initialization\n",
            "| > Tokenizer:\n",
            "\t| > add_blank: False\n",
            "\t| > use_eos_bos: False\n",
            "\t| > use_phonemes: True\n",
            "\t| > phonemizer:\n",
            "\t\t| > phoneme language: en-us\n",
            "\t\t| > phoneme backend: gruut\n",
            "\t| > 1 not found characters:\n",
            "\t| > ͡\n",
            "| > Number of instances : 1\n",
            " | > Preprocessing samples\n",
            " | > Max text length: 140\n",
            " | > Min text length: 140\n",
            " | > Avg text length: 140.0\n",
            " | \n",
            " | > Max audio length: 212659.0\n",
            " | > Min audio length: 212659.0\n",
            " | > Avg audio length: 212659.0\n",
            " | > Num. instances discarded samples: 0\n",
            " | > Batch group size: 0.\n",
            " | > Synthesizing test sentences.\n"
          ]
        },
        {
          "metadata": {
            "tags": null
          },
          "name": "stderr",
          "output_type": "stream",
          "text": [
            "\n",
            "  \u001b[1m--> EVAL PERFORMANCE\u001b[0m\n",
            "     | > avg_loader_time:\u001b[91m 0.24279 \u001b[0m(+0.00568)\n",
            "     | > avg_loss:\u001b[91m 2.90890 \u001b[0m(+0.00396)\n",
            "     | > avg_log_mle:\u001b[92m 0.73819 \u001b[0m(-0.00373)\n",
            "     | > avg_loss_dur:\u001b[91m 2.17071 \u001b[0m(+0.00770)\n",
            "\n",
            "\n",
            "\u001b[4m\u001b[1m > EPOCH: 44/100\u001b[0m\n",
            " --> tts_train_dir/run-November-17-2022_09+42AM-0000000\n",
            "\n",
            "\u001b[1m > TRAINING (2022-11-17 11:06:12) \u001b[0m\n"
          ]
        },
        {
          "metadata": {
            "tags": null
          },
          "name": "stdout",
          "output_type": "stream",
          "text": [
            "\n",
            "\n",
            "> DataLoader initialization\n",
            "| > Tokenizer:\n",
            "\t| > add_blank: False\n",
            "\t| > use_eos_bos: False\n",
            "\t| > use_phonemes: True\n",
            "\t| > phonemizer:\n",
            "\t\t| > phoneme language: en-us\n",
            "\t\t| > phoneme backend: gruut\n",
            "\t| > 1 not found characters:\n",
            "\t| > ͡\n",
            "| > Number of instances : 100\n",
            " | > Preprocessing samples\n",
            " | > Max text length: 169\n",
            " | > Min text length: 26\n",
            " | > Avg text length: 100.83\n",
            " | \n",
            " | > Max audio length: 219315.0\n",
            " | > Min audio length: 39347.0\n",
            " | > Avg audio length: 145581.88\n",
            " | > Num. instances discarded samples: 0\n",
            " | > Batch group size: 0.\n"
          ]
        },
        {
          "metadata": {
            "tags": null
          },
          "name": "stderr",
          "output_type": "stream",
          "text": [
            "\n",
            "\u001b[1m > EVALUATION \u001b[0m\n",
            "\n"
          ]
        },
        {
          "metadata": {
            "tags": null
          },
          "name": "stdout",
          "output_type": "stream",
          "text": [
            "\n",
            "\n",
            "> DataLoader initialization\n",
            "| > Tokenizer:\n",
            "\t| > add_blank: False\n",
            "\t| > use_eos_bos: False\n",
            "\t| > use_phonemes: True\n",
            "\t| > phonemizer:\n",
            "\t\t| > phoneme language: en-us\n",
            "\t\t| > phoneme backend: gruut\n",
            "\t| > 1 not found characters:\n",
            "\t| > ͡\n",
            "| > Number of instances : 1\n",
            " | > Preprocessing samples\n",
            " | > Max text length: 140\n",
            " | > Min text length: 140\n",
            " | > Avg text length: 140.0\n",
            " | \n",
            " | > Max audio length: 212659.0\n",
            " | > Min audio length: 212659.0\n",
            " | > Avg audio length: 212659.0\n",
            " | > Num. instances discarded samples: 0\n",
            " | > Batch group size: 0.\n",
            " | > Synthesizing test sentences.\n"
          ]
        },
        {
          "metadata": {
            "tags": null
          },
          "name": "stderr",
          "output_type": "stream",
          "text": [
            "\n",
            "  \u001b[1m--> EVAL PERFORMANCE\u001b[0m\n",
            "     | > avg_loader_time:\u001b[91m 0.24531 \u001b[0m(+0.00253)\n",
            "     | > avg_loss:\u001b[92m 2.90807 \u001b[0m(-0.00083)\n",
            "     | > avg_log_mle:\u001b[92m 0.73431 \u001b[0m(-0.00388)\n",
            "     | > avg_loss_dur:\u001b[91m 2.17376 \u001b[0m(+0.00305)\n",
            "\n",
            "\n",
            "\u001b[4m\u001b[1m > EPOCH: 45/100\u001b[0m\n",
            " --> tts_train_dir/run-November-17-2022_09+42AM-0000000\n",
            "\n",
            "\u001b[1m > TRAINING (2022-11-17 11:08:08) \u001b[0m\n"
          ]
        },
        {
          "metadata": {
            "tags": null
          },
          "name": "stdout",
          "output_type": "stream",
          "text": [
            "\n",
            "\n",
            "> DataLoader initialization\n",
            "| > Tokenizer:\n",
            "\t| > add_blank: False\n",
            "\t| > use_eos_bos: False\n",
            "\t| > use_phonemes: True\n",
            "\t| > phonemizer:\n",
            "\t\t| > phoneme language: en-us\n",
            "\t\t| > phoneme backend: gruut\n",
            "\t| > 1 not found characters:\n",
            "\t| > ͡\n",
            "| > Number of instances : 100\n",
            " | > Preprocessing samples\n",
            " | > Max text length: 169\n",
            " | > Min text length: 26\n",
            " | > Avg text length: 100.83\n",
            " | \n",
            " | > Max audio length: 219315.0\n",
            " | > Min audio length: 39347.0\n",
            " | > Avg audio length: 145581.88\n",
            " | > Num. instances discarded samples: 0\n",
            " | > Batch group size: 0.\n"
          ]
        },
        {
          "metadata": {
            "tags": null
          },
          "name": "stderr",
          "output_type": "stream",
          "text": [
            "\n",
            "\u001b[1m > EVALUATION \u001b[0m\n",
            "\n"
          ]
        },
        {
          "metadata": {
            "tags": null
          },
          "name": "stdout",
          "output_type": "stream",
          "text": [
            "\n",
            "\n",
            "> DataLoader initialization\n",
            "| > Tokenizer:\n",
            "\t| > add_blank: False\n",
            "\t| > use_eos_bos: False\n",
            "\t| > use_phonemes: True\n",
            "\t| > phonemizer:\n",
            "\t\t| > phoneme language: en-us\n",
            "\t\t| > phoneme backend: gruut\n",
            "\t| > 1 not found characters:\n",
            "\t| > ͡\n",
            "| > Number of instances : 1\n",
            " | > Preprocessing samples\n",
            " | > Max text length: 140\n",
            " | > Min text length: 140\n",
            " | > Avg text length: 140.0\n",
            " | \n",
            " | > Max audio length: 212659.0\n",
            " | > Min audio length: 212659.0\n",
            " | > Avg audio length: 212659.0\n",
            " | > Num. instances discarded samples: 0\n",
            " | > Batch group size: 0.\n",
            " | > Synthesizing test sentences.\n"
          ]
        },
        {
          "metadata": {
            "tags": null
          },
          "name": "stderr",
          "output_type": "stream",
          "text": [
            "\n",
            "  \u001b[1m--> EVAL PERFORMANCE\u001b[0m\n",
            "     | > avg_loader_time:\u001b[91m 0.33715 \u001b[0m(+0.09184)\n",
            "     | > avg_loss:\u001b[92m 2.89837 \u001b[0m(-0.00970)\n",
            "     | > avg_log_mle:\u001b[92m 0.73026 \u001b[0m(-0.00405)\n",
            "     | > avg_loss_dur:\u001b[92m 2.16811 \u001b[0m(-0.00565)\n",
            "\n",
            "\n",
            "\u001b[4m\u001b[1m > EPOCH: 46/100\u001b[0m\n",
            " --> tts_train_dir/run-November-17-2022_09+42AM-0000000\n",
            "\n",
            "\u001b[1m > TRAINING (2022-11-17 11:10:02) \u001b[0m\n"
          ]
        },
        {
          "metadata": {
            "tags": null
          },
          "name": "stdout",
          "output_type": "stream",
          "text": [
            "\n",
            "\n",
            "> DataLoader initialization\n",
            "| > Tokenizer:\n",
            "\t| > add_blank: False\n",
            "\t| > use_eos_bos: False\n",
            "\t| > use_phonemes: True\n",
            "\t| > phonemizer:\n",
            "\t\t| > phoneme language: en-us\n",
            "\t\t| > phoneme backend: gruut\n",
            "\t| > 1 not found characters:\n",
            "\t| > ͡\n",
            "| > Number of instances : 100\n",
            " | > Preprocessing samples\n",
            " | > Max text length: 169\n",
            " | > Min text length: 26\n",
            " | > Avg text length: 100.83\n",
            " | \n",
            " | > Max audio length: 219315.0\n",
            " | > Min audio length: 39347.0\n",
            " | > Avg audio length: 145581.88\n",
            " | > Num. instances discarded samples: 0\n",
            " | > Batch group size: 0.\n"
          ]
        },
        {
          "metadata": {
            "tags": null
          },
          "name": "stderr",
          "output_type": "stream",
          "text": [
            "\n",
            "\u001b[1m > EVALUATION \u001b[0m\n",
            "\n"
          ]
        },
        {
          "metadata": {
            "tags": null
          },
          "name": "stdout",
          "output_type": "stream",
          "text": [
            "\n",
            "\n",
            "> DataLoader initialization\n",
            "| > Tokenizer:\n",
            "\t| > add_blank: False\n",
            "\t| > use_eos_bos: False\n",
            "\t| > use_phonemes: True\n",
            "\t| > phonemizer:\n",
            "\t\t| > phoneme language: en-us\n",
            "\t\t| > phoneme backend: gruut\n",
            "\t| > 1 not found characters:\n",
            "\t| > ͡\n",
            "| > Number of instances : 1\n",
            " | > Preprocessing samples\n",
            " | > Max text length: 140\n",
            " | > Min text length: 140\n",
            " | > Avg text length: 140.0\n",
            " | \n",
            " | > Max audio length: 212659.0\n",
            " | > Min audio length: 212659.0\n",
            " | > Avg audio length: 212659.0\n",
            " | > Num. instances discarded samples: 0\n",
            " | > Batch group size: 0.\n",
            " | > Synthesizing test sentences.\n"
          ]
        },
        {
          "metadata": {
            "tags": null
          },
          "name": "stderr",
          "output_type": "stream",
          "text": [
            "\n",
            "  \u001b[1m--> EVAL PERFORMANCE\u001b[0m\n",
            "     | > avg_loader_time:\u001b[92m 0.31105 \u001b[0m(-0.02610)\n",
            "     | > avg_loss:\u001b[92m 2.88763 \u001b[0m(-0.01074)\n",
            "     | > avg_log_mle:\u001b[92m 0.72607 \u001b[0m(-0.00419)\n",
            "     | > avg_loss_dur:\u001b[92m 2.16156 \u001b[0m(-0.00655)\n",
            "\n",
            "\n",
            "\u001b[4m\u001b[1m > EPOCH: 47/100\u001b[0m\n",
            " --> tts_train_dir/run-November-17-2022_09+42AM-0000000\n",
            "\n",
            "\u001b[1m > TRAINING (2022-11-17 11:11:57) \u001b[0m\n"
          ]
        },
        {
          "metadata": {
            "tags": null
          },
          "name": "stdout",
          "output_type": "stream",
          "text": [
            "\n",
            "\n",
            "> DataLoader initialization\n",
            "| > Tokenizer:\n",
            "\t| > add_blank: False\n",
            "\t| > use_eos_bos: False\n",
            "\t| > use_phonemes: True\n",
            "\t| > phonemizer:\n",
            "\t\t| > phoneme language: en-us\n",
            "\t\t| > phoneme backend: gruut\n",
            "\t| > 1 not found characters:\n",
            "\t| > ͡\n",
            "| > Number of instances : 100\n",
            " | > Preprocessing samples\n",
            " | > Max text length: 169\n",
            " | > Min text length: 26\n",
            " | > Avg text length: 100.83\n",
            " | \n",
            " | > Max audio length: 219315.0\n",
            " | > Min audio length: 39347.0\n",
            " | > Avg audio length: 145581.88\n",
            " | > Num. instances discarded samples: 0\n",
            " | > Batch group size: 0.\n"
          ]
        },
        {
          "metadata": {
            "tags": null
          },
          "name": "stderr",
          "output_type": "stream",
          "text": [
            "\n",
            "\u001b[1m > EVALUATION \u001b[0m\n",
            "\n"
          ]
        },
        {
          "metadata": {
            "tags": null
          },
          "name": "stdout",
          "output_type": "stream",
          "text": [
            "\n",
            "\n",
            "> DataLoader initialization\n",
            "| > Tokenizer:\n",
            "\t| > add_blank: False\n",
            "\t| > use_eos_bos: False\n",
            "\t| > use_phonemes: True\n",
            "\t| > phonemizer:\n",
            "\t\t| > phoneme language: en-us\n",
            "\t\t| > phoneme backend: gruut\n",
            "\t| > 1 not found characters:\n",
            "\t| > ͡\n",
            "| > Number of instances : 1\n",
            " | > Preprocessing samples\n",
            " | > Max text length: 140\n",
            " | > Min text length: 140\n",
            " | > Avg text length: 140.0\n",
            " | \n",
            " | > Max audio length: 212659.0\n",
            " | > Min audio length: 212659.0\n",
            " | > Avg audio length: 212659.0\n",
            " | > Num. instances discarded samples: 0\n",
            " | > Batch group size: 0.\n",
            " | > Synthesizing test sentences.\n"
          ]
        },
        {
          "metadata": {
            "tags": null
          },
          "name": "stderr",
          "output_type": "stream",
          "text": [
            "\n",
            "  \u001b[1m--> EVAL PERFORMANCE\u001b[0m\n",
            "     | > avg_loader_time:\u001b[92m 0.23918 \u001b[0m(-0.07187)\n",
            "     | > avg_loss:\u001b[92m 2.87843 \u001b[0m(-0.00921)\n",
            "     | > avg_log_mle:\u001b[92m 0.72170 \u001b[0m(-0.00437)\n",
            "     | > avg_loss_dur:\u001b[92m 2.15673 \u001b[0m(-0.00483)\n",
            "\n",
            "\n",
            "\u001b[4m\u001b[1m > EPOCH: 48/100\u001b[0m\n",
            " --> tts_train_dir/run-November-17-2022_09+42AM-0000000\n",
            "\n",
            "\u001b[1m > TRAINING (2022-11-17 11:13:52) \u001b[0m\n"
          ]
        },
        {
          "metadata": {
            "tags": null
          },
          "name": "stdout",
          "output_type": "stream",
          "text": [
            "\n",
            "\n",
            "> DataLoader initialization\n",
            "| > Tokenizer:\n",
            "\t| > add_blank: False\n",
            "\t| > use_eos_bos: False\n",
            "\t| > use_phonemes: True\n",
            "\t| > phonemizer:\n",
            "\t\t| > phoneme language: en-us\n",
            "\t\t| > phoneme backend: gruut\n",
            "\t| > 1 not found characters:\n",
            "\t| > ͡\n",
            "| > Number of instances : 100\n",
            " | > Preprocessing samples\n",
            " | > Max text length: 169\n",
            " | > Min text length: 26\n",
            " | > Avg text length: 100.83\n",
            " | \n",
            " | > Max audio length: 219315.0\n",
            " | > Min audio length: 39347.0\n",
            " | > Avg audio length: 145581.88\n",
            " | > Num. instances discarded samples: 0\n",
            " | > Batch group size: 0.\n"
          ]
        },
        {
          "metadata": {
            "tags": null
          },
          "name": "stderr",
          "output_type": "stream",
          "text": [
            "\n",
            "\u001b[1m > EVALUATION \u001b[0m\n",
            "\n"
          ]
        },
        {
          "metadata": {
            "tags": null
          },
          "name": "stdout",
          "output_type": "stream",
          "text": [
            "\n",
            "\n",
            "> DataLoader initialization\n",
            "| > Tokenizer:\n",
            "\t| > add_blank: False\n",
            "\t| > use_eos_bos: False\n",
            "\t| > use_phonemes: True\n",
            "\t| > phonemizer:\n",
            "\t\t| > phoneme language: en-us\n",
            "\t\t| > phoneme backend: gruut\n",
            "\t| > 1 not found characters:\n",
            "\t| > ͡\n",
            "| > Number of instances : 1\n",
            " | > Preprocessing samples\n",
            " | > Max text length: 140\n",
            " | > Min text length: 140\n",
            " | > Avg text length: 140.0\n",
            " | \n",
            " | > Max audio length: 212659.0\n",
            " | > Min audio length: 212659.0\n",
            " | > Avg audio length: 212659.0\n",
            " | > Num. instances discarded samples: 0\n",
            " | > Batch group size: 0.\n",
            " | > Synthesizing test sentences.\n"
          ]
        },
        {
          "metadata": {
            "tags": null
          },
          "name": "stderr",
          "output_type": "stream",
          "text": [
            "\n",
            "  \u001b[1m--> EVAL PERFORMANCE\u001b[0m\n",
            "     | > avg_loader_time:\u001b[91m 0.24651 \u001b[0m(+0.00733)\n",
            "     | > avg_loss:\u001b[92m 2.86603 \u001b[0m(-0.01240)\n",
            "     | > avg_log_mle:\u001b[92m 0.71712 \u001b[0m(-0.00458)\n",
            "     | > avg_loss_dur:\u001b[92m 2.14890 \u001b[0m(-0.00782)\n",
            "\n",
            "\n",
            "\u001b[4m\u001b[1m > EPOCH: 49/100\u001b[0m\n",
            " --> tts_train_dir/run-November-17-2022_09+42AM-0000000\n",
            "\n",
            "\u001b[1m > TRAINING (2022-11-17 11:15:50) \u001b[0m\n"
          ]
        },
        {
          "metadata": {
            "tags": null
          },
          "name": "stdout",
          "output_type": "stream",
          "text": [
            "\n",
            "\n",
            "> DataLoader initialization\n",
            "| > Tokenizer:\n",
            "\t| > add_blank: False\n",
            "\t| > use_eos_bos: False\n",
            "\t| > use_phonemes: True\n",
            "\t| > phonemizer:\n",
            "\t\t| > phoneme language: en-us\n",
            "\t\t| > phoneme backend: gruut\n",
            "\t| > 1 not found characters:\n",
            "\t| > ͡\n",
            "| > Number of instances : 100\n",
            " | > Preprocessing samples\n",
            " | > Max text length: 169\n",
            " | > Min text length: 26\n",
            " | > Avg text length: 100.83\n",
            " | \n",
            " | > Max audio length: 219315.0\n",
            " | > Min audio length: 39347.0\n",
            " | > Avg audio length: 145581.88\n",
            " | > Num. instances discarded samples: 0\n",
            " | > Batch group size: 0.\n"
          ]
        },
        {
          "metadata": {
            "tags": null
          },
          "name": "stderr",
          "output_type": "stream",
          "text": [
            "\n",
            "\u001b[1m > EVALUATION \u001b[0m\n",
            "\n"
          ]
        },
        {
          "metadata": {
            "tags": null
          },
          "name": "stdout",
          "output_type": "stream",
          "text": [
            "\n",
            "\n",
            "> DataLoader initialization\n",
            "| > Tokenizer:\n",
            "\t| > add_blank: False\n",
            "\t| > use_eos_bos: False\n",
            "\t| > use_phonemes: True\n",
            "\t| > phonemizer:\n",
            "\t\t| > phoneme language: en-us\n",
            "\t\t| > phoneme backend: gruut\n",
            "\t| > 1 not found characters:\n",
            "\t| > ͡\n",
            "| > Number of instances : 1\n",
            " | > Preprocessing samples\n",
            " | > Max text length: 140\n",
            " | > Min text length: 140\n",
            " | > Avg text length: 140.0\n",
            " | \n",
            " | > Max audio length: 212659.0\n",
            " | > Min audio length: 212659.0\n",
            " | > Avg audio length: 212659.0\n",
            " | > Num. instances discarded samples: 0\n",
            " | > Batch group size: 0.\n",
            " | > Synthesizing test sentences.\n"
          ]
        },
        {
          "metadata": {
            "tags": null
          },
          "name": "stderr",
          "output_type": "stream",
          "text": [
            "\n",
            "  \u001b[1m--> EVAL PERFORMANCE\u001b[0m\n",
            "     | > avg_loader_time:\u001b[92m 0.22673 \u001b[0m(-0.01978)\n",
            "     | > avg_loss:\u001b[92m 2.85558 \u001b[0m(-0.01045)\n",
            "     | > avg_log_mle:\u001b[92m 0.71245 \u001b[0m(-0.00467)\n",
            "     | > avg_loss_dur:\u001b[92m 2.14312 \u001b[0m(-0.00578)\n",
            "\n",
            "\n",
            "\u001b[4m\u001b[1m > EPOCH: 50/100\u001b[0m\n",
            " --> tts_train_dir/run-November-17-2022_09+42AM-0000000\n",
            "\n",
            "\u001b[1m > TRAINING (2022-11-17 11:17:50) \u001b[0m\n"
          ]
        },
        {
          "metadata": {
            "tags": null
          },
          "name": "stdout",
          "output_type": "stream",
          "text": [
            "\n",
            "\n",
            "> DataLoader initialization\n",
            "| > Tokenizer:\n",
            "\t| > add_blank: False\n",
            "\t| > use_eos_bos: False\n",
            "\t| > use_phonemes: True\n",
            "\t| > phonemizer:\n",
            "\t\t| > phoneme language: en-us\n",
            "\t\t| > phoneme backend: gruut\n",
            "\t| > 1 not found characters:\n",
            "\t| > ͡\n",
            "| > Number of instances : 100\n",
            " | > Preprocessing samples\n",
            " | > Max text length: 169\n",
            " | > Min text length: 26\n",
            " | > Avg text length: 100.83\n",
            " | \n",
            " | > Max audio length: 219315.0\n",
            " | > Min audio length: 39347.0\n",
            " | > Avg audio length: 145581.88\n",
            " | > Num. instances discarded samples: 0\n",
            " | > Batch group size: 0.\n"
          ]
        },
        {
          "metadata": {
            "tags": null
          },
          "name": "stderr",
          "output_type": "stream",
          "text": [
            "\n",
            "\u001b[1m   --> STEP: 0/4 -- GLOBAL_STEP: 200\u001b[0m\n",
            "     | > loss: 2.91704  (2.91704)\n",
            "     | > log_mle: 0.69327  (0.69327)\n",
            "     | > loss_dur: 2.22377  (2.22377)\n",
            "     | > grad_norm: 5.23887  (5.23887)\n",
            "     | > current_lr: 0.00001 \n",
            "     | > step_time: 36.22900  (36.22904)\n",
            "     | > loader_time: 1.69700  (1.69702)\n",
            "\n",
            "\n",
            "\u001b[1m > EVALUATION \u001b[0m\n",
            "\n"
          ]
        },
        {
          "metadata": {
            "tags": null
          },
          "name": "stdout",
          "output_type": "stream",
          "text": [
            "\n",
            "\n",
            "> DataLoader initialization\n",
            "| > Tokenizer:\n",
            "\t| > add_blank: False\n",
            "\t| > use_eos_bos: False\n",
            "\t| > use_phonemes: True\n",
            "\t| > phonemizer:\n",
            "\t\t| > phoneme language: en-us\n",
            "\t\t| > phoneme backend: gruut\n",
            "\t| > 1 not found characters:\n",
            "\t| > ͡\n",
            "| > Number of instances : 1\n",
            " | > Preprocessing samples\n",
            " | > Max text length: 140\n",
            " | > Min text length: 140\n",
            " | > Avg text length: 140.0\n",
            " | \n",
            " | > Max audio length: 212659.0\n",
            " | > Min audio length: 212659.0\n",
            " | > Avg audio length: 212659.0\n",
            " | > Num. instances discarded samples: 0\n",
            " | > Batch group size: 0.\n",
            " | > Synthesizing test sentences.\n"
          ]
        },
        {
          "metadata": {
            "tags": null
          },
          "name": "stderr",
          "output_type": "stream",
          "text": [
            "\n",
            "  \u001b[1m--> EVAL PERFORMANCE\u001b[0m\n",
            "     | > avg_loader_time:\u001b[91m 0.37495 \u001b[0m(+0.14822)\n",
            "     | > avg_loss:\u001b[92m 2.82778 \u001b[0m(-0.02779)\n",
            "     | > avg_log_mle:\u001b[92m 0.70757 \u001b[0m(-0.00488)\n",
            "     | > avg_loss_dur:\u001b[92m 2.12021 \u001b[0m(-0.02291)\n",
            "\n",
            "\n",
            "\u001b[4m\u001b[1m > EPOCH: 51/100\u001b[0m\n",
            " --> tts_train_dir/run-November-17-2022_09+42AM-0000000\n",
            "\n",
            "\u001b[1m > TRAINING (2022-11-17 11:19:49) \u001b[0m\n"
          ]
        },
        {
          "metadata": {
            "tags": null
          },
          "name": "stdout",
          "output_type": "stream",
          "text": [
            "\n",
            "\n",
            "> DataLoader initialization\n",
            "| > Tokenizer:\n",
            "\t| > add_blank: False\n",
            "\t| > use_eos_bos: False\n",
            "\t| > use_phonemes: True\n",
            "\t| > phonemizer:\n",
            "\t\t| > phoneme language: en-us\n",
            "\t\t| > phoneme backend: gruut\n",
            "\t| > 1 not found characters:\n",
            "\t| > ͡\n",
            "| > Number of instances : 100\n",
            " | > Preprocessing samples\n",
            " | > Max text length: 169\n",
            " | > Min text length: 26\n",
            " | > Avg text length: 100.83\n",
            " | \n",
            " | > Max audio length: 219315.0\n",
            " | > Min audio length: 39347.0\n",
            " | > Avg audio length: 145581.88\n",
            " | > Num. instances discarded samples: 0\n",
            " | > Batch group size: 0.\n"
          ]
        },
        {
          "metadata": {
            "tags": null
          },
          "name": "stderr",
          "output_type": "stream",
          "text": [
            "\n",
            "\u001b[1m > EVALUATION \u001b[0m\n",
            "\n"
          ]
        },
        {
          "metadata": {
            "tags": null
          },
          "name": "stdout",
          "output_type": "stream",
          "text": [
            "\n",
            "\n",
            "> DataLoader initialization\n",
            "| > Tokenizer:\n",
            "\t| > add_blank: False\n",
            "\t| > use_eos_bos: False\n",
            "\t| > use_phonemes: True\n",
            "\t| > phonemizer:\n",
            "\t\t| > phoneme language: en-us\n",
            "\t\t| > phoneme backend: gruut\n",
            "\t| > 1 not found characters:\n",
            "\t| > ͡\n",
            "| > Number of instances : 1\n",
            " | > Preprocessing samples\n",
            " | > Max text length: 140\n",
            " | > Min text length: 140\n",
            " | > Avg text length: 140.0\n",
            " | \n",
            " | > Max audio length: 212659.0\n",
            " | > Min audio length: 212659.0\n",
            " | > Avg audio length: 212659.0\n",
            " | > Num. instances discarded samples: 0\n",
            " | > Batch group size: 0.\n",
            " | > Synthesizing test sentences.\n"
          ]
        },
        {
          "metadata": {
            "tags": null
          },
          "name": "stderr",
          "output_type": "stream",
          "text": [
            "\n",
            "  \u001b[1m--> EVAL PERFORMANCE\u001b[0m\n",
            "     | > avg_loader_time:\u001b[92m 0.24760 \u001b[0m(-0.12735)\n",
            "     | > avg_loss:\u001b[91m 2.90526 \u001b[0m(+0.07748)\n",
            "     | > avg_log_mle:\u001b[92m 0.70243 \u001b[0m(-0.00514)\n",
            "     | > avg_loss_dur:\u001b[91m 2.20284 \u001b[0m(+0.08262)\n",
            "\n",
            "\n",
            "\u001b[4m\u001b[1m > EPOCH: 52/100\u001b[0m\n",
            " --> tts_train_dir/run-November-17-2022_09+42AM-0000000\n",
            "\n",
            "\u001b[1m > TRAINING (2022-11-17 11:21:46) \u001b[0m\n"
          ]
        },
        {
          "metadata": {
            "tags": null
          },
          "name": "stdout",
          "output_type": "stream",
          "text": [
            "\n",
            "\n",
            "> DataLoader initialization\n",
            "| > Tokenizer:\n",
            "\t| > add_blank: False\n",
            "\t| > use_eos_bos: False\n",
            "\t| > use_phonemes: True\n",
            "\t| > phonemizer:\n",
            "\t\t| > phoneme language: en-us\n",
            "\t\t| > phoneme backend: gruut\n",
            "\t| > 1 not found characters:\n",
            "\t| > ͡\n",
            "| > Number of instances : 100\n",
            " | > Preprocessing samples\n",
            " | > Max text length: 169\n",
            " | > Min text length: 26\n",
            " | > Avg text length: 100.83\n",
            " | \n",
            " | > Max audio length: 219315.0\n",
            " | > Min audio length: 39347.0\n",
            " | > Avg audio length: 145581.88\n",
            " | > Num. instances discarded samples: 0\n",
            " | > Batch group size: 0.\n"
          ]
        },
        {
          "metadata": {
            "tags": null
          },
          "name": "stderr",
          "output_type": "stream",
          "text": [
            "\n",
            "\u001b[1m > EVALUATION \u001b[0m\n",
            "\n"
          ]
        },
        {
          "metadata": {
            "tags": null
          },
          "name": "stdout",
          "output_type": "stream",
          "text": [
            "\n",
            "\n",
            "> DataLoader initialization\n",
            "| > Tokenizer:\n",
            "\t| > add_blank: False\n",
            "\t| > use_eos_bos: False\n",
            "\t| > use_phonemes: True\n",
            "\t| > phonemizer:\n",
            "\t\t| > phoneme language: en-us\n",
            "\t\t| > phoneme backend: gruut\n",
            "\t| > 1 not found characters:\n",
            "\t| > ͡\n",
            "| > Number of instances : 1\n",
            " | > Preprocessing samples\n",
            " | > Max text length: 140\n",
            " | > Min text length: 140\n",
            " | > Avg text length: 140.0\n",
            " | \n",
            " | > Max audio length: 212659.0\n",
            " | > Min audio length: 212659.0\n",
            " | > Avg audio length: 212659.0\n",
            " | > Num. instances discarded samples: 0\n",
            " | > Batch group size: 0.\n",
            " | > Synthesizing test sentences.\n"
          ]
        },
        {
          "metadata": {
            "tags": null
          },
          "name": "stderr",
          "output_type": "stream",
          "text": [
            "\n",
            "  \u001b[1m--> EVAL PERFORMANCE\u001b[0m\n",
            "     | > avg_loader_time:\u001b[91m 0.26324 \u001b[0m(+0.01564)\n",
            "     | > avg_loss:\u001b[91m 2.90683 \u001b[0m(+0.00157)\n",
            "     | > avg_log_mle:\u001b[92m 0.69705 \u001b[0m(-0.00537)\n",
            "     | > avg_loss_dur:\u001b[91m 2.20978 \u001b[0m(+0.00694)\n",
            "\n",
            "\n",
            "\u001b[4m\u001b[1m > EPOCH: 53/100\u001b[0m\n",
            " --> tts_train_dir/run-November-17-2022_09+42AM-0000000\n",
            "\n",
            "\u001b[1m > TRAINING (2022-11-17 11:23:45) \u001b[0m\n"
          ]
        },
        {
          "metadata": {
            "tags": null
          },
          "name": "stdout",
          "output_type": "stream",
          "text": [
            "\n",
            "\n",
            "> DataLoader initialization\n",
            "| > Tokenizer:\n",
            "\t| > add_blank: False\n",
            "\t| > use_eos_bos: False\n",
            "\t| > use_phonemes: True\n",
            "\t| > phonemizer:\n",
            "\t\t| > phoneme language: en-us\n",
            "\t\t| > phoneme backend: gruut\n",
            "\t| > 1 not found characters:\n",
            "\t| > ͡\n",
            "| > Number of instances : 100\n",
            " | > Preprocessing samples\n",
            " | > Max text length: 169\n",
            " | > Min text length: 26\n",
            " | > Avg text length: 100.83\n",
            " | \n",
            " | > Max audio length: 219315.0\n",
            " | > Min audio length: 39347.0\n",
            " | > Avg audio length: 145581.88\n",
            " | > Num. instances discarded samples: 0\n",
            " | > Batch group size: 0.\n"
          ]
        },
        {
          "metadata": {
            "tags": null
          },
          "name": "stderr",
          "output_type": "stream",
          "text": [
            "\n",
            "\u001b[1m > EVALUATION \u001b[0m\n",
            "\n"
          ]
        },
        {
          "metadata": {
            "tags": null
          },
          "name": "stdout",
          "output_type": "stream",
          "text": [
            "\n",
            "\n",
            "> DataLoader initialization\n",
            "| > Tokenizer:\n",
            "\t| > add_blank: False\n",
            "\t| > use_eos_bos: False\n",
            "\t| > use_phonemes: True\n",
            "\t| > phonemizer:\n",
            "\t\t| > phoneme language: en-us\n",
            "\t\t| > phoneme backend: gruut\n",
            "\t| > 1 not found characters:\n",
            "\t| > ͡\n",
            "| > Number of instances : 1\n",
            " | > Preprocessing samples\n",
            " | > Max text length: 140\n",
            " | > Min text length: 140\n",
            " | > Avg text length: 140.0\n",
            " | \n",
            " | > Max audio length: 212659.0\n",
            " | > Min audio length: 212659.0\n",
            " | > Avg audio length: 212659.0\n",
            " | > Num. instances discarded samples: 0\n",
            " | > Batch group size: 0.\n",
            " | > Synthesizing test sentences.\n"
          ]
        },
        {
          "metadata": {
            "tags": null
          },
          "name": "stderr",
          "output_type": "stream",
          "text": [
            "\n",
            "  \u001b[1m--> EVAL PERFORMANCE\u001b[0m\n",
            "     | > avg_loader_time:\u001b[92m 0.23990 \u001b[0m(-0.02334)\n",
            "     | > avg_loss:\u001b[92m 2.88111 \u001b[0m(-0.02572)\n",
            "     | > avg_log_mle:\u001b[92m 0.69148 \u001b[0m(-0.00557)\n",
            "     | > avg_loss_dur:\u001b[92m 2.18963 \u001b[0m(-0.02015)\n",
            "\n",
            "\n",
            "\u001b[4m\u001b[1m > EPOCH: 54/100\u001b[0m\n",
            " --> tts_train_dir/run-November-17-2022_09+42AM-0000000\n",
            "\n",
            "\u001b[1m > TRAINING (2022-11-17 11:25:44) \u001b[0m\n"
          ]
        },
        {
          "metadata": {
            "tags": null
          },
          "name": "stdout",
          "output_type": "stream",
          "text": [
            "\n",
            "\n",
            "> DataLoader initialization\n",
            "| > Tokenizer:\n",
            "\t| > add_blank: False\n",
            "\t| > use_eos_bos: False\n",
            "\t| > use_phonemes: True\n",
            "\t| > phonemizer:\n",
            "\t\t| > phoneme language: en-us\n",
            "\t\t| > phoneme backend: gruut\n",
            "\t| > 1 not found characters:\n",
            "\t| > ͡\n",
            "| > Number of instances : 100\n",
            " | > Preprocessing samples\n",
            " | > Max text length: 169\n",
            " | > Min text length: 26\n",
            " | > Avg text length: 100.83\n",
            " | \n",
            " | > Max audio length: 219315.0\n",
            " | > Min audio length: 39347.0\n",
            " | > Avg audio length: 145581.88\n",
            " | > Num. instances discarded samples: 0\n",
            " | > Batch group size: 0.\n"
          ]
        },
        {
          "metadata": {
            "tags": null
          },
          "name": "stderr",
          "output_type": "stream",
          "text": [
            "\n",
            "\u001b[1m > EVALUATION \u001b[0m\n",
            "\n"
          ]
        },
        {
          "metadata": {
            "tags": null
          },
          "name": "stdout",
          "output_type": "stream",
          "text": [
            "\n",
            "\n",
            "> DataLoader initialization\n",
            "| > Tokenizer:\n",
            "\t| > add_blank: False\n",
            "\t| > use_eos_bos: False\n",
            "\t| > use_phonemes: True\n",
            "\t| > phonemizer:\n",
            "\t\t| > phoneme language: en-us\n",
            "\t\t| > phoneme backend: gruut\n",
            "\t| > 1 not found characters:\n",
            "\t| > ͡\n",
            "| > Number of instances : 1\n",
            " | > Preprocessing samples\n",
            " | > Max text length: 140\n",
            " | > Min text length: 140\n",
            " | > Avg text length: 140.0\n",
            " | \n",
            " | > Max audio length: 212659.0\n",
            " | > Min audio length: 212659.0\n",
            " | > Avg audio length: 212659.0\n",
            " | > Num. instances discarded samples: 0\n",
            " | > Batch group size: 0.\n",
            " | > Synthesizing test sentences.\n"
          ]
        },
        {
          "metadata": {
            "tags": null
          },
          "name": "stderr",
          "output_type": "stream",
          "text": [
            "\n",
            "  \u001b[1m--> EVAL PERFORMANCE\u001b[0m\n",
            "     | > avg_loader_time:\u001b[91m 0.26841 \u001b[0m(+0.02851)\n",
            "     | > avg_loss:\u001b[92m 2.85352 \u001b[0m(-0.02759)\n",
            "     | > avg_log_mle:\u001b[92m 0.68582 \u001b[0m(-0.00566)\n",
            "     | > avg_loss_dur:\u001b[92m 2.16770 \u001b[0m(-0.02193)\n",
            "\n",
            "\n",
            "\u001b[4m\u001b[1m > EPOCH: 55/100\u001b[0m\n",
            " --> tts_train_dir/run-November-17-2022_09+42AM-0000000\n",
            "\n",
            "\u001b[1m > TRAINING (2022-11-17 11:27:46) \u001b[0m\n"
          ]
        },
        {
          "metadata": {
            "tags": null
          },
          "name": "stdout",
          "output_type": "stream",
          "text": [
            "\n",
            "\n",
            "> DataLoader initialization\n",
            "| > Tokenizer:\n",
            "\t| > add_blank: False\n",
            "\t| > use_eos_bos: False\n",
            "\t| > use_phonemes: True\n",
            "\t| > phonemizer:\n",
            "\t\t| > phoneme language: en-us\n",
            "\t\t| > phoneme backend: gruut\n",
            "\t| > 1 not found characters:\n",
            "\t| > ͡\n",
            "| > Number of instances : 100\n",
            " | > Preprocessing samples\n",
            " | > Max text length: 169\n",
            " | > Min text length: 26\n",
            " | > Avg text length: 100.83\n",
            " | \n",
            " | > Max audio length: 219315.0\n",
            " | > Min audio length: 39347.0\n",
            " | > Avg audio length: 145581.88\n",
            " | > Num. instances discarded samples: 0\n",
            " | > Batch group size: 0.\n"
          ]
        },
        {
          "metadata": {
            "tags": null
          },
          "name": "stderr",
          "output_type": "stream",
          "text": [
            "\n",
            "\u001b[1m > EVALUATION \u001b[0m\n",
            "\n"
          ]
        },
        {
          "metadata": {
            "tags": null
          },
          "name": "stdout",
          "output_type": "stream",
          "text": [
            "\n",
            "\n",
            "> DataLoader initialization\n",
            "| > Tokenizer:\n",
            "\t| > add_blank: False\n",
            "\t| > use_eos_bos: False\n",
            "\t| > use_phonemes: True\n",
            "\t| > phonemizer:\n",
            "\t\t| > phoneme language: en-us\n",
            "\t\t| > phoneme backend: gruut\n",
            "\t| > 1 not found characters:\n",
            "\t| > ͡\n",
            "| > Number of instances : 1\n",
            " | > Preprocessing samples\n",
            " | > Max text length: 140\n",
            " | > Min text length: 140\n",
            " | > Avg text length: 140.0\n",
            " | \n",
            " | > Max audio length: 212659.0\n",
            " | > Min audio length: 212659.0\n",
            " | > Avg audio length: 212659.0\n",
            " | > Num. instances discarded samples: 0\n",
            " | > Batch group size: 0.\n",
            " | > Synthesizing test sentences.\n"
          ]
        },
        {
          "metadata": {
            "tags": null
          },
          "name": "stderr",
          "output_type": "stream",
          "text": [
            "\n",
            "  \u001b[1m--> EVAL PERFORMANCE\u001b[0m\n",
            "     | > avg_loader_time:\u001b[92m 0.25275 \u001b[0m(-0.01566)\n",
            "     | > avg_loss:\u001b[92m 2.83574 \u001b[0m(-0.01778)\n",
            "     | > avg_log_mle:\u001b[92m 0.68003 \u001b[0m(-0.00579)\n",
            "     | > avg_loss_dur:\u001b[92m 2.15571 \u001b[0m(-0.01199)\n",
            "\n",
            "\n",
            "\u001b[4m\u001b[1m > EPOCH: 56/100\u001b[0m\n",
            " --> tts_train_dir/run-November-17-2022_09+42AM-0000000\n",
            "\n",
            "\u001b[1m > TRAINING (2022-11-17 11:29:44) \u001b[0m\n"
          ]
        },
        {
          "metadata": {
            "tags": null
          },
          "name": "stdout",
          "output_type": "stream",
          "text": [
            "\n",
            "\n",
            "> DataLoader initialization\n",
            "| > Tokenizer:\n",
            "\t| > add_blank: False\n",
            "\t| > use_eos_bos: False\n",
            "\t| > use_phonemes: True\n",
            "\t| > phonemizer:\n",
            "\t\t| > phoneme language: en-us\n",
            "\t\t| > phoneme backend: gruut\n",
            "\t| > 1 not found characters:\n",
            "\t| > ͡\n",
            "| > Number of instances : 100\n",
            " | > Preprocessing samples\n",
            " | > Max text length: 169\n",
            " | > Min text length: 26\n",
            " | > Avg text length: 100.83\n",
            " | \n",
            " | > Max audio length: 219315.0\n",
            " | > Min audio length: 39347.0\n",
            " | > Avg audio length: 145581.88\n",
            " | > Num. instances discarded samples: 0\n",
            " | > Batch group size: 0.\n"
          ]
        },
        {
          "metadata": {
            "tags": null
          },
          "name": "stderr",
          "output_type": "stream",
          "text": [
            "\n",
            "\u001b[1m   --> STEP: 1/4 -- GLOBAL_STEP: 225\u001b[0m\n",
            "     | > loss: 2.82742  (2.82742)\n",
            "     | > log_mle: 0.65591  (0.65591)\n",
            "     | > loss_dur: 2.17150  (2.17150)\n",
            "     | > grad_norm: 5.18231  (5.18231)\n",
            "     | > current_lr: 0.00001 \n",
            "     | > step_time: 34.67570  (34.67573)\n",
            "     | > loader_time: 0.00330  (0.00327)\n",
            "\n",
            "\n",
            "\u001b[1m > EVALUATION \u001b[0m\n",
            "\n"
          ]
        },
        {
          "metadata": {
            "tags": null
          },
          "name": "stdout",
          "output_type": "stream",
          "text": [
            "\n",
            "\n",
            "> DataLoader initialization\n",
            "| > Tokenizer:\n",
            "\t| > add_blank: False\n",
            "\t| > use_eos_bos: False\n",
            "\t| > use_phonemes: True\n",
            "\t| > phonemizer:\n",
            "\t\t| > phoneme language: en-us\n",
            "\t\t| > phoneme backend: gruut\n",
            "\t| > 1 not found characters:\n",
            "\t| > ͡\n",
            "| > Number of instances : 1\n",
            " | > Preprocessing samples\n",
            " | > Max text length: 140\n",
            " | > Min text length: 140\n",
            " | > Avg text length: 140.0\n",
            " | \n",
            " | > Max audio length: 212659.0\n",
            " | > Min audio length: 212659.0\n",
            " | > Avg audio length: 212659.0\n",
            " | > Num. instances discarded samples: 0\n",
            " | > Batch group size: 0.\n",
            " | > Synthesizing test sentences.\n"
          ]
        },
        {
          "metadata": {
            "tags": null
          },
          "name": "stderr",
          "output_type": "stream",
          "text": [
            "\n",
            "  \u001b[1m--> EVAL PERFORMANCE\u001b[0m\n",
            "     | > avg_loader_time:\u001b[92m 0.23501 \u001b[0m(-0.01774)\n",
            "     | > avg_loss:\u001b[92m 2.80425 \u001b[0m(-0.03150)\n",
            "     | > avg_log_mle:\u001b[92m 0.67406 \u001b[0m(-0.00597)\n",
            "     | > avg_loss_dur:\u001b[92m 2.13019 \u001b[0m(-0.02553)\n",
            "\n",
            " > BEST MODEL : tts_train_dir/run-November-17-2022_09+42AM-0000000/best_model_228.pth\n",
            "\n",
            "\u001b[4m\u001b[1m > EPOCH: 57/100\u001b[0m\n",
            " --> tts_train_dir/run-November-17-2022_09+42AM-0000000\n",
            "\n",
            "\u001b[1m > TRAINING (2022-11-17 11:31:45) \u001b[0m\n"
          ]
        },
        {
          "metadata": {
            "tags": null
          },
          "name": "stdout",
          "output_type": "stream",
          "text": [
            "\n",
            "\n",
            "> DataLoader initialization\n",
            "| > Tokenizer:\n",
            "\t| > add_blank: False\n",
            "\t| > use_eos_bos: False\n",
            "\t| > use_phonemes: True\n",
            "\t| > phonemizer:\n",
            "\t\t| > phoneme language: en-us\n",
            "\t\t| > phoneme backend: gruut\n",
            "\t| > 1 not found characters:\n",
            "\t| > ͡\n",
            "| > Number of instances : 100\n",
            " | > Preprocessing samples\n",
            " | > Max text length: 169\n",
            " | > Min text length: 26\n",
            " | > Avg text length: 100.83\n",
            " | \n",
            " | > Max audio length: 219315.0\n",
            " | > Min audio length: 39347.0\n",
            " | > Avg audio length: 145581.88\n",
            " | > Num. instances discarded samples: 0\n",
            " | > Batch group size: 0.\n"
          ]
        },
        {
          "metadata": {
            "tags": null
          },
          "name": "stderr",
          "output_type": "stream",
          "text": [
            "\n",
            "\u001b[1m > EVALUATION \u001b[0m\n",
            "\n"
          ]
        },
        {
          "metadata": {
            "tags": null
          },
          "name": "stdout",
          "output_type": "stream",
          "text": [
            "\n",
            "\n",
            "> DataLoader initialization\n",
            "| > Tokenizer:\n",
            "\t| > add_blank: False\n",
            "\t| > use_eos_bos: False\n",
            "\t| > use_phonemes: True\n",
            "\t| > phonemizer:\n",
            "\t\t| > phoneme language: en-us\n",
            "\t\t| > phoneme backend: gruut\n",
            "\t| > 1 not found characters:\n",
            "\t| > ͡\n",
            "| > Number of instances : 1\n",
            " | > Preprocessing samples\n",
            " | > Max text length: 140\n",
            " | > Min text length: 140\n",
            " | > Avg text length: 140.0\n",
            " | \n",
            " | > Max audio length: 212659.0\n",
            " | > Min audio length: 212659.0\n",
            " | > Avg audio length: 212659.0\n",
            " | > Num. instances discarded samples: 0\n",
            " | > Batch group size: 0.\n",
            " | > Synthesizing test sentences.\n"
          ]
        },
        {
          "metadata": {
            "tags": null
          },
          "name": "stderr",
          "output_type": "stream",
          "text": [
            "\n",
            "  \u001b[1m--> EVAL PERFORMANCE\u001b[0m\n",
            "     | > avg_loader_time:\u001b[91m 0.24935 \u001b[0m(+0.01434)\n",
            "     | > avg_loss:\u001b[92m 2.76606 \u001b[0m(-0.03819)\n",
            "     | > avg_log_mle:\u001b[92m 0.66792 \u001b[0m(-0.00613)\n",
            "     | > avg_loss_dur:\u001b[92m 2.09814 \u001b[0m(-0.03205)\n",
            "\n",
            " > BEST MODEL : tts_train_dir/run-November-17-2022_09+42AM-0000000/best_model_232.pth\n",
            "\n",
            "\u001b[4m\u001b[1m > EPOCH: 58/100\u001b[0m\n",
            " --> tts_train_dir/run-November-17-2022_09+42AM-0000000\n",
            "\n",
            "\u001b[1m > TRAINING (2022-11-17 11:33:45) \u001b[0m\n"
          ]
        },
        {
          "metadata": {
            "tags": null
          },
          "name": "stdout",
          "output_type": "stream",
          "text": [
            "\n",
            "\n",
            "> DataLoader initialization\n",
            "| > Tokenizer:\n",
            "\t| > add_blank: False\n",
            "\t| > use_eos_bos: False\n",
            "\t| > use_phonemes: True\n",
            "\t| > phonemizer:\n",
            "\t\t| > phoneme language: en-us\n",
            "\t\t| > phoneme backend: gruut\n",
            "\t| > 1 not found characters:\n",
            "\t| > ͡\n",
            "| > Number of instances : 100\n",
            " | > Preprocessing samples\n",
            " | > Max text length: 169\n",
            " | > Min text length: 26\n",
            " | > Avg text length: 100.83\n",
            " | \n",
            " | > Max audio length: 219315.0\n",
            " | > Min audio length: 39347.0\n",
            " | > Avg audio length: 145581.88\n",
            " | > Num. instances discarded samples: 0\n",
            " | > Batch group size: 0.\n"
          ]
        },
        {
          "metadata": {
            "tags": null
          },
          "name": "stderr",
          "output_type": "stream",
          "text": [
            "\n",
            "\u001b[1m > EVALUATION \u001b[0m\n",
            "\n"
          ]
        },
        {
          "metadata": {
            "tags": null
          },
          "name": "stdout",
          "output_type": "stream",
          "text": [
            "\n",
            "\n",
            "> DataLoader initialization\n",
            "| > Tokenizer:\n",
            "\t| > add_blank: False\n",
            "\t| > use_eos_bos: False\n",
            "\t| > use_phonemes: True\n",
            "\t| > phonemizer:\n",
            "\t\t| > phoneme language: en-us\n",
            "\t\t| > phoneme backend: gruut\n",
            "\t| > 1 not found characters:\n",
            "\t| > ͡\n",
            "| > Number of instances : 1\n",
            " | > Preprocessing samples\n",
            " | > Max text length: 140\n",
            " | > Min text length: 140\n",
            " | > Avg text length: 140.0\n",
            " | \n",
            " | > Max audio length: 212659.0\n",
            " | > Min audio length: 212659.0\n",
            " | > Avg audio length: 212659.0\n",
            " | > Num. instances discarded samples: 0\n",
            " | > Batch group size: 0.\n",
            " | > Synthesizing test sentences.\n"
          ]
        },
        {
          "metadata": {
            "tags": null
          },
          "name": "stderr",
          "output_type": "stream",
          "text": [
            "\n",
            "  \u001b[1m--> EVAL PERFORMANCE\u001b[0m\n",
            "     | > avg_loader_time:\u001b[91m 0.30523 \u001b[0m(+0.05587)\n",
            "     | > avg_loss:\u001b[92m 2.73452 \u001b[0m(-0.03154)\n",
            "     | > avg_log_mle:\u001b[92m 0.66168 \u001b[0m(-0.00624)\n",
            "     | > avg_loss_dur:\u001b[92m 2.07284 \u001b[0m(-0.02530)\n",
            "\n",
            " > BEST MODEL : tts_train_dir/run-November-17-2022_09+42AM-0000000/best_model_236.pth\n",
            "\n",
            "\u001b[4m\u001b[1m > EPOCH: 59/100\u001b[0m\n",
            " --> tts_train_dir/run-November-17-2022_09+42AM-0000000\n",
            "\n",
            "\u001b[1m > TRAINING (2022-11-17 11:35:49) \u001b[0m\n"
          ]
        },
        {
          "metadata": {
            "tags": null
          },
          "name": "stdout",
          "output_type": "stream",
          "text": [
            "\n",
            "\n",
            "> DataLoader initialization\n",
            "| > Tokenizer:\n",
            "\t| > add_blank: False\n",
            "\t| > use_eos_bos: False\n",
            "\t| > use_phonemes: True\n",
            "\t| > phonemizer:\n",
            "\t\t| > phoneme language: en-us\n",
            "\t\t| > phoneme backend: gruut\n",
            "\t| > 1 not found characters:\n",
            "\t| > ͡\n",
            "| > Number of instances : 100\n",
            " | > Preprocessing samples\n",
            " | > Max text length: 169\n",
            " | > Min text length: 26\n",
            " | > Avg text length: 100.83\n",
            " | \n",
            " | > Max audio length: 219315.0\n",
            " | > Min audio length: 39347.0\n",
            " | > Avg audio length: 145581.88\n",
            " | > Num. instances discarded samples: 0\n",
            " | > Batch group size: 0.\n"
          ]
        },
        {
          "metadata": {
            "tags": null
          },
          "name": "stderr",
          "output_type": "stream",
          "text": [
            "\n",
            "\u001b[1m > EVALUATION \u001b[0m\n",
            "\n"
          ]
        },
        {
          "metadata": {
            "tags": null
          },
          "name": "stdout",
          "output_type": "stream",
          "text": [
            "\n",
            "\n",
            "> DataLoader initialization\n",
            "| > Tokenizer:\n",
            "\t| > add_blank: False\n",
            "\t| > use_eos_bos: False\n",
            "\t| > use_phonemes: True\n",
            "\t| > phonemizer:\n",
            "\t\t| > phoneme language: en-us\n",
            "\t\t| > phoneme backend: gruut\n",
            "\t| > 1 not found characters:\n",
            "\t| > ͡\n",
            "| > Number of instances : 1\n",
            " | > Preprocessing samples\n",
            " | > Max text length: 140\n",
            " | > Min text length: 140\n",
            " | > Avg text length: 140.0\n",
            " | \n",
            " | > Max audio length: 212659.0\n",
            " | > Min audio length: 212659.0\n",
            " | > Avg audio length: 212659.0\n",
            " | > Num. instances discarded samples: 0\n",
            " | > Batch group size: 0.\n",
            " | > Synthesizing test sentences.\n"
          ]
        },
        {
          "metadata": {
            "tags": null
          },
          "name": "stderr",
          "output_type": "stream",
          "text": [
            "\n",
            "  \u001b[1m--> EVAL PERFORMANCE\u001b[0m\n",
            "     | > avg_loader_time:\u001b[92m 0.23663 \u001b[0m(-0.06859)\n",
            "     | > avg_loss:\u001b[91m 2.73812 \u001b[0m(+0.00361)\n",
            "     | > avg_log_mle:\u001b[92m 0.65531 \u001b[0m(-0.00637)\n",
            "     | > avg_loss_dur:\u001b[91m 2.08282 \u001b[0m(+0.00998)\n",
            "\n",
            "\n",
            "\u001b[4m\u001b[1m > EPOCH: 60/100\u001b[0m\n",
            " --> tts_train_dir/run-November-17-2022_09+42AM-0000000\n",
            "\n",
            "\u001b[1m > TRAINING (2022-11-17 11:37:47) \u001b[0m\n"
          ]
        },
        {
          "metadata": {
            "tags": null
          },
          "name": "stdout",
          "output_type": "stream",
          "text": [
            "\n",
            "\n",
            "> DataLoader initialization\n",
            "| > Tokenizer:\n",
            "\t| > add_blank: False\n",
            "\t| > use_eos_bos: False\n",
            "\t| > use_phonemes: True\n",
            "\t| > phonemizer:\n",
            "\t\t| > phoneme language: en-us\n",
            "\t\t| > phoneme backend: gruut\n",
            "\t| > 1 not found characters:\n",
            "\t| > ͡\n",
            "| > Number of instances : 100\n",
            " | > Preprocessing samples\n",
            " | > Max text length: 169\n",
            " | > Min text length: 26\n",
            " | > Avg text length: 100.83\n",
            " | \n",
            " | > Max audio length: 219315.0\n",
            " | > Min audio length: 39347.0\n",
            " | > Avg audio length: 145581.88\n",
            " | > Num. instances discarded samples: 0\n",
            " | > Batch group size: 0.\n"
          ]
        },
        {
          "metadata": {
            "tags": null
          },
          "name": "stderr",
          "output_type": "stream",
          "text": [
            "\n",
            "\u001b[1m > EVALUATION \u001b[0m\n",
            "\n"
          ]
        },
        {
          "metadata": {
            "tags": null
          },
          "name": "stdout",
          "output_type": "stream",
          "text": [
            "\n",
            "\n",
            "> DataLoader initialization\n",
            "| > Tokenizer:\n",
            "\t| > add_blank: False\n",
            "\t| > use_eos_bos: False\n",
            "\t| > use_phonemes: True\n",
            "\t| > phonemizer:\n",
            "\t\t| > phoneme language: en-us\n",
            "\t\t| > phoneme backend: gruut\n",
            "\t| > 1 not found characters:\n",
            "\t| > ͡\n",
            "| > Number of instances : 1\n",
            " | > Preprocessing samples\n",
            " | > Max text length: 140\n",
            " | > Min text length: 140\n",
            " | > Avg text length: 140.0\n",
            " | \n",
            " | > Max audio length: 212659.0\n",
            " | > Min audio length: 212659.0\n",
            " | > Avg audio length: 212659.0\n",
            " | > Num. instances discarded samples: 0\n",
            " | > Batch group size: 0.\n",
            " | > Synthesizing test sentences.\n"
          ]
        },
        {
          "metadata": {
            "tags": null
          },
          "name": "stderr",
          "output_type": "stream",
          "text": [
            "\n",
            "  \u001b[1m--> EVAL PERFORMANCE\u001b[0m\n",
            "     | > avg_loader_time:\u001b[91m 0.27196 \u001b[0m(+0.03533)\n",
            "     | > avg_loss:\u001b[91m 2.79602 \u001b[0m(+0.05789)\n",
            "     | > avg_log_mle:\u001b[92m 0.64878 \u001b[0m(-0.00653)\n",
            "     | > avg_loss_dur:\u001b[91m 2.14724 \u001b[0m(+0.06442)\n",
            "\n",
            "\n",
            "\u001b[4m\u001b[1m > EPOCH: 61/100\u001b[0m\n",
            " --> tts_train_dir/run-November-17-2022_09+42AM-0000000\n",
            "\n",
            "\u001b[1m > TRAINING (2022-11-17 11:39:46) \u001b[0m\n"
          ]
        },
        {
          "metadata": {
            "tags": null
          },
          "name": "stdout",
          "output_type": "stream",
          "text": [
            "\n",
            "\n",
            "> DataLoader initialization\n",
            "| > Tokenizer:\n",
            "\t| > add_blank: False\n",
            "\t| > use_eos_bos: False\n",
            "\t| > use_phonemes: True\n",
            "\t| > phonemizer:\n",
            "\t\t| > phoneme language: en-us\n",
            "\t\t| > phoneme backend: gruut\n",
            "\t| > 1 not found characters:\n",
            "\t| > ͡\n",
            "| > Number of instances : 100\n",
            " | > Preprocessing samples\n",
            " | > Max text length: 169\n",
            " | > Min text length: 26\n",
            " | > Avg text length: 100.83\n",
            " | \n",
            " | > Max audio length: 219315.0\n",
            " | > Min audio length: 39347.0\n",
            " | > Avg audio length: 145581.88\n",
            " | > Num. instances discarded samples: 0\n",
            " | > Batch group size: 0.\n"
          ]
        },
        {
          "metadata": {
            "tags": null
          },
          "name": "stderr",
          "output_type": "stream",
          "text": [
            "\n",
            "\u001b[1m > EVALUATION \u001b[0m\n",
            "\n"
          ]
        },
        {
          "metadata": {
            "tags": null
          },
          "name": "stdout",
          "output_type": "stream",
          "text": [
            "\n",
            "\n",
            "> DataLoader initialization\n",
            "| > Tokenizer:\n",
            "\t| > add_blank: False\n",
            "\t| > use_eos_bos: False\n",
            "\t| > use_phonemes: True\n",
            "\t| > phonemizer:\n",
            "\t\t| > phoneme language: en-us\n",
            "\t\t| > phoneme backend: gruut\n",
            "\t| > 1 not found characters:\n",
            "\t| > ͡\n",
            "| > Number of instances : 1\n",
            " | > Preprocessing samples\n",
            " | > Max text length: 140\n",
            " | > Min text length: 140\n",
            " | > Avg text length: 140.0\n",
            " | \n",
            " | > Max audio length: 212659.0\n",
            " | > Min audio length: 212659.0\n",
            " | > Avg audio length: 212659.0\n",
            " | > Num. instances discarded samples: 0\n",
            " | > Batch group size: 0.\n",
            " | > Synthesizing test sentences.\n"
          ]
        },
        {
          "metadata": {
            "tags": null
          },
          "name": "stderr",
          "output_type": "stream",
          "text": [
            "\n",
            "  \u001b[1m--> EVAL PERFORMANCE\u001b[0m\n",
            "     | > avg_loader_time:\u001b[92m 0.23151 \u001b[0m(-0.04046)\n",
            "     | > avg_loss:\u001b[92m 2.76019 \u001b[0m(-0.03583)\n",
            "     | > avg_log_mle:\u001b[92m 0.64223 \u001b[0m(-0.00655)\n",
            "     | > avg_loss_dur:\u001b[92m 2.11796 \u001b[0m(-0.02927)\n",
            "\n",
            "\n",
            "\u001b[4m\u001b[1m > EPOCH: 62/100\u001b[0m\n",
            " --> tts_train_dir/run-November-17-2022_09+42AM-0000000\n",
            "\n",
            "\u001b[1m > TRAINING (2022-11-17 11:41:42) \u001b[0m\n"
          ]
        },
        {
          "metadata": {
            "tags": null
          },
          "name": "stdout",
          "output_type": "stream",
          "text": [
            "\n",
            "\n",
            "> DataLoader initialization\n",
            "| > Tokenizer:\n",
            "\t| > add_blank: False\n",
            "\t| > use_eos_bos: False\n",
            "\t| > use_phonemes: True\n",
            "\t| > phonemizer:\n",
            "\t\t| > phoneme language: en-us\n",
            "\t\t| > phoneme backend: gruut\n",
            "\t| > 1 not found characters:\n",
            "\t| > ͡\n",
            "| > Number of instances : 100\n",
            " | > Preprocessing samples\n",
            " | > Max text length: 169\n",
            " | > Min text length: 26\n",
            " | > Avg text length: 100.83\n",
            " | \n",
            " | > Max audio length: 219315.0\n",
            " | > Min audio length: 39347.0\n",
            " | > Avg audio length: 145581.88\n",
            " | > Num. instances discarded samples: 0\n",
            " | > Batch group size: 0.\n"
          ]
        },
        {
          "metadata": {
            "tags": null
          },
          "name": "stderr",
          "output_type": "stream",
          "text": [
            "\n",
            "\u001b[1m   --> STEP: 2/4 -- GLOBAL_STEP: 250\u001b[0m\n",
            "     | > loss: 2.62005  (2.66882)\n",
            "     | > log_mle: 0.61639  (0.61803)\n",
            "     | > loss_dur: 2.00366  (2.05080)\n",
            "     | > grad_norm: 4.86023  (4.94393)\n",
            "     | > current_lr: 0.00002 \n",
            "     | > step_time: 33.71090  (34.26573)\n",
            "     | > loader_time: 0.00200  (0.00199)\n",
            "\n",
            "\n",
            "\u001b[1m > EVALUATION \u001b[0m\n",
            "\n"
          ]
        },
        {
          "metadata": {
            "tags": null
          },
          "name": "stdout",
          "output_type": "stream",
          "text": [
            "\n",
            "\n",
            "> DataLoader initialization\n",
            "| > Tokenizer:\n",
            "\t| > add_blank: False\n",
            "\t| > use_eos_bos: False\n",
            "\t| > use_phonemes: True\n",
            "\t| > phonemizer:\n",
            "\t\t| > phoneme language: en-us\n",
            "\t\t| > phoneme backend: gruut\n",
            "\t| > 1 not found characters:\n",
            "\t| > ͡\n",
            "| > Number of instances : 1\n",
            " | > Preprocessing samples\n",
            " | > Max text length: 140\n",
            " | > Min text length: 140\n",
            " | > Avg text length: 140.0\n",
            " | \n",
            " | > Max audio length: 212659.0\n",
            " | > Min audio length: 212659.0\n",
            " | > Avg audio length: 212659.0\n",
            " | > Num. instances discarded samples: 0\n",
            " | > Batch group size: 0.\n",
            " | > Synthesizing test sentences.\n"
          ]
        },
        {
          "metadata": {
            "tags": null
          },
          "name": "stderr",
          "output_type": "stream",
          "text": [
            "\n",
            "  \u001b[1m--> EVAL PERFORMANCE\u001b[0m\n",
            "     | > avg_loader_time:\u001b[91m 0.25650 \u001b[0m(+0.02500)\n",
            "     | > avg_loss:\u001b[92m 2.70111 \u001b[0m(-0.05908)\n",
            "     | > avg_log_mle:\u001b[92m 0.63562 \u001b[0m(-0.00661)\n",
            "     | > avg_loss_dur:\u001b[92m 2.06549 \u001b[0m(-0.05248)\n",
            "\n",
            " > BEST MODEL : tts_train_dir/run-November-17-2022_09+42AM-0000000/best_model_252.pth\n",
            "\n",
            "\u001b[4m\u001b[1m > EPOCH: 63/100\u001b[0m\n",
            " --> tts_train_dir/run-November-17-2022_09+42AM-0000000\n",
            "\n",
            "\u001b[1m > TRAINING (2022-11-17 11:43:43) \u001b[0m\n"
          ]
        },
        {
          "metadata": {
            "tags": null
          },
          "name": "stdout",
          "output_type": "stream",
          "text": [
            "\n",
            "\n",
            "> DataLoader initialization\n",
            "| > Tokenizer:\n",
            "\t| > add_blank: False\n",
            "\t| > use_eos_bos: False\n",
            "\t| > use_phonemes: True\n",
            "\t| > phonemizer:\n",
            "\t\t| > phoneme language: en-us\n",
            "\t\t| > phoneme backend: gruut\n",
            "\t| > 1 not found characters:\n",
            "\t| > ͡\n",
            "| > Number of instances : 100\n",
            " | > Preprocessing samples\n",
            " | > Max text length: 169\n",
            " | > Min text length: 26\n",
            " | > Avg text length: 100.83\n",
            " | \n",
            " | > Max audio length: 219315.0\n",
            " | > Min audio length: 39347.0\n",
            " | > Avg audio length: 145581.88\n",
            " | > Num. instances discarded samples: 0\n",
            " | > Batch group size: 0.\n"
          ]
        },
        {
          "metadata": {
            "tags": null
          },
          "name": "stderr",
          "output_type": "stream",
          "text": [
            "\n",
            "\u001b[1m > EVALUATION \u001b[0m\n",
            "\n"
          ]
        },
        {
          "metadata": {
            "tags": null
          },
          "name": "stdout",
          "output_type": "stream",
          "text": [
            "\n",
            "\n",
            "> DataLoader initialization\n",
            "| > Tokenizer:\n",
            "\t| > add_blank: False\n",
            "\t| > use_eos_bos: False\n",
            "\t| > use_phonemes: True\n",
            "\t| > phonemizer:\n",
            "\t\t| > phoneme language: en-us\n",
            "\t\t| > phoneme backend: gruut\n",
            "\t| > 1 not found characters:\n",
            "\t| > ͡\n",
            "| > Number of instances : 1\n",
            " | > Preprocessing samples\n",
            " | > Max text length: 140\n",
            " | > Min text length: 140\n",
            " | > Avg text length: 140.0\n",
            " | \n",
            " | > Max audio length: 212659.0\n",
            " | > Min audio length: 212659.0\n",
            " | > Avg audio length: 212659.0\n",
            " | > Num. instances discarded samples: 0\n",
            " | > Batch group size: 0.\n",
            " | > Synthesizing test sentences.\n"
          ]
        },
        {
          "metadata": {
            "tags": null
          },
          "name": "stderr",
          "output_type": "stream",
          "text": [
            "\n",
            "  \u001b[1m--> EVAL PERFORMANCE\u001b[0m\n",
            "     | > avg_loader_time:\u001b[91m 0.29207 \u001b[0m(+0.03557)\n",
            "     | > avg_loss:\u001b[92m 2.69768 \u001b[0m(-0.00343)\n",
            "     | > avg_log_mle:\u001b[92m 0.62895 \u001b[0m(-0.00667)\n",
            "     | > avg_loss_dur:\u001b[91m 2.06873 \u001b[0m(+0.00324)\n",
            "\n",
            " > BEST MODEL : tts_train_dir/run-November-17-2022_09+42AM-0000000/best_model_256.pth\n",
            "\n",
            "\u001b[4m\u001b[1m > EPOCH: 64/100\u001b[0m\n",
            " --> tts_train_dir/run-November-17-2022_09+42AM-0000000\n",
            "\n",
            "\u001b[1m > TRAINING (2022-11-17 11:45:46) \u001b[0m\n"
          ]
        },
        {
          "metadata": {
            "tags": null
          },
          "name": "stdout",
          "output_type": "stream",
          "text": [
            "\n",
            "\n",
            "> DataLoader initialization\n",
            "| > Tokenizer:\n",
            "\t| > add_blank: False\n",
            "\t| > use_eos_bos: False\n",
            "\t| > use_phonemes: True\n",
            "\t| > phonemizer:\n",
            "\t\t| > phoneme language: en-us\n",
            "\t\t| > phoneme backend: gruut\n",
            "\t| > 1 not found characters:\n",
            "\t| > ͡\n",
            "| > Number of instances : 100\n",
            " | > Preprocessing samples\n",
            " | > Max text length: 169\n",
            " | > Min text length: 26\n",
            " | > Avg text length: 100.83\n",
            " | \n",
            " | > Max audio length: 219315.0\n",
            " | > Min audio length: 39347.0\n",
            " | > Avg audio length: 145581.88\n",
            " | > Num. instances discarded samples: 0\n",
            " | > Batch group size: 0.\n"
          ]
        },
        {
          "metadata": {
            "tags": null
          },
          "name": "stderr",
          "output_type": "stream",
          "text": [
            "\n",
            "\u001b[1m > EVALUATION \u001b[0m\n",
            "\n"
          ]
        },
        {
          "metadata": {
            "tags": null
          },
          "name": "stdout",
          "output_type": "stream",
          "text": [
            "\n",
            "\n",
            "> DataLoader initialization\n",
            "| > Tokenizer:\n",
            "\t| > add_blank: False\n",
            "\t| > use_eos_bos: False\n",
            "\t| > use_phonemes: True\n",
            "\t| > phonemizer:\n",
            "\t\t| > phoneme language: en-us\n",
            "\t\t| > phoneme backend: gruut\n",
            "\t| > 1 not found characters:\n",
            "\t| > ͡\n",
            "| > Number of instances : 1\n",
            " | > Preprocessing samples\n",
            " | > Max text length: 140\n",
            " | > Min text length: 140\n",
            " | > Avg text length: 140.0\n",
            " | \n",
            " | > Max audio length: 212659.0\n",
            " | > Min audio length: 212659.0\n",
            " | > Avg audio length: 212659.0\n",
            " | > Num. instances discarded samples: 0\n",
            " | > Batch group size: 0.\n",
            " | > Synthesizing test sentences.\n"
          ]
        },
        {
          "metadata": {
            "tags": null
          },
          "name": "stderr",
          "output_type": "stream",
          "text": [
            "\n",
            "  \u001b[1m--> EVAL PERFORMANCE\u001b[0m\n",
            "     | > avg_loader_time:\u001b[92m 0.25414 \u001b[0m(-0.03793)\n",
            "     | > avg_loss:\u001b[92m 2.64290 \u001b[0m(-0.05478)\n",
            "     | > avg_log_mle:\u001b[92m 0.62223 \u001b[0m(-0.00672)\n",
            "     | > avg_loss_dur:\u001b[92m 2.02067 \u001b[0m(-0.04806)\n",
            "\n",
            " > BEST MODEL : tts_train_dir/run-November-17-2022_09+42AM-0000000/best_model_260.pth\n",
            "\n",
            "\u001b[4m\u001b[1m > EPOCH: 65/100\u001b[0m\n",
            " --> tts_train_dir/run-November-17-2022_09+42AM-0000000\n",
            "\n",
            "\u001b[1m > TRAINING (2022-11-17 11:47:49) \u001b[0m\n"
          ]
        },
        {
          "metadata": {
            "tags": null
          },
          "name": "stdout",
          "output_type": "stream",
          "text": [
            "\n",
            "\n",
            "> DataLoader initialization\n",
            "| > Tokenizer:\n",
            "\t| > add_blank: False\n",
            "\t| > use_eos_bos: False\n",
            "\t| > use_phonemes: True\n",
            "\t| > phonemizer:\n",
            "\t\t| > phoneme language: en-us\n",
            "\t\t| > phoneme backend: gruut\n",
            "\t| > 1 not found characters:\n",
            "\t| > ͡\n",
            "| > Number of instances : 100\n",
            " | > Preprocessing samples\n",
            " | > Max text length: 169\n",
            " | > Min text length: 26\n",
            " | > Avg text length: 100.83\n",
            " | \n",
            " | > Max audio length: 219315.0\n",
            " | > Min audio length: 39347.0\n",
            " | > Avg audio length: 145581.88\n",
            " | > Num. instances discarded samples: 0\n",
            " | > Batch group size: 0.\n"
          ]
        },
        {
          "metadata": {
            "tags": null
          },
          "name": "stderr",
          "output_type": "stream",
          "text": [
            "\n",
            "\u001b[1m > EVALUATION \u001b[0m\n",
            "\n"
          ]
        },
        {
          "metadata": {
            "tags": null
          },
          "name": "stdout",
          "output_type": "stream",
          "text": [
            "\n",
            "\n",
            "> DataLoader initialization\n",
            "| > Tokenizer:\n",
            "\t| > add_blank: False\n",
            "\t| > use_eos_bos: False\n",
            "\t| > use_phonemes: True\n",
            "\t| > phonemizer:\n",
            "\t\t| > phoneme language: en-us\n",
            "\t\t| > phoneme backend: gruut\n",
            "\t| > 1 not found characters:\n",
            "\t| > ͡\n",
            "| > Number of instances : 1\n",
            " | > Preprocessing samples\n",
            " | > Max text length: 140\n",
            " | > Min text length: 140\n",
            " | > Avg text length: 140.0\n",
            " | \n",
            " | > Max audio length: 212659.0\n",
            " | > Min audio length: 212659.0\n",
            " | > Avg audio length: 212659.0\n",
            " | > Num. instances discarded samples: 0\n",
            " | > Batch group size: 0.\n",
            " | > Synthesizing test sentences.\n"
          ]
        },
        {
          "metadata": {
            "tags": null
          },
          "name": "stderr",
          "output_type": "stream",
          "text": [
            "\n",
            "  \u001b[1m--> EVAL PERFORMANCE\u001b[0m\n",
            "     | > avg_loader_time:\u001b[92m 0.24652 \u001b[0m(-0.00762)\n",
            "     | > avg_loss:\u001b[92m 2.59286 \u001b[0m(-0.05003)\n",
            "     | > avg_log_mle:\u001b[92m 0.61543 \u001b[0m(-0.00679)\n",
            "     | > avg_loss_dur:\u001b[92m 1.97743 \u001b[0m(-0.04324)\n",
            "\n",
            " > BEST MODEL : tts_train_dir/run-November-17-2022_09+42AM-0000000/best_model_264.pth\n",
            "\n",
            "\u001b[4m\u001b[1m > EPOCH: 66/100\u001b[0m\n",
            " --> tts_train_dir/run-November-17-2022_09+42AM-0000000\n",
            "\n",
            "\u001b[1m > TRAINING (2022-11-17 11:49:50) \u001b[0m\n"
          ]
        },
        {
          "metadata": {
            "tags": null
          },
          "name": "stdout",
          "output_type": "stream",
          "text": [
            "\n",
            "\n",
            "> DataLoader initialization\n",
            "| > Tokenizer:\n",
            "\t| > add_blank: False\n",
            "\t| > use_eos_bos: False\n",
            "\t| > use_phonemes: True\n",
            "\t| > phonemizer:\n",
            "\t\t| > phoneme language: en-us\n",
            "\t\t| > phoneme backend: gruut\n",
            "\t| > 1 not found characters:\n",
            "\t| > ͡\n",
            "| > Number of instances : 100\n",
            " | > Preprocessing samples\n",
            " | > Max text length: 169\n",
            " | > Min text length: 26\n",
            " | > Avg text length: 100.83\n",
            " | \n",
            " | > Max audio length: 219315.0\n",
            " | > Min audio length: 39347.0\n",
            " | > Avg audio length: 145581.88\n",
            " | > Num. instances discarded samples: 0\n",
            " | > Batch group size: 0.\n"
          ]
        },
        {
          "metadata": {
            "tags": null
          },
          "name": "stderr",
          "output_type": "stream",
          "text": [
            "\n",
            "\u001b[1m > EVALUATION \u001b[0m\n",
            "\n"
          ]
        },
        {
          "metadata": {
            "tags": null
          },
          "name": "stdout",
          "output_type": "stream",
          "text": [
            "\n",
            "\n",
            "> DataLoader initialization\n",
            "| > Tokenizer:\n",
            "\t| > add_blank: False\n",
            "\t| > use_eos_bos: False\n",
            "\t| > use_phonemes: True\n",
            "\t| > phonemizer:\n",
            "\t\t| > phoneme language: en-us\n",
            "\t\t| > phoneme backend: gruut\n",
            "\t| > 1 not found characters:\n",
            "\t| > ͡\n",
            "| > Number of instances : 1\n",
            " | > Preprocessing samples\n",
            " | > Max text length: 140\n",
            " | > Min text length: 140\n",
            " | > Avg text length: 140.0\n",
            " | \n",
            " | > Max audio length: 212659.0\n",
            " | > Min audio length: 212659.0\n",
            " | > Avg audio length: 212659.0\n",
            " | > Num. instances discarded samples: 0\n",
            " | > Batch group size: 0.\n",
            " | > Synthesizing test sentences.\n"
          ]
        },
        {
          "metadata": {
            "tags": null
          },
          "name": "stderr",
          "output_type": "stream",
          "text": [
            "\n",
            "  \u001b[1m--> EVAL PERFORMANCE\u001b[0m\n",
            "     | > avg_loader_time:\u001b[91m 0.26133 \u001b[0m(+0.01481)\n",
            "     | > avg_loss:\u001b[92m 2.56593 \u001b[0m(-0.02693)\n",
            "     | > avg_log_mle:\u001b[92m 0.60858 \u001b[0m(-0.00685)\n",
            "     | > avg_loss_dur:\u001b[92m 1.95735 \u001b[0m(-0.02008)\n",
            "\n",
            " > BEST MODEL : tts_train_dir/run-November-17-2022_09+42AM-0000000/best_model_268.pth\n",
            "\n",
            "\u001b[4m\u001b[1m > EPOCH: 67/100\u001b[0m\n",
            " --> tts_train_dir/run-November-17-2022_09+42AM-0000000\n",
            "\n",
            "\u001b[1m > TRAINING (2022-11-17 11:51:56) \u001b[0m\n"
          ]
        },
        {
          "metadata": {
            "tags": null
          },
          "name": "stdout",
          "output_type": "stream",
          "text": [
            "\n",
            "\n",
            "> DataLoader initialization\n",
            "| > Tokenizer:\n",
            "\t| > add_blank: False\n",
            "\t| > use_eos_bos: False\n",
            "\t| > use_phonemes: True\n",
            "\t| > phonemizer:\n",
            "\t\t| > phoneme language: en-us\n",
            "\t\t| > phoneme backend: gruut\n",
            "\t| > 1 not found characters:\n",
            "\t| > ͡\n",
            "| > Number of instances : 100\n",
            " | > Preprocessing samples\n",
            " | > Max text length: 169\n",
            " | > Min text length: 26\n",
            " | > Avg text length: 100.83\n",
            " | \n",
            " | > Max audio length: 219315.0\n",
            " | > Min audio length: 39347.0\n",
            " | > Avg audio length: 145581.88\n",
            " | > Num. instances discarded samples: 0\n",
            " | > Batch group size: 0.\n"
          ]
        },
        {
          "metadata": {
            "tags": null
          },
          "name": "stderr",
          "output_type": "stream",
          "text": [
            "\n",
            "\u001b[1m > EVALUATION \u001b[0m\n",
            "\n"
          ]
        },
        {
          "metadata": {
            "tags": null
          },
          "name": "stdout",
          "output_type": "stream",
          "text": [
            "\n",
            "\n",
            "> DataLoader initialization\n",
            "| > Tokenizer:\n",
            "\t| > add_blank: False\n",
            "\t| > use_eos_bos: False\n",
            "\t| > use_phonemes: True\n",
            "\t| > phonemizer:\n",
            "\t\t| > phoneme language: en-us\n",
            "\t\t| > phoneme backend: gruut\n",
            "\t| > 1 not found characters:\n",
            "\t| > ͡\n",
            "| > Number of instances : 1\n",
            " | > Preprocessing samples\n",
            " | > Max text length: 140\n",
            " | > Min text length: 140\n",
            " | > Avg text length: 140.0\n",
            " | \n",
            " | > Max audio length: 212659.0\n",
            " | > Min audio length: 212659.0\n",
            " | > Avg audio length: 212659.0\n",
            " | > Num. instances discarded samples: 0\n",
            " | > Batch group size: 0.\n",
            " | > Synthesizing test sentences.\n"
          ]
        },
        {
          "metadata": {
            "tags": null
          },
          "name": "stderr",
          "output_type": "stream",
          "text": [
            "\n",
            "  \u001b[1m--> EVAL PERFORMANCE\u001b[0m\n",
            "     | > avg_loader_time:\u001b[92m 0.24341 \u001b[0m(-0.01792)\n",
            "     | > avg_loss:\u001b[92m 2.52379 \u001b[0m(-0.04215)\n",
            "     | > avg_log_mle:\u001b[92m 0.60174 \u001b[0m(-0.00684)\n",
            "     | > avg_loss_dur:\u001b[92m 1.92205 \u001b[0m(-0.03530)\n",
            "\n",
            " > BEST MODEL : tts_train_dir/run-November-17-2022_09+42AM-0000000/best_model_272.pth\n",
            "\n",
            "\u001b[4m\u001b[1m > EPOCH: 68/100\u001b[0m\n",
            " --> tts_train_dir/run-November-17-2022_09+42AM-0000000\n",
            "\n",
            "\u001b[1m > TRAINING (2022-11-17 11:53:55) \u001b[0m\n"
          ]
        },
        {
          "metadata": {
            "tags": null
          },
          "name": "stdout",
          "output_type": "stream",
          "text": [
            "\n",
            "\n",
            "> DataLoader initialization\n",
            "| > Tokenizer:\n",
            "\t| > add_blank: False\n",
            "\t| > use_eos_bos: False\n",
            "\t| > use_phonemes: True\n",
            "\t| > phonemizer:\n",
            "\t\t| > phoneme language: en-us\n",
            "\t\t| > phoneme backend: gruut\n",
            "\t| > 1 not found characters:\n",
            "\t| > ͡\n",
            "| > Number of instances : 100\n",
            " | > Preprocessing samples\n",
            " | > Max text length: 169\n",
            " | > Min text length: 26\n",
            " | > Avg text length: 100.83\n",
            " | \n",
            " | > Max audio length: 219315.0\n",
            " | > Min audio length: 39347.0\n",
            " | > Avg audio length: 145581.88\n",
            " | > Num. instances discarded samples: 0\n",
            " | > Batch group size: 0.\n"
          ]
        },
        {
          "metadata": {
            "tags": null
          },
          "name": "stderr",
          "output_type": "stream",
          "text": [
            "\n",
            "\u001b[1m   --> STEP: 3/4 -- GLOBAL_STEP: 275\u001b[0m\n",
            "     | > loss: 2.45257  (2.47469)\n",
            "     | > log_mle: 0.58027  (0.57713)\n",
            "     | > loss_dur: 1.87230  (1.89756)\n",
            "     | > grad_norm: 4.59527  (4.60367)\n",
            "     | > current_lr: 0.00002 \n",
            "     | > step_time: 5.38730  (25.57511)\n",
            "     | > loader_time: 0.00160  (0.00189)\n",
            "\n",
            "\n",
            "\u001b[1m > EVALUATION \u001b[0m\n",
            "\n"
          ]
        },
        {
          "metadata": {
            "tags": null
          },
          "name": "stdout",
          "output_type": "stream",
          "text": [
            "\n",
            "\n",
            "> DataLoader initialization\n",
            "| > Tokenizer:\n",
            "\t| > add_blank: False\n",
            "\t| > use_eos_bos: False\n",
            "\t| > use_phonemes: True\n",
            "\t| > phonemizer:\n",
            "\t\t| > phoneme language: en-us\n",
            "\t\t| > phoneme backend: gruut\n",
            "\t| > 1 not found characters:\n",
            "\t| > ͡\n",
            "| > Number of instances : 1\n",
            " | > Preprocessing samples\n",
            " | > Max text length: 140\n",
            " | > Min text length: 140\n",
            " | > Avg text length: 140.0\n",
            " | \n",
            " | > Max audio length: 212659.0\n",
            " | > Min audio length: 212659.0\n",
            " | > Avg audio length: 212659.0\n",
            " | > Num. instances discarded samples: 0\n",
            " | > Batch group size: 0.\n",
            " | > Synthesizing test sentences.\n"
          ]
        },
        {
          "metadata": {
            "tags": null
          },
          "name": "stderr",
          "output_type": "stream",
          "text": [
            "\n",
            "  \u001b[1m--> EVAL PERFORMANCE\u001b[0m\n",
            "     | > avg_loader_time:\u001b[91m 0.29063 \u001b[0m(+0.04722)\n",
            "     | > avg_loss:\u001b[92m 2.47676 \u001b[0m(-0.04702)\n",
            "     | > avg_log_mle:\u001b[92m 0.59489 \u001b[0m(-0.00685)\n",
            "     | > avg_loss_dur:\u001b[92m 1.88187 \u001b[0m(-0.04018)\n",
            "\n",
            " > BEST MODEL : tts_train_dir/run-November-17-2022_09+42AM-0000000/best_model_276.pth\n",
            "\n",
            "\u001b[4m\u001b[1m > EPOCH: 69/100\u001b[0m\n",
            " --> tts_train_dir/run-November-17-2022_09+42AM-0000000\n",
            "\n",
            "\u001b[1m > TRAINING (2022-11-17 11:55:58) \u001b[0m\n"
          ]
        },
        {
          "metadata": {
            "tags": null
          },
          "name": "stdout",
          "output_type": "stream",
          "text": [
            "\n",
            "\n",
            "> DataLoader initialization\n",
            "| > Tokenizer:\n",
            "\t| > add_blank: False\n",
            "\t| > use_eos_bos: False\n",
            "\t| > use_phonemes: True\n",
            "\t| > phonemizer:\n",
            "\t\t| > phoneme language: en-us\n",
            "\t\t| > phoneme backend: gruut\n",
            "\t| > 1 not found characters:\n",
            "\t| > ͡\n",
            "| > Number of instances : 100\n",
            " | > Preprocessing samples\n",
            " | > Max text length: 169\n",
            " | > Min text length: 26\n",
            " | > Avg text length: 100.83\n",
            " | \n",
            " | > Max audio length: 219315.0\n",
            " | > Min audio length: 39347.0\n",
            " | > Avg audio length: 145581.88\n",
            " | > Num. instances discarded samples: 0\n",
            " | > Batch group size: 0.\n"
          ]
        },
        {
          "metadata": {
            "tags": null
          },
          "name": "stderr",
          "output_type": "stream",
          "text": [
            "\n",
            "\u001b[1m > EVALUATION \u001b[0m\n",
            "\n"
          ]
        },
        {
          "metadata": {
            "tags": null
          },
          "name": "stdout",
          "output_type": "stream",
          "text": [
            "\n",
            "\n",
            "> DataLoader initialization\n",
            "| > Tokenizer:\n",
            "\t| > add_blank: False\n",
            "\t| > use_eos_bos: False\n",
            "\t| > use_phonemes: True\n",
            "\t| > phonemizer:\n",
            "\t\t| > phoneme language: en-us\n",
            "\t\t| > phoneme backend: gruut\n",
            "\t| > 1 not found characters:\n",
            "\t| > ͡\n",
            "| > Number of instances : 1\n",
            " | > Preprocessing samples\n",
            " | > Max text length: 140\n",
            " | > Min text length: 140\n",
            " | > Avg text length: 140.0\n",
            " | \n",
            " | > Max audio length: 212659.0\n",
            " | > Min audio length: 212659.0\n",
            " | > Avg audio length: 212659.0\n",
            " | > Num. instances discarded samples: 0\n",
            " | > Batch group size: 0.\n",
            " | > Synthesizing test sentences.\n"
          ]
        },
        {
          "metadata": {
            "tags": null
          },
          "name": "stderr",
          "output_type": "stream",
          "text": [
            "\n",
            "  \u001b[1m--> EVAL PERFORMANCE\u001b[0m\n",
            "     | > avg_loader_time:\u001b[92m 0.25821 \u001b[0m(-0.03242)\n",
            "     | > avg_loss:\u001b[92m 2.43928 \u001b[0m(-0.03748)\n",
            "     | > avg_log_mle:\u001b[92m 0.58813 \u001b[0m(-0.00676)\n",
            "     | > avg_loss_dur:\u001b[92m 1.85115 \u001b[0m(-0.03072)\n",
            "\n",
            " > BEST MODEL : tts_train_dir/run-November-17-2022_09+42AM-0000000/best_model_280.pth\n",
            "\n",
            "\u001b[4m\u001b[1m > EPOCH: 70/100\u001b[0m\n",
            " --> tts_train_dir/run-November-17-2022_09+42AM-0000000\n",
            "\n",
            "\u001b[1m > TRAINING (2022-11-17 11:57:59) \u001b[0m\n"
          ]
        },
        {
          "metadata": {
            "tags": null
          },
          "name": "stdout",
          "output_type": "stream",
          "text": [
            "\n",
            "\n",
            "> DataLoader initialization\n",
            "| > Tokenizer:\n",
            "\t| > add_blank: False\n",
            "\t| > use_eos_bos: False\n",
            "\t| > use_phonemes: True\n",
            "\t| > phonemizer:\n",
            "\t\t| > phoneme language: en-us\n",
            "\t\t| > phoneme backend: gruut\n",
            "\t| > 1 not found characters:\n",
            "\t| > ͡\n",
            "| > Number of instances : 100\n",
            " | > Preprocessing samples\n",
            " | > Max text length: 169\n",
            " | > Min text length: 26\n",
            " | > Avg text length: 100.83\n",
            " | \n",
            " | > Max audio length: 219315.0\n",
            " | > Min audio length: 39347.0\n",
            " | > Avg audio length: 145581.88\n",
            " | > Num. instances discarded samples: 0\n",
            " | > Batch group size: 0.\n"
          ]
        },
        {
          "metadata": {
            "tags": null
          },
          "name": "stderr",
          "output_type": "stream",
          "text": [
            "\n",
            "\u001b[1m > EVALUATION \u001b[0m\n",
            "\n"
          ]
        },
        {
          "metadata": {
            "tags": null
          },
          "name": "stdout",
          "output_type": "stream",
          "text": [
            "\n",
            "\n",
            "> DataLoader initialization\n",
            "| > Tokenizer:\n",
            "\t| > add_blank: False\n",
            "\t| > use_eos_bos: False\n",
            "\t| > use_phonemes: True\n",
            "\t| > phonemizer:\n",
            "\t\t| > phoneme language: en-us\n",
            "\t\t| > phoneme backend: gruut\n",
            "\t| > 1 not found characters:\n",
            "\t| > ͡\n",
            "| > Number of instances : 1\n",
            " | > Preprocessing samples\n",
            " | > Max text length: 140\n",
            " | > Min text length: 140\n",
            " | > Avg text length: 140.0\n",
            " | \n",
            " | > Max audio length: 212659.0\n",
            " | > Min audio length: 212659.0\n",
            " | > Avg audio length: 212659.0\n",
            " | > Num. instances discarded samples: 0\n",
            " | > Batch group size: 0.\n",
            " | > Synthesizing test sentences.\n"
          ]
        },
        {
          "metadata": {
            "tags": null
          },
          "name": "stderr",
          "output_type": "stream",
          "text": [
            "\n",
            "  \u001b[1m--> EVAL PERFORMANCE\u001b[0m\n",
            "     | > avg_loader_time:\u001b[92m 0.25077 \u001b[0m(-0.00744)\n",
            "     | > avg_loss:\u001b[92m 2.40580 \u001b[0m(-0.03348)\n",
            "     | > avg_log_mle:\u001b[92m 0.58140 \u001b[0m(-0.00673)\n",
            "     | > avg_loss_dur:\u001b[92m 1.82440 \u001b[0m(-0.02675)\n",
            "\n",
            " > BEST MODEL : tts_train_dir/run-November-17-2022_09+42AM-0000000/best_model_284.pth\n",
            "\n",
            "\u001b[4m\u001b[1m > EPOCH: 71/100\u001b[0m\n",
            " --> tts_train_dir/run-November-17-2022_09+42AM-0000000\n",
            "\n",
            "\u001b[1m > TRAINING (2022-11-17 11:59:58) \u001b[0m\n"
          ]
        },
        {
          "metadata": {
            "tags": null
          },
          "name": "stdout",
          "output_type": "stream",
          "text": [
            "\n",
            "\n",
            "> DataLoader initialization\n",
            "| > Tokenizer:\n",
            "\t| > add_blank: False\n",
            "\t| > use_eos_bos: False\n",
            "\t| > use_phonemes: True\n",
            "\t| > phonemizer:\n",
            "\t\t| > phoneme language: en-us\n",
            "\t\t| > phoneme backend: gruut\n",
            "\t| > 1 not found characters:\n",
            "\t| > ͡\n",
            "| > Number of instances : 100\n",
            " | > Preprocessing samples\n",
            " | > Max text length: 169\n",
            " | > Min text length: 26\n",
            " | > Avg text length: 100.83\n",
            " | \n",
            " | > Max audio length: 219315.0\n",
            " | > Min audio length: 39347.0\n",
            " | > Avg audio length: 145581.88\n",
            " | > Num. instances discarded samples: 0\n",
            " | > Batch group size: 0.\n"
          ]
        },
        {
          "metadata": {
            "tags": null
          },
          "name": "stderr",
          "output_type": "stream",
          "text": [
            "\n",
            "\u001b[1m > EVALUATION \u001b[0m\n",
            "\n"
          ]
        },
        {
          "metadata": {
            "tags": null
          },
          "name": "stdout",
          "output_type": "stream",
          "text": [
            "\n",
            "\n",
            "> DataLoader initialization\n",
            "| > Tokenizer:\n",
            "\t| > add_blank: False\n",
            "\t| > use_eos_bos: False\n",
            "\t| > use_phonemes: True\n",
            "\t| > phonemizer:\n",
            "\t\t| > phoneme language: en-us\n",
            "\t\t| > phoneme backend: gruut\n",
            "\t| > 1 not found characters:\n",
            "\t| > ͡\n",
            "| > Number of instances : 1\n",
            " | > Preprocessing samples\n",
            " | > Max text length: 140\n",
            " | > Min text length: 140\n",
            " | > Avg text length: 140.0\n",
            " | \n",
            " | > Max audio length: 212659.0\n",
            " | > Min audio length: 212659.0\n",
            " | > Avg audio length: 212659.0\n",
            " | > Num. instances discarded samples: 0\n",
            " | > Batch group size: 0.\n",
            " | > Synthesizing test sentences.\n"
          ]
        },
        {
          "metadata": {
            "tags": null
          },
          "name": "stderr",
          "output_type": "stream",
          "text": [
            "\n",
            "  \u001b[1m--> EVAL PERFORMANCE\u001b[0m\n",
            "     | > avg_loader_time:\u001b[91m 0.25901 \u001b[0m(+0.00824)\n",
            "     | > avg_loss:\u001b[92m 2.36398 \u001b[0m(-0.04182)\n",
            "     | > avg_log_mle:\u001b[92m 0.57468 \u001b[0m(-0.00672)\n",
            "     | > avg_loss_dur:\u001b[92m 1.78930 \u001b[0m(-0.03510)\n",
            "\n",
            " > BEST MODEL : tts_train_dir/run-November-17-2022_09+42AM-0000000/best_model_288.pth\n",
            "\n",
            "\u001b[4m\u001b[1m > EPOCH: 72/100\u001b[0m\n",
            " --> tts_train_dir/run-November-17-2022_09+42AM-0000000\n",
            "\n",
            "\u001b[1m > TRAINING (2022-11-17 12:01:56) \u001b[0m\n"
          ]
        },
        {
          "metadata": {
            "tags": null
          },
          "name": "stdout",
          "output_type": "stream",
          "text": [
            "\n",
            "\n",
            "> DataLoader initialization\n",
            "| > Tokenizer:\n",
            "\t| > add_blank: False\n",
            "\t| > use_eos_bos: False\n",
            "\t| > use_phonemes: True\n",
            "\t| > phonemizer:\n",
            "\t\t| > phoneme language: en-us\n",
            "\t\t| > phoneme backend: gruut\n",
            "\t| > 1 not found characters:\n",
            "\t| > ͡\n",
            "| > Number of instances : 100\n",
            " | > Preprocessing samples\n",
            " | > Max text length: 169\n",
            " | > Min text length: 26\n",
            " | > Avg text length: 100.83\n",
            " | \n",
            " | > Max audio length: 219315.0\n",
            " | > Min audio length: 39347.0\n",
            " | > Avg audio length: 145581.88\n",
            " | > Num. instances discarded samples: 0\n",
            " | > Batch group size: 0.\n"
          ]
        },
        {
          "metadata": {
            "tags": null
          },
          "name": "stderr",
          "output_type": "stream",
          "text": [
            "\n",
            "\u001b[1m > EVALUATION \u001b[0m\n",
            "\n"
          ]
        },
        {
          "metadata": {
            "tags": null
          },
          "name": "stdout",
          "output_type": "stream",
          "text": [
            "\n",
            "\n",
            "> DataLoader initialization\n",
            "| > Tokenizer:\n",
            "\t| > add_blank: False\n",
            "\t| > use_eos_bos: False\n",
            "\t| > use_phonemes: True\n",
            "\t| > phonemizer:\n",
            "\t\t| > phoneme language: en-us\n",
            "\t\t| > phoneme backend: gruut\n",
            "\t| > 1 not found characters:\n",
            "\t| > ͡\n",
            "| > Number of instances : 1\n",
            " | > Preprocessing samples\n",
            " | > Max text length: 140\n",
            " | > Min text length: 140\n",
            " | > Avg text length: 140.0\n",
            " | \n",
            " | > Max audio length: 212659.0\n",
            " | > Min audio length: 212659.0\n",
            " | > Avg audio length: 212659.0\n",
            " | > Num. instances discarded samples: 0\n",
            " | > Batch group size: 0.\n",
            " | > Synthesizing test sentences.\n"
          ]
        },
        {
          "metadata": {
            "tags": null
          },
          "name": "stderr",
          "output_type": "stream",
          "text": [
            "\n",
            "  \u001b[1m--> EVAL PERFORMANCE\u001b[0m\n",
            "     | > avg_loader_time:\u001b[91m 0.26845 \u001b[0m(+0.00943)\n",
            "     | > avg_loss:\u001b[92m 2.33485 \u001b[0m(-0.02913)\n",
            "     | > avg_log_mle:\u001b[92m 0.56810 \u001b[0m(-0.00658)\n",
            "     | > avg_loss_dur:\u001b[92m 1.76675 \u001b[0m(-0.02255)\n",
            "\n",
            " > BEST MODEL : tts_train_dir/run-November-17-2022_09+42AM-0000000/best_model_292.pth\n",
            "\n",
            "\u001b[4m\u001b[1m > EPOCH: 73/100\u001b[0m\n",
            " --> tts_train_dir/run-November-17-2022_09+42AM-0000000\n",
            "\n",
            "\u001b[1m > TRAINING (2022-11-17 12:03:55) \u001b[0m\n"
          ]
        },
        {
          "metadata": {
            "tags": null
          },
          "name": "stdout",
          "output_type": "stream",
          "text": [
            "\n",
            "\n",
            "> DataLoader initialization\n",
            "| > Tokenizer:\n",
            "\t| > add_blank: False\n",
            "\t| > use_eos_bos: False\n",
            "\t| > use_phonemes: True\n",
            "\t| > phonemizer:\n",
            "\t\t| > phoneme language: en-us\n",
            "\t\t| > phoneme backend: gruut\n",
            "\t| > 1 not found characters:\n",
            "\t| > ͡\n",
            "| > Number of instances : 100\n",
            " | > Preprocessing samples\n",
            " | > Max text length: 169\n",
            " | > Min text length: 26\n",
            " | > Avg text length: 100.83\n",
            " | \n",
            " | > Max audio length: 219315.0\n",
            " | > Min audio length: 39347.0\n",
            " | > Avg audio length: 145581.88\n",
            " | > Num. instances discarded samples: 0\n",
            " | > Batch group size: 0.\n"
          ]
        },
        {
          "output_type": "stream",
          "name": "stderr",
          "text": [
            "\n",
            "\u001b[1m > EVALUATION \u001b[0m\n",
            "\n"
          ]
        },
        {
          "output_type": "stream",
          "name": "stdout",
          "text": [
            "\n",
            "\n",
            "> DataLoader initialization\n",
            "| > Tokenizer:\n",
            "\t| > add_blank: False\n",
            "\t| > use_eos_bos: False\n",
            "\t| > use_phonemes: True\n",
            "\t| > phonemizer:\n",
            "\t\t| > phoneme language: en-us\n",
            "\t\t| > phoneme backend: gruut\n",
            "\t| > 1 not found characters:\n",
            "\t| > ͡\n",
            "| > Number of instances : 1\n",
            " | > Preprocessing samples\n",
            " | > Max text length: 140\n",
            " | > Min text length: 140\n",
            " | > Avg text length: 140.0\n",
            " | \n",
            " | > Max audio length: 212659.0\n",
            " | > Min audio length: 212659.0\n",
            " | > Avg audio length: 212659.0\n",
            " | > Num. instances discarded samples: 0\n",
            " | > Batch group size: 0.\n",
            " | > Synthesizing test sentences.\n"
          ]
        },
        {
          "output_type": "stream",
          "name": "stderr",
          "text": [
            "\n",
            "  \u001b[1m--> EVAL PERFORMANCE\u001b[0m\n",
            "     | > avg_loader_time:\u001b[91m 0.35124 \u001b[0m(+0.08279)\n",
            "     | > avg_loss:\u001b[92m 2.31936 \u001b[0m(-0.01549)\n",
            "     | > avg_log_mle:\u001b[92m 0.56167 \u001b[0m(-0.00643)\n",
            "     | > avg_loss_dur:\u001b[92m 1.75769 \u001b[0m(-0.00906)\n",
            "\n",
            " > BEST MODEL : tts_train_dir/run-November-17-2022_09+42AM-0000000/best_model_296.pth\n",
            "\n",
            "\u001b[4m\u001b[1m > EPOCH: 74/100\u001b[0m\n",
            " --> tts_train_dir/run-November-17-2022_09+42AM-0000000\n",
            "\n",
            "\u001b[1m > TRAINING (2022-11-17 12:06:01) \u001b[0m\n"
          ]
        },
        {
          "output_type": "stream",
          "name": "stdout",
          "text": [
            "\n",
            "\n",
            "> DataLoader initialization\n",
            "| > Tokenizer:\n",
            "\t| > add_blank: False\n",
            "\t| > use_eos_bos: False\n",
            "\t| > use_phonemes: True\n",
            "\t| > phonemizer:\n",
            "\t\t| > phoneme language: en-us\n",
            "\t\t| > phoneme backend: gruut\n",
            "\t| > 1 not found characters:\n",
            "\t| > ͡\n",
            "| > Number of instances : 100\n",
            " | > Preprocessing samples\n",
            " | > Max text length: 169\n",
            " | > Min text length: 26\n",
            " | > Avg text length: 100.83\n",
            " | \n",
            " | > Max audio length: 219315.0\n",
            " | > Min audio length: 39347.0\n",
            " | > Avg audio length: 145581.88\n",
            " | > Num. instances discarded samples: 0\n",
            " | > Batch group size: 0.\n"
          ]
        },
        {
          "output_type": "stream",
          "name": "stderr",
          "text": [
            "\n",
            "\u001b[1m > EVALUATION \u001b[0m\n",
            "\n"
          ]
        },
        {
          "output_type": "stream",
          "name": "stdout",
          "text": [
            "\n",
            "\n",
            "> DataLoader initialization\n",
            "| > Tokenizer:\n",
            "\t| > add_blank: False\n",
            "\t| > use_eos_bos: False\n",
            "\t| > use_phonemes: True\n",
            "\t| > phonemizer:\n",
            "\t\t| > phoneme language: en-us\n",
            "\t\t| > phoneme backend: gruut\n",
            "\t| > 1 not found characters:\n",
            "\t| > ͡\n",
            "| > Number of instances : 1\n",
            " | > Preprocessing samples\n",
            " | > Max text length: 140\n",
            " | > Min text length: 140\n",
            " | > Avg text length: 140.0\n",
            " | \n",
            " | > Max audio length: 212659.0\n",
            " | > Min audio length: 212659.0\n",
            " | > Avg audio length: 212659.0\n",
            " | > Num. instances discarded samples: 0\n",
            " | > Batch group size: 0.\n",
            " | > Synthesizing test sentences.\n"
          ]
        },
        {
          "output_type": "stream",
          "name": "stderr",
          "text": [
            "\n",
            "  \u001b[1m--> EVAL PERFORMANCE\u001b[0m\n",
            "     | > avg_loader_time:\u001b[92m 0.27151 \u001b[0m(-0.07973)\n",
            "     | > avg_loss:\u001b[92m 2.28591 \u001b[0m(-0.03345)\n",
            "     | > avg_log_mle:\u001b[92m 0.55519 \u001b[0m(-0.00647)\n",
            "     | > avg_loss_dur:\u001b[92m 1.73071 \u001b[0m(-0.02698)\n",
            "\n",
            " > BEST MODEL : tts_train_dir/run-November-17-2022_09+42AM-0000000/best_model_300.pth\n",
            "\n",
            "\u001b[4m\u001b[1m > EPOCH: 75/100\u001b[0m\n",
            " --> tts_train_dir/run-November-17-2022_09+42AM-0000000\n",
            "\n",
            "\u001b[1m > TRAINING (2022-11-17 12:08:01) \u001b[0m\n"
          ]
        },
        {
          "output_type": "stream",
          "name": "stdout",
          "text": [
            "\n",
            "\n",
            "> DataLoader initialization\n",
            "| > Tokenizer:\n",
            "\t| > add_blank: False\n",
            "\t| > use_eos_bos: False\n",
            "\t| > use_phonemes: True\n",
            "\t| > phonemizer:\n",
            "\t\t| > phoneme language: en-us\n",
            "\t\t| > phoneme backend: gruut\n",
            "\t| > 1 not found characters:\n",
            "\t| > ͡\n",
            "| > Number of instances : 100\n",
            " | > Preprocessing samples\n",
            " | > Max text length: 169\n",
            " | > Min text length: 26\n",
            " | > Avg text length: 100.83\n",
            " | \n",
            " | > Max audio length: 219315.0\n",
            " | > Min audio length: 39347.0\n",
            " | > Avg audio length: 145581.88\n",
            " | > Num. instances discarded samples: 0\n",
            " | > Batch group size: 0.\n"
          ]
        },
        {
          "output_type": "stream",
          "name": "stderr",
          "text": [
            "\n",
            "\u001b[1m   --> STEP: 0/4 -- GLOBAL_STEP: 300\u001b[0m\n",
            "     | > loss: 2.32601  (2.32601)\n",
            "     | > log_mle: 0.52210  (0.52210)\n",
            "     | > loss_dur: 1.80392  (1.80392)\n",
            "     | > grad_norm: 4.29513  (4.29513)\n",
            "     | > current_lr: 0.00002 \n",
            "     | > step_time: 33.20460  (33.20459)\n",
            "     | > loader_time: 1.62050  (1.62045)\n",
            "\n",
            "\n",
            "\u001b[1m > EVALUATION \u001b[0m\n",
            "\n"
          ]
        },
        {
          "output_type": "stream",
          "name": "stdout",
          "text": [
            "\n",
            "\n",
            "> DataLoader initialization\n",
            "| > Tokenizer:\n",
            "\t| > add_blank: False\n",
            "\t| > use_eos_bos: False\n",
            "\t| > use_phonemes: True\n",
            "\t| > phonemizer:\n",
            "\t\t| > phoneme language: en-us\n",
            "\t\t| > phoneme backend: gruut\n",
            "\t| > 1 not found characters:\n",
            "\t| > ͡\n",
            "| > Number of instances : 1\n",
            " | > Preprocessing samples\n",
            " | > Max text length: 140\n",
            " | > Min text length: 140\n",
            " | > Avg text length: 140.0\n",
            " | \n",
            " | > Max audio length: 212659.0\n",
            " | > Min audio length: 212659.0\n",
            " | > Avg audio length: 212659.0\n",
            " | > Num. instances discarded samples: 0\n",
            " | > Batch group size: 0.\n",
            " | > Synthesizing test sentences.\n"
          ]
        },
        {
          "output_type": "stream",
          "name": "stderr",
          "text": [
            "\n",
            "  \u001b[1m--> EVAL PERFORMANCE\u001b[0m\n",
            "     | > avg_loader_time:\u001b[92m 0.27073 \u001b[0m(-0.00078)\n",
            "     | > avg_loss:\u001b[92m 2.26582 \u001b[0m(-0.02009)\n",
            "     | > avg_log_mle:\u001b[92m 0.54883 \u001b[0m(-0.00636)\n",
            "     | > avg_loss_dur:\u001b[92m 1.71698 \u001b[0m(-0.01373)\n",
            "\n",
            " > BEST MODEL : tts_train_dir/run-November-17-2022_09+42AM-0000000/best_model_304.pth\n",
            "\n",
            "\u001b[4m\u001b[1m > EPOCH: 76/100\u001b[0m\n",
            " --> tts_train_dir/run-November-17-2022_09+42AM-0000000\n",
            "\n",
            "\u001b[1m > TRAINING (2022-11-17 12:10:00) \u001b[0m\n"
          ]
        },
        {
          "output_type": "stream",
          "name": "stdout",
          "text": [
            "\n",
            "\n",
            "> DataLoader initialization\n",
            "| > Tokenizer:\n",
            "\t| > add_blank: False\n",
            "\t| > use_eos_bos: False\n",
            "\t| > use_phonemes: True\n",
            "\t| > phonemizer:\n",
            "\t\t| > phoneme language: en-us\n",
            "\t\t| > phoneme backend: gruut\n",
            "\t| > 1 not found characters:\n",
            "\t| > ͡\n",
            "| > Number of instances : 100\n",
            " | > Preprocessing samples\n",
            " | > Max text length: 169\n",
            " | > Min text length: 26\n",
            " | > Avg text length: 100.83\n",
            " | \n",
            " | > Max audio length: 219315.0\n",
            " | > Min audio length: 39347.0\n",
            " | > Avg audio length: 145581.88\n",
            " | > Num. instances discarded samples: 0\n",
            " | > Batch group size: 0.\n"
          ]
        },
        {
          "output_type": "stream",
          "name": "stderr",
          "text": [
            "\n",
            "\u001b[1m > EVALUATION \u001b[0m\n",
            "\n"
          ]
        },
        {
          "output_type": "stream",
          "name": "stdout",
          "text": [
            "\n",
            "\n",
            "> DataLoader initialization\n",
            "| > Tokenizer:\n",
            "\t| > add_blank: False\n",
            "\t| > use_eos_bos: False\n",
            "\t| > use_phonemes: True\n",
            "\t| > phonemizer:\n",
            "\t\t| > phoneme language: en-us\n",
            "\t\t| > phoneme backend: gruut\n",
            "\t| > 1 not found characters:\n",
            "\t| > ͡\n",
            "| > Number of instances : 1\n",
            " | > Preprocessing samples\n",
            " | > Max text length: 140\n",
            " | > Min text length: 140\n",
            " | > Avg text length: 140.0\n",
            " | \n",
            " | > Max audio length: 212659.0\n",
            " | > Min audio length: 212659.0\n",
            " | > Avg audio length: 212659.0\n",
            " | > Num. instances discarded samples: 0\n",
            " | > Batch group size: 0.\n",
            " | > Synthesizing test sentences.\n"
          ]
        },
        {
          "output_type": "stream",
          "name": "stderr",
          "text": [
            "\n",
            "  \u001b[1m--> EVAL PERFORMANCE\u001b[0m\n",
            "     | > avg_loader_time:\u001b[91m 0.27383 \u001b[0m(+0.00311)\n",
            "     | > avg_loss:\u001b[92m 2.23402 \u001b[0m(-0.03180)\n",
            "     | > avg_log_mle:\u001b[92m 0.54243 \u001b[0m(-0.00640)\n",
            "     | > avg_loss_dur:\u001b[92m 1.69159 \u001b[0m(-0.02540)\n",
            "\n",
            " > BEST MODEL : tts_train_dir/run-November-17-2022_09+42AM-0000000/best_model_308.pth\n",
            "\n",
            "\u001b[4m\u001b[1m > EPOCH: 77/100\u001b[0m\n",
            " --> tts_train_dir/run-November-17-2022_09+42AM-0000000\n",
            "\n",
            "\u001b[1m > TRAINING (2022-11-17 12:11:59) \u001b[0m\n"
          ]
        },
        {
          "output_type": "stream",
          "name": "stdout",
          "text": [
            "\n",
            "\n",
            "> DataLoader initialization\n",
            "| > Tokenizer:\n",
            "\t| > add_blank: False\n",
            "\t| > use_eos_bos: False\n",
            "\t| > use_phonemes: True\n",
            "\t| > phonemizer:\n",
            "\t\t| > phoneme language: en-us\n",
            "\t\t| > phoneme backend: gruut\n",
            "\t| > 1 not found characters:\n",
            "\t| > ͡\n",
            "| > Number of instances : 100\n",
            " | > Preprocessing samples\n",
            " | > Max text length: 169\n",
            " | > Min text length: 26\n",
            " | > Avg text length: 100.83\n",
            " | \n",
            " | > Max audio length: 219315.0\n",
            " | > Min audio length: 39347.0\n",
            " | > Avg audio length: 145581.88\n",
            " | > Num. instances discarded samples: 0\n",
            " | > Batch group size: 0.\n"
          ]
        },
        {
          "output_type": "stream",
          "name": "stderr",
          "text": [
            "\n",
            "\u001b[1m > EVALUATION \u001b[0m\n",
            "\n"
          ]
        },
        {
          "output_type": "stream",
          "name": "stdout",
          "text": [
            "\n",
            "\n",
            "> DataLoader initialization\n",
            "| > Tokenizer:\n",
            "\t| > add_blank: False\n",
            "\t| > use_eos_bos: False\n",
            "\t| > use_phonemes: True\n",
            "\t| > phonemizer:\n",
            "\t\t| > phoneme language: en-us\n",
            "\t\t| > phoneme backend: gruut\n",
            "\t| > 1 not found characters:\n",
            "\t| > ͡\n",
            "| > Number of instances : 1\n",
            " | > Preprocessing samples\n",
            " | > Max text length: 140\n",
            " | > Min text length: 140\n",
            " | > Avg text length: 140.0\n",
            " | \n",
            " | > Max audio length: 212659.0\n",
            " | > Min audio length: 212659.0\n",
            " | > Avg audio length: 212659.0\n",
            " | > Num. instances discarded samples: 0\n",
            " | > Batch group size: 0.\n",
            " | > Synthesizing test sentences.\n"
          ]
        },
        {
          "output_type": "stream",
          "name": "stderr",
          "text": [
            "\n",
            "  \u001b[1m--> EVAL PERFORMANCE\u001b[0m\n",
            "     | > avg_loader_time:\u001b[91m 0.27396 \u001b[0m(+0.00013)\n",
            "     | > avg_loss:\u001b[92m 2.20987 \u001b[0m(-0.02415)\n",
            "     | > avg_log_mle:\u001b[92m 0.53615 \u001b[0m(-0.00628)\n",
            "     | > avg_loss_dur:\u001b[92m 1.67372 \u001b[0m(-0.01787)\n",
            "\n",
            " > BEST MODEL : tts_train_dir/run-November-17-2022_09+42AM-0000000/best_model_312.pth\n",
            "\n",
            "\u001b[4m\u001b[1m > EPOCH: 78/100\u001b[0m\n",
            " --> tts_train_dir/run-November-17-2022_09+42AM-0000000\n",
            "\n",
            "\u001b[1m > TRAINING (2022-11-17 12:13:59) \u001b[0m\n"
          ]
        },
        {
          "output_type": "stream",
          "name": "stdout",
          "text": [
            "\n",
            "\n",
            "> DataLoader initialization\n",
            "| > Tokenizer:\n",
            "\t| > add_blank: False\n",
            "\t| > use_eos_bos: False\n",
            "\t| > use_phonemes: True\n",
            "\t| > phonemizer:\n",
            "\t\t| > phoneme language: en-us\n",
            "\t\t| > phoneme backend: gruut\n",
            "\t| > 1 not found characters:\n",
            "\t| > ͡\n",
            "| > Number of instances : 100\n",
            " | > Preprocessing samples\n",
            " | > Max text length: 169\n",
            " | > Min text length: 26\n",
            " | > Avg text length: 100.83\n",
            " | \n",
            " | > Max audio length: 219315.0\n",
            " | > Min audio length: 39347.0\n",
            " | > Avg audio length: 145581.88\n",
            " | > Num. instances discarded samples: 0\n",
            " | > Batch group size: 0.\n"
          ]
        },
        {
          "output_type": "stream",
          "name": "stderr",
          "text": [
            "\n",
            "\u001b[1m > EVALUATION \u001b[0m\n",
            "\n"
          ]
        },
        {
          "output_type": "stream",
          "name": "stdout",
          "text": [
            "\n",
            "\n",
            "> DataLoader initialization\n",
            "| > Tokenizer:\n",
            "\t| > add_blank: False\n",
            "\t| > use_eos_bos: False\n",
            "\t| > use_phonemes: True\n",
            "\t| > phonemizer:\n",
            "\t\t| > phoneme language: en-us\n",
            "\t\t| > phoneme backend: gruut\n",
            "\t| > 1 not found characters:\n",
            "\t| > ͡\n",
            "| > Number of instances : 1\n",
            " | > Preprocessing samples\n",
            " | > Max text length: 140\n",
            " | > Min text length: 140\n",
            " | > Avg text length: 140.0\n",
            " | \n",
            " | > Max audio length: 212659.0\n",
            " | > Min audio length: 212659.0\n",
            " | > Avg audio length: 212659.0\n",
            " | > Num. instances discarded samples: 0\n",
            " | > Batch group size: 0.\n",
            " | > Synthesizing test sentences.\n"
          ]
        },
        {
          "output_type": "stream",
          "name": "stderr",
          "text": [
            "\n",
            "  \u001b[1m--> EVAL PERFORMANCE\u001b[0m\n",
            "     | > avg_loader_time:\u001b[91m 0.28474 \u001b[0m(+0.01077)\n",
            "     | > avg_loss:\u001b[92m 2.18253 \u001b[0m(-0.02734)\n",
            "     | > avg_log_mle:\u001b[92m 0.53006 \u001b[0m(-0.00610)\n",
            "     | > avg_loss_dur:\u001b[92m 1.65247 \u001b[0m(-0.02125)\n",
            "\n",
            " > BEST MODEL : tts_train_dir/run-November-17-2022_09+42AM-0000000/best_model_316.pth\n",
            "\n",
            "\u001b[4m\u001b[1m > EPOCH: 79/100\u001b[0m\n",
            " --> tts_train_dir/run-November-17-2022_09+42AM-0000000\n",
            "\n",
            "\u001b[1m > TRAINING (2022-11-17 12:16:10) \u001b[0m\n"
          ]
        },
        {
          "output_type": "stream",
          "name": "stdout",
          "text": [
            "\n",
            "\n",
            "> DataLoader initialization\n",
            "| > Tokenizer:\n",
            "\t| > add_blank: False\n",
            "\t| > use_eos_bos: False\n",
            "\t| > use_phonemes: True\n",
            "\t| > phonemizer:\n",
            "\t\t| > phoneme language: en-us\n",
            "\t\t| > phoneme backend: gruut\n",
            "\t| > 1 not found characters:\n",
            "\t| > ͡\n",
            "| > Number of instances : 100\n",
            " | > Preprocessing samples\n",
            " | > Max text length: 169\n",
            " | > Min text length: 26\n",
            " | > Avg text length: 100.83\n",
            " | \n",
            " | > Max audio length: 219315.0\n",
            " | > Min audio length: 39347.0\n",
            " | > Avg audio length: 145581.88\n",
            " | > Num. instances discarded samples: 0\n",
            " | > Batch group size: 0.\n"
          ]
        },
        {
          "output_type": "stream",
          "name": "stderr",
          "text": [
            "\n",
            "\u001b[1m > EVALUATION \u001b[0m\n",
            "\n"
          ]
        },
        {
          "output_type": "stream",
          "name": "stdout",
          "text": [
            "\n",
            "\n",
            "> DataLoader initialization\n",
            "| > Tokenizer:\n",
            "\t| > add_blank: False\n",
            "\t| > use_eos_bos: False\n",
            "\t| > use_phonemes: True\n",
            "\t| > phonemizer:\n",
            "\t\t| > phoneme language: en-us\n",
            "\t\t| > phoneme backend: gruut\n",
            "\t| > 1 not found characters:\n",
            "\t| > ͡\n",
            "| > Number of instances : 1\n",
            " | > Preprocessing samples\n",
            " | > Max text length: 140\n",
            " | > Min text length: 140\n",
            " | > Avg text length: 140.0\n",
            " | \n",
            " | > Max audio length: 212659.0\n",
            " | > Min audio length: 212659.0\n",
            " | > Avg audio length: 212659.0\n",
            " | > Num. instances discarded samples: 0\n",
            " | > Batch group size: 0.\n",
            " | > Synthesizing test sentences.\n"
          ]
        },
        {
          "output_type": "stream",
          "name": "stderr",
          "text": [
            "\n",
            "  \u001b[1m--> EVAL PERFORMANCE\u001b[0m\n",
            "     | > avg_loader_time:\u001b[92m 0.25160 \u001b[0m(-0.03313)\n",
            "     | > avg_loss:\u001b[92m 2.15698 \u001b[0m(-0.02555)\n",
            "     | > avg_log_mle:\u001b[92m 0.52412 \u001b[0m(-0.00594)\n",
            "     | > avg_loss_dur:\u001b[92m 1.63286 \u001b[0m(-0.01961)\n",
            "\n",
            " > BEST MODEL : tts_train_dir/run-November-17-2022_09+42AM-0000000/best_model_320.pth\n",
            "\n",
            "\u001b[4m\u001b[1m > EPOCH: 80/100\u001b[0m\n",
            " --> tts_train_dir/run-November-17-2022_09+42AM-0000000\n",
            "\n",
            "\u001b[1m > TRAINING (2022-11-17 12:18:12) \u001b[0m\n"
          ]
        },
        {
          "output_type": "stream",
          "name": "stdout",
          "text": [
            "\n",
            "\n",
            "> DataLoader initialization\n",
            "| > Tokenizer:\n",
            "\t| > add_blank: False\n",
            "\t| > use_eos_bos: False\n",
            "\t| > use_phonemes: True\n",
            "\t| > phonemizer:\n",
            "\t\t| > phoneme language: en-us\n",
            "\t\t| > phoneme backend: gruut\n",
            "\t| > 1 not found characters:\n",
            "\t| > ͡\n",
            "| > Number of instances : 100\n",
            " | > Preprocessing samples\n",
            " | > Max text length: 169\n",
            " | > Min text length: 26\n",
            " | > Avg text length: 100.83\n",
            " | \n",
            " | > Max audio length: 219315.0\n",
            " | > Min audio length: 39347.0\n",
            " | > Avg audio length: 145581.88\n",
            " | > Num. instances discarded samples: 0\n",
            " | > Batch group size: 0.\n"
          ]
        },
        {
          "output_type": "stream",
          "name": "stderr",
          "text": [
            "\n",
            "\u001b[1m > EVALUATION \u001b[0m\n",
            "\n"
          ]
        },
        {
          "output_type": "stream",
          "name": "stdout",
          "text": [
            "\n",
            "\n",
            "> DataLoader initialization\n",
            "| > Tokenizer:\n",
            "\t| > add_blank: False\n",
            "\t| > use_eos_bos: False\n",
            "\t| > use_phonemes: True\n",
            "\t| > phonemizer:\n",
            "\t\t| > phoneme language: en-us\n",
            "\t\t| > phoneme backend: gruut\n",
            "\t| > 1 not found characters:\n",
            "\t| > ͡\n",
            "| > Number of instances : 1\n",
            " | > Preprocessing samples\n",
            " | > Max text length: 140\n",
            " | > Min text length: 140\n",
            " | > Avg text length: 140.0\n",
            " | \n",
            " | > Max audio length: 212659.0\n",
            " | > Min audio length: 212659.0\n",
            " | > Avg audio length: 212659.0\n",
            " | > Num. instances discarded samples: 0\n",
            " | > Batch group size: 0.\n",
            " | > Synthesizing test sentences.\n"
          ]
        },
        {
          "output_type": "stream",
          "name": "stderr",
          "text": [
            "\n",
            "  \u001b[1m--> EVAL PERFORMANCE\u001b[0m\n",
            "     | > avg_loader_time:\u001b[91m 0.28164 \u001b[0m(+0.03004)\n",
            "     | > avg_loss:\u001b[92m 2.13265 \u001b[0m(-0.02433)\n",
            "     | > avg_log_mle:\u001b[92m 0.51800 \u001b[0m(-0.00612)\n",
            "     | > avg_loss_dur:\u001b[92m 1.61465 \u001b[0m(-0.01821)\n",
            "\n",
            " > BEST MODEL : tts_train_dir/run-November-17-2022_09+42AM-0000000/best_model_324.pth\n",
            "\n",
            "\u001b[4m\u001b[1m > EPOCH: 81/100\u001b[0m\n",
            " --> tts_train_dir/run-November-17-2022_09+42AM-0000000\n",
            "\n",
            "\u001b[1m > TRAINING (2022-11-17 12:20:13) \u001b[0m\n"
          ]
        },
        {
          "output_type": "stream",
          "name": "stdout",
          "text": [
            "\n",
            "\n",
            "> DataLoader initialization\n",
            "| > Tokenizer:\n",
            "\t| > add_blank: False\n",
            "\t| > use_eos_bos: False\n",
            "\t| > use_phonemes: True\n",
            "\t| > phonemizer:\n",
            "\t\t| > phoneme language: en-us\n",
            "\t\t| > phoneme backend: gruut\n",
            "\t| > 1 not found characters:\n",
            "\t| > ͡\n",
            "| > Number of instances : 100\n",
            " | > Preprocessing samples\n",
            " | > Max text length: 169\n",
            " | > Min text length: 26\n",
            " | > Avg text length: 100.83\n",
            " | \n",
            " | > Max audio length: 219315.0\n",
            " | > Min audio length: 39347.0\n",
            " | > Avg audio length: 145581.88\n",
            " | > Num. instances discarded samples: 0\n",
            " | > Batch group size: 0.\n"
          ]
        },
        {
          "output_type": "stream",
          "name": "stderr",
          "text": [
            "\n",
            "\u001b[1m   --> STEP: 1/4 -- GLOBAL_STEP: 325\u001b[0m\n",
            "     | > loss: 2.13113  (2.13113)\n",
            "     | > log_mle: 0.48961  (0.48961)\n",
            "     | > loss_dur: 1.64152  (1.64152)\n",
            "     | > grad_norm: 4.00857  (4.00857)\n",
            "     | > current_lr: 0.00002 \n",
            "     | > step_time: 35.63120  (35.63119)\n",
            "     | > loader_time: 0.00330  (0.00331)\n",
            "\n",
            "\n",
            "\u001b[1m > EVALUATION \u001b[0m\n",
            "\n"
          ]
        },
        {
          "output_type": "stream",
          "name": "stdout",
          "text": [
            "\n",
            "\n",
            "> DataLoader initialization\n",
            "| > Tokenizer:\n",
            "\t| > add_blank: False\n",
            "\t| > use_eos_bos: False\n",
            "\t| > use_phonemes: True\n",
            "\t| > phonemizer:\n",
            "\t\t| > phoneme language: en-us\n",
            "\t\t| > phoneme backend: gruut\n",
            "\t| > 1 not found characters:\n",
            "\t| > ͡\n",
            "| > Number of instances : 1\n",
            " | > Preprocessing samples\n",
            " | > Max text length: 140\n",
            " | > Min text length: 140\n",
            " | > Avg text length: 140.0\n",
            " | \n",
            " | > Max audio length: 212659.0\n",
            " | > Min audio length: 212659.0\n",
            " | > Avg audio length: 212659.0\n",
            " | > Num. instances discarded samples: 0\n",
            " | > Batch group size: 0.\n",
            " | > Synthesizing test sentences.\n"
          ]
        },
        {
          "output_type": "stream",
          "name": "stderr",
          "text": [
            "\n",
            "  \u001b[1m--> EVAL PERFORMANCE\u001b[0m\n",
            "     | > avg_loader_time:\u001b[92m 0.25811 \u001b[0m(-0.02353)\n",
            "     | > avg_loss:\u001b[92m 2.11517 \u001b[0m(-0.01748)\n",
            "     | > avg_log_mle:\u001b[92m 0.51214 \u001b[0m(-0.00587)\n",
            "     | > avg_loss_dur:\u001b[92m 1.60303 \u001b[0m(-0.01162)\n",
            "\n",
            " > BEST MODEL : tts_train_dir/run-November-17-2022_09+42AM-0000000/best_model_328.pth\n",
            "\n",
            "\u001b[4m\u001b[1m > EPOCH: 82/100\u001b[0m\n",
            " --> tts_train_dir/run-November-17-2022_09+42AM-0000000\n",
            "\n",
            "\u001b[1m > TRAINING (2022-11-17 12:22:14) \u001b[0m\n"
          ]
        },
        {
          "output_type": "stream",
          "name": "stdout",
          "text": [
            "\n",
            "\n",
            "> DataLoader initialization\n",
            "| > Tokenizer:\n",
            "\t| > add_blank: False\n",
            "\t| > use_eos_bos: False\n",
            "\t| > use_phonemes: True\n",
            "\t| > phonemizer:\n",
            "\t\t| > phoneme language: en-us\n",
            "\t\t| > phoneme backend: gruut\n",
            "\t| > 1 not found characters:\n",
            "\t| > ͡\n",
            "| > Number of instances : 100\n",
            " | > Preprocessing samples\n",
            " | > Max text length: 169\n",
            " | > Min text length: 26\n",
            " | > Avg text length: 100.83\n",
            " | \n",
            " | > Max audio length: 219315.0\n",
            " | > Min audio length: 39347.0\n",
            " | > Avg audio length: 145581.88\n",
            " | > Num. instances discarded samples: 0\n",
            " | > Batch group size: 0.\n"
          ]
        },
        {
          "output_type": "stream",
          "name": "stderr",
          "text": [
            "\n",
            "\u001b[1m > EVALUATION \u001b[0m\n",
            "\n"
          ]
        },
        {
          "output_type": "stream",
          "name": "stdout",
          "text": [
            "\n",
            "\n",
            "> DataLoader initialization\n",
            "| > Tokenizer:\n",
            "\t| > add_blank: False\n",
            "\t| > use_eos_bos: False\n",
            "\t| > use_phonemes: True\n",
            "\t| > phonemizer:\n",
            "\t\t| > phoneme language: en-us\n",
            "\t\t| > phoneme backend: gruut\n",
            "\t| > 1 not found characters:\n",
            "\t| > ͡\n",
            "| > Number of instances : 1\n",
            " | > Preprocessing samples\n",
            " | > Max text length: 140\n",
            " | > Min text length: 140\n",
            " | > Avg text length: 140.0\n",
            " | \n",
            " | > Max audio length: 212659.0\n",
            " | > Min audio length: 212659.0\n",
            " | > Avg audio length: 212659.0\n",
            " | > Num. instances discarded samples: 0\n",
            " | > Batch group size: 0.\n",
            " | > Synthesizing test sentences.\n"
          ]
        },
        {
          "output_type": "stream",
          "name": "stderr",
          "text": [
            "\n",
            "  \u001b[1m--> EVAL PERFORMANCE\u001b[0m\n",
            "     | > avg_loader_time:\u001b[92m 0.24476 \u001b[0m(-0.01335)\n",
            "     | > avg_loss:\u001b[92m 2.09096 \u001b[0m(-0.02421)\n",
            "     | > avg_log_mle:\u001b[92m 0.50664 \u001b[0m(-0.00550)\n",
            "     | > avg_loss_dur:\u001b[92m 1.58432 \u001b[0m(-0.01872)\n",
            "\n",
            " > BEST MODEL : tts_train_dir/run-November-17-2022_09+42AM-0000000/best_model_332.pth\n",
            "\n",
            "\u001b[4m\u001b[1m > EPOCH: 83/100\u001b[0m\n",
            " --> tts_train_dir/run-November-17-2022_09+42AM-0000000\n",
            "\n",
            "\u001b[1m > TRAINING (2022-11-17 12:24:18) \u001b[0m\n"
          ]
        },
        {
          "output_type": "stream",
          "name": "stdout",
          "text": [
            "\n",
            "\n",
            "> DataLoader initialization\n",
            "| > Tokenizer:\n",
            "\t| > add_blank: False\n",
            "\t| > use_eos_bos: False\n",
            "\t| > use_phonemes: True\n",
            "\t| > phonemizer:\n",
            "\t\t| > phoneme language: en-us\n",
            "\t\t| > phoneme backend: gruut\n",
            "\t| > 1 not found characters:\n",
            "\t| > ͡\n",
            "| > Number of instances : 100\n",
            " | > Preprocessing samples\n",
            " | > Max text length: 169\n",
            " | > Min text length: 26\n",
            " | > Avg text length: 100.83\n",
            " | \n",
            " | > Max audio length: 219315.0\n",
            " | > Min audio length: 39347.0\n",
            " | > Avg audio length: 145581.88\n",
            " | > Num. instances discarded samples: 0\n",
            " | > Batch group size: 0.\n"
          ]
        },
        {
          "output_type": "stream",
          "name": "stderr",
          "text": [
            "\n",
            "\u001b[1m > EVALUATION \u001b[0m\n",
            "\n"
          ]
        },
        {
          "output_type": "stream",
          "name": "stdout",
          "text": [
            "\n",
            "\n",
            "> DataLoader initialization\n",
            "| > Tokenizer:\n",
            "\t| > add_blank: False\n",
            "\t| > use_eos_bos: False\n",
            "\t| > use_phonemes: True\n",
            "\t| > phonemizer:\n",
            "\t\t| > phoneme language: en-us\n",
            "\t\t| > phoneme backend: gruut\n",
            "\t| > 1 not found characters:\n",
            "\t| > ͡\n",
            "| > Number of instances : 1\n",
            " | > Preprocessing samples\n",
            " | > Max text length: 140\n",
            " | > Min text length: 140\n",
            " | > Avg text length: 140.0\n",
            " | \n",
            " | > Max audio length: 212659.0\n",
            " | > Min audio length: 212659.0\n",
            " | > Avg audio length: 212659.0\n",
            " | > Num. instances discarded samples: 0\n",
            " | > Batch group size: 0.\n",
            " | > Synthesizing test sentences.\n"
          ]
        },
        {
          "output_type": "stream",
          "name": "stderr",
          "text": [
            "\n",
            "  \u001b[1m--> EVAL PERFORMANCE\u001b[0m\n",
            "     | > avg_loader_time:\u001b[91m 0.41739 \u001b[0m(+0.17263)\n",
            "     | > avg_loss:\u001b[92m 2.06809 \u001b[0m(-0.02287)\n",
            "     | > avg_log_mle:\u001b[92m 0.50111 \u001b[0m(-0.00553)\n",
            "     | > avg_loss_dur:\u001b[92m 1.56698 \u001b[0m(-0.01734)\n",
            "\n",
            " > BEST MODEL : tts_train_dir/run-November-17-2022_09+42AM-0000000/best_model_336.pth\n",
            "\n",
            "\u001b[4m\u001b[1m > EPOCH: 84/100\u001b[0m\n",
            " --> tts_train_dir/run-November-17-2022_09+42AM-0000000\n",
            "/usr/local/lib/python3.7/dist-packages/torch/utils/data/dataloader.py:566: UserWarning: This DataLoader will create 4 worker processes in total. Our suggested max number of worker in current system is 2, which is smaller than what this DataLoader is going to create. Please be aware that excessive worker creation might get DataLoader running slow or even freeze, lower the worker number to avoid potential slowness/freeze if necessary.\n",
            "  cpuset_checked))\n",
            "\n",
            "\u001b[1m > TRAINING (2022-11-17 12:26:25) \u001b[0m\n"
          ]
        },
        {
          "output_type": "stream",
          "name": "stdout",
          "text": [
            "\n",
            "\n",
            "> DataLoader initialization\n",
            "| > Tokenizer:\n",
            "\t| > add_blank: False\n",
            "\t| > use_eos_bos: False\n",
            "\t| > use_phonemes: True\n",
            "\t| > phonemizer:\n",
            "\t\t| > phoneme language: en-us\n",
            "\t\t| > phoneme backend: gruut\n",
            "\t| > 1 not found characters:\n",
            "\t| > ͡\n",
            "| > Number of instances : 100\n",
            " | > Preprocessing samples\n",
            " | > Max text length: 169\n",
            " | > Min text length: 26\n",
            " | > Avg text length: 100.83\n",
            " | \n",
            " | > Max audio length: 219315.0\n",
            " | > Min audio length: 39347.0\n",
            " | > Avg audio length: 145581.88\n",
            " | > Num. instances discarded samples: 0\n",
            " | > Batch group size: 0.\n"
          ]
        },
        {
          "output_type": "stream",
          "name": "stderr",
          "text": [
            "/usr/local/lib/python3.7/dist-packages/torch/amp/autocast_mode.py:198: UserWarning: User provided device_type of 'cuda', but CUDA is not available. Disabling\n",
            "  warnings.warn('User provided device_type of \\'cuda\\', but CUDA is not available. Disabling')\n",
            "\n",
            "\u001b[1m > EVALUATION \u001b[0m\n",
            "\n"
          ]
        },
        {
          "output_type": "stream",
          "name": "stdout",
          "text": [
            "\n",
            "\n",
            "> DataLoader initialization\n",
            "| > Tokenizer:\n",
            "\t| > add_blank: False\n",
            "\t| > use_eos_bos: False\n",
            "\t| > use_phonemes: True\n",
            "\t| > phonemizer:\n",
            "\t\t| > phoneme language: en-us\n",
            "\t\t| > phoneme backend: gruut\n",
            "\t| > 1 not found characters:\n",
            "\t| > ͡\n",
            "| > Number of instances : 1\n",
            " | > Preprocessing samples\n",
            " | > Max text length: 140\n",
            " | > Min text length: 140\n",
            " | > Avg text length: 140.0\n",
            " | \n",
            " | > Max audio length: 212659.0\n",
            " | > Min audio length: 212659.0\n",
            " | > Avg audio length: 212659.0\n",
            " | > Num. instances discarded samples: 0\n",
            " | > Batch group size: 0.\n",
            " | > Synthesizing test sentences.\n"
          ]
        },
        {
          "output_type": "stream",
          "name": "stderr",
          "text": [
            "\n",
            "  \u001b[1m--> EVAL PERFORMANCE\u001b[0m\n",
            "     | > avg_loader_time:\u001b[92m 0.26223 \u001b[0m(-0.15516)\n",
            "     | > avg_loss:\u001b[92m 2.04212 \u001b[0m(-0.02596)\n",
            "     | > avg_log_mle:\u001b[92m 0.49566 \u001b[0m(-0.00544)\n",
            "     | > avg_loss_dur:\u001b[92m 1.54646 \u001b[0m(-0.02052)\n",
            "\n",
            " > BEST MODEL : tts_train_dir/run-November-17-2022_09+42AM-0000000/best_model_340.pth\n",
            "\n",
            "\u001b[4m\u001b[1m > EPOCH: 85/100\u001b[0m\n",
            " --> tts_train_dir/run-November-17-2022_09+42AM-0000000\n",
            "\n",
            "\u001b[1m > TRAINING (2022-11-17 12:28:26) \u001b[0m\n"
          ]
        },
        {
          "output_type": "stream",
          "name": "stdout",
          "text": [
            "\n",
            "\n",
            "> DataLoader initialization\n",
            "| > Tokenizer:\n",
            "\t| > add_blank: False\n",
            "\t| > use_eos_bos: False\n",
            "\t| > use_phonemes: True\n",
            "\t| > phonemizer:\n",
            "\t\t| > phoneme language: en-us\n",
            "\t\t| > phoneme backend: gruut\n",
            "\t| > 1 not found characters:\n",
            "\t| > ͡\n",
            "| > Number of instances : 100\n",
            " | > Preprocessing samples\n",
            " | > Max text length: 169\n",
            " | > Min text length: 26\n",
            " | > Avg text length: 100.83\n",
            " | \n",
            " | > Max audio length: 219315.0\n",
            " | > Min audio length: 39347.0\n",
            " | > Avg audio length: 145581.88\n",
            " | > Num. instances discarded samples: 0\n",
            " | > Batch group size: 0.\n"
          ]
        },
        {
          "output_type": "stream",
          "name": "stderr",
          "text": [
            "\n",
            "\u001b[1m > EVALUATION \u001b[0m\n",
            "\n"
          ]
        },
        {
          "output_type": "stream",
          "name": "stdout",
          "text": [
            "\n",
            "\n",
            "> DataLoader initialization\n",
            "| > Tokenizer:\n",
            "\t| > add_blank: False\n",
            "\t| > use_eos_bos: False\n",
            "\t| > use_phonemes: True\n",
            "\t| > phonemizer:\n",
            "\t\t| > phoneme language: en-us\n",
            "\t\t| > phoneme backend: gruut\n",
            "\t| > 1 not found characters:\n",
            "\t| > ͡\n",
            "| > Number of instances : 1\n",
            " | > Preprocessing samples\n",
            " | > Max text length: 140\n",
            " | > Min text length: 140\n",
            " | > Avg text length: 140.0\n",
            " | \n",
            " | > Max audio length: 212659.0\n",
            " | > Min audio length: 212659.0\n",
            " | > Avg audio length: 212659.0\n",
            " | > Num. instances discarded samples: 0\n",
            " | > Batch group size: 0.\n",
            " | > Synthesizing test sentences.\n"
          ]
        },
        {
          "output_type": "stream",
          "name": "stderr",
          "text": [
            "\n",
            "  \u001b[1m--> EVAL PERFORMANCE\u001b[0m\n",
            "     | > avg_loader_time:\u001b[91m 0.27512 \u001b[0m(+0.01289)\n",
            "     | > avg_loss:\u001b[92m 2.03591 \u001b[0m(-0.00621)\n",
            "     | > avg_log_mle:\u001b[92m 0.49018 \u001b[0m(-0.00548)\n",
            "     | > avg_loss_dur:\u001b[92m 1.54573 \u001b[0m(-0.00073)\n",
            "\n",
            " > BEST MODEL : tts_train_dir/run-November-17-2022_09+42AM-0000000/best_model_344.pth\n",
            "\n",
            "\u001b[4m\u001b[1m > EPOCH: 86/100\u001b[0m\n",
            " --> tts_train_dir/run-November-17-2022_09+42AM-0000000\n",
            "\n",
            "\u001b[1m > TRAINING (2022-11-17 12:30:31) \u001b[0m\n"
          ]
        },
        {
          "output_type": "stream",
          "name": "stdout",
          "text": [
            "\n",
            "\n",
            "> DataLoader initialization\n",
            "| > Tokenizer:\n",
            "\t| > add_blank: False\n",
            "\t| > use_eos_bos: False\n",
            "\t| > use_phonemes: True\n",
            "\t| > phonemizer:\n",
            "\t\t| > phoneme language: en-us\n",
            "\t\t| > phoneme backend: gruut\n",
            "\t| > 1 not found characters:\n",
            "\t| > ͡\n",
            "| > Number of instances : 100\n",
            " | > Preprocessing samples\n",
            " | > Max text length: 169\n",
            " | > Min text length: 26\n",
            " | > Avg text length: 100.83\n",
            " | \n",
            " | > Max audio length: 219315.0\n",
            " | > Min audio length: 39347.0\n",
            " | > Avg audio length: 145581.88\n",
            " | > Num. instances discarded samples: 0\n",
            " | > Batch group size: 0.\n"
          ]
        },
        {
          "output_type": "stream",
          "name": "stderr",
          "text": [
            "\n",
            "\u001b[1m > EVALUATION \u001b[0m\n",
            "\n"
          ]
        },
        {
          "output_type": "stream",
          "name": "stdout",
          "text": [
            "\n",
            "\n",
            "> DataLoader initialization\n",
            "| > Tokenizer:\n",
            "\t| > add_blank: False\n",
            "\t| > use_eos_bos: False\n",
            "\t| > use_phonemes: True\n",
            "\t| > phonemizer:\n",
            "\t\t| > phoneme language: en-us\n",
            "\t\t| > phoneme backend: gruut\n",
            "\t| > 1 not found characters:\n",
            "\t| > ͡\n",
            "| > Number of instances : 1\n",
            " | > Preprocessing samples\n",
            " | > Max text length: 140\n",
            " | > Min text length: 140\n",
            " | > Avg text length: 140.0\n",
            " | \n",
            " | > Max audio length: 212659.0\n",
            " | > Min audio length: 212659.0\n",
            " | > Avg audio length: 212659.0\n",
            " | > Num. instances discarded samples: 0\n",
            " | > Batch group size: 0.\n",
            " | > Synthesizing test sentences.\n"
          ]
        },
        {
          "output_type": "stream",
          "name": "stderr",
          "text": [
            "\n",
            "  \u001b[1m--> EVAL PERFORMANCE\u001b[0m\n",
            "     | > avg_loader_time:\u001b[91m 0.28321 \u001b[0m(+0.00809)\n",
            "     | > avg_loss:\u001b[92m 2.00537 \u001b[0m(-0.03054)\n",
            "     | > avg_log_mle:\u001b[92m 0.48503 \u001b[0m(-0.00515)\n",
            "     | > avg_loss_dur:\u001b[92m 1.52034 \u001b[0m(-0.02539)\n",
            "\n",
            " > BEST MODEL : tts_train_dir/run-November-17-2022_09+42AM-0000000/best_model_348.pth\n",
            "\n",
            "\u001b[4m\u001b[1m > EPOCH: 87/100\u001b[0m\n",
            " --> tts_train_dir/run-November-17-2022_09+42AM-0000000\n",
            "\n",
            "\u001b[1m > TRAINING (2022-11-17 12:32:30) \u001b[0m\n"
          ]
        },
        {
          "output_type": "stream",
          "name": "stdout",
          "text": [
            "\n",
            "\n",
            "> DataLoader initialization\n",
            "| > Tokenizer:\n",
            "\t| > add_blank: False\n",
            "\t| > use_eos_bos: False\n",
            "\t| > use_phonemes: True\n",
            "\t| > phonemizer:\n",
            "\t\t| > phoneme language: en-us\n",
            "\t\t| > phoneme backend: gruut\n",
            "\t| > 1 not found characters:\n",
            "\t| > ͡\n",
            "| > Number of instances : 100\n",
            " | > Preprocessing samples\n",
            " | > Max text length: 169\n",
            " | > Min text length: 26\n",
            " | > Avg text length: 100.83\n",
            " | \n",
            " | > Max audio length: 219315.0\n",
            " | > Min audio length: 39347.0\n",
            " | > Avg audio length: 145581.88\n",
            " | > Num. instances discarded samples: 0\n",
            " | > Batch group size: 0.\n"
          ]
        },
        {
          "output_type": "stream",
          "name": "stderr",
          "text": [
            "\n",
            "\u001b[1m   --> STEP: 2/4 -- GLOBAL_STEP: 350\u001b[0m\n",
            "     | > loss: 2.00991  (2.01419)\n",
            "     | > log_mle: 0.45453  (0.45011)\n",
            "     | > loss_dur: 1.55538  (1.56408)\n",
            "     | > grad_norm: 3.83546  (3.82477)\n",
            "     | > current_lr: 0.00002 \n",
            "     | > step_time: 35.32850  (34.66482)\n",
            "     | > loader_time: 0.00190  (0.00251)\n",
            "\n",
            "\n",
            "\u001b[1m > EVALUATION \u001b[0m\n",
            "\n"
          ]
        },
        {
          "output_type": "stream",
          "name": "stdout",
          "text": [
            "\n",
            "\n",
            "> DataLoader initialization\n",
            "| > Tokenizer:\n",
            "\t| > add_blank: False\n",
            "\t| > use_eos_bos: False\n",
            "\t| > use_phonemes: True\n",
            "\t| > phonemizer:\n",
            "\t\t| > phoneme language: en-us\n",
            "\t\t| > phoneme backend: gruut\n",
            "\t| > 1 not found characters:\n",
            "\t| > ͡\n",
            "| > Number of instances : 1\n",
            " | > Preprocessing samples\n",
            " | > Max text length: 140\n",
            " | > Min text length: 140\n",
            " | > Avg text length: 140.0\n",
            " | \n",
            " | > Max audio length: 212659.0\n",
            " | > Min audio length: 212659.0\n",
            " | > Avg audio length: 212659.0\n",
            " | > Num. instances discarded samples: 0\n",
            " | > Batch group size: 0.\n",
            " | > Synthesizing test sentences.\n"
          ]
        },
        {
          "output_type": "stream",
          "name": "stderr",
          "text": [
            "\n",
            "  \u001b[1m--> EVAL PERFORMANCE\u001b[0m\n",
            "     | > avg_loader_time:\u001b[92m 0.28121 \u001b[0m(-0.00200)\n",
            "     | > avg_loss:\u001b[92m 2.00221 \u001b[0m(-0.00316)\n",
            "     | > avg_log_mle:\u001b[92m 0.47997 \u001b[0m(-0.00506)\n",
            "     | > avg_loss_dur:\u001b[91m 1.52224 \u001b[0m(+0.00190)\n",
            "\n",
            " > BEST MODEL : tts_train_dir/run-November-17-2022_09+42AM-0000000/best_model_352.pth\n",
            "\n",
            "\u001b[4m\u001b[1m > EPOCH: 88/100\u001b[0m\n",
            " --> tts_train_dir/run-November-17-2022_09+42AM-0000000\n",
            "\n",
            "\u001b[1m > TRAINING (2022-11-17 12:34:32) \u001b[0m\n"
          ]
        },
        {
          "output_type": "stream",
          "name": "stdout",
          "text": [
            "\n",
            "\n",
            "> DataLoader initialization\n",
            "| > Tokenizer:\n",
            "\t| > add_blank: False\n",
            "\t| > use_eos_bos: False\n",
            "\t| > use_phonemes: True\n",
            "\t| > phonemizer:\n",
            "\t\t| > phoneme language: en-us\n",
            "\t\t| > phoneme backend: gruut\n",
            "\t| > 1 not found characters:\n",
            "\t| > ͡\n",
            "| > Number of instances : 100\n",
            " | > Preprocessing samples\n",
            " | > Max text length: 169\n",
            " | > Min text length: 26\n",
            " | > Avg text length: 100.83\n",
            " | \n",
            " | > Max audio length: 219315.0\n",
            " | > Min audio length: 39347.0\n",
            " | > Avg audio length: 145581.88\n",
            " | > Num. instances discarded samples: 0\n",
            " | > Batch group size: 0.\n"
          ]
        },
        {
          "output_type": "stream",
          "name": "stderr",
          "text": [
            "\n",
            "\u001b[1m > EVALUATION \u001b[0m\n",
            "\n"
          ]
        },
        {
          "output_type": "stream",
          "name": "stdout",
          "text": [
            "\n",
            "\n",
            "> DataLoader initialization\n",
            "| > Tokenizer:\n",
            "\t| > add_blank: False\n",
            "\t| > use_eos_bos: False\n",
            "\t| > use_phonemes: True\n",
            "\t| > phonemizer:\n",
            "\t\t| > phoneme language: en-us\n",
            "\t\t| > phoneme backend: gruut\n",
            "\t| > 1 not found characters:\n",
            "\t| > ͡\n",
            "| > Number of instances : 1\n",
            " | > Preprocessing samples\n",
            " | > Max text length: 140\n",
            " | > Min text length: 140\n",
            " | > Avg text length: 140.0\n",
            " | \n",
            " | > Max audio length: 212659.0\n",
            " | > Min audio length: 212659.0\n",
            " | > Avg audio length: 212659.0\n",
            " | > Num. instances discarded samples: 0\n",
            " | > Batch group size: 0.\n",
            " | > Synthesizing test sentences.\n"
          ]
        },
        {
          "output_type": "stream",
          "name": "stderr",
          "text": [
            "\n",
            "  \u001b[1m--> EVAL PERFORMANCE\u001b[0m\n",
            "     | > avg_loader_time:\u001b[91m 0.35961 \u001b[0m(+0.07840)\n",
            "     | > avg_loss:\u001b[92m 1.98546 \u001b[0m(-0.01675)\n",
            "     | > avg_log_mle:\u001b[92m 0.47450 \u001b[0m(-0.00547)\n",
            "     | > avg_loss_dur:\u001b[92m 1.51096 \u001b[0m(-0.01128)\n",
            "\n",
            " > BEST MODEL : tts_train_dir/run-November-17-2022_09+42AM-0000000/best_model_356.pth\n",
            "\n",
            "\u001b[4m\u001b[1m > EPOCH: 89/100\u001b[0m\n",
            " --> tts_train_dir/run-November-17-2022_09+42AM-0000000\n",
            "\n",
            "\u001b[1m > TRAINING (2022-11-17 12:36:36) \u001b[0m\n"
          ]
        },
        {
          "output_type": "stream",
          "name": "stdout",
          "text": [
            "\n",
            "\n",
            "> DataLoader initialization\n",
            "| > Tokenizer:\n",
            "\t| > add_blank: False\n",
            "\t| > use_eos_bos: False\n",
            "\t| > use_phonemes: True\n",
            "\t| > phonemizer:\n",
            "\t\t| > phoneme language: en-us\n",
            "\t\t| > phoneme backend: gruut\n",
            "\t| > 1 not found characters:\n",
            "\t| > ͡\n",
            "| > Number of instances : 100\n",
            " | > Preprocessing samples\n",
            " | > Max text length: 169\n",
            " | > Min text length: 26\n",
            " | > Avg text length: 100.83\n",
            " | \n",
            " | > Max audio length: 219315.0\n",
            " | > Min audio length: 39347.0\n",
            " | > Avg audio length: 145581.88\n",
            " | > Num. instances discarded samples: 0\n",
            " | > Batch group size: 0.\n"
          ]
        },
        {
          "output_type": "stream",
          "name": "stderr",
          "text": [
            "\n",
            "\u001b[1m > EVALUATION \u001b[0m\n",
            "\n"
          ]
        },
        {
          "output_type": "stream",
          "name": "stdout",
          "text": [
            "\n",
            "\n",
            "> DataLoader initialization\n",
            "| > Tokenizer:\n",
            "\t| > add_blank: False\n",
            "\t| > use_eos_bos: False\n",
            "\t| > use_phonemes: True\n",
            "\t| > phonemizer:\n",
            "\t\t| > phoneme language: en-us\n",
            "\t\t| > phoneme backend: gruut\n",
            "\t| > 1 not found characters:\n",
            "\t| > ͡\n",
            "| > Number of instances : 1\n",
            " | > Preprocessing samples\n",
            " | > Max text length: 140\n",
            " | > Min text length: 140\n",
            " | > Avg text length: 140.0\n",
            " | \n",
            " | > Max audio length: 212659.0\n",
            " | > Min audio length: 212659.0\n",
            " | > Avg audio length: 212659.0\n",
            " | > Num. instances discarded samples: 0\n",
            " | > Batch group size: 0.\n",
            " | > Synthesizing test sentences.\n"
          ]
        },
        {
          "output_type": "stream",
          "name": "stderr",
          "text": [
            "\n",
            "  \u001b[1m--> EVAL PERFORMANCE\u001b[0m\n",
            "     | > avg_loader_time:\u001b[92m 0.27995 \u001b[0m(-0.07967)\n",
            "     | > avg_loss:\u001b[92m 1.96559 \u001b[0m(-0.01987)\n",
            "     | > avg_log_mle:\u001b[92m 0.46958 \u001b[0m(-0.00492)\n",
            "     | > avg_loss_dur:\u001b[92m 1.49601 \u001b[0m(-0.01495)\n",
            "\n",
            " > BEST MODEL : tts_train_dir/run-November-17-2022_09+42AM-0000000/best_model_360.pth\n",
            "\n",
            "\u001b[4m\u001b[1m > EPOCH: 90/100\u001b[0m\n",
            " --> tts_train_dir/run-November-17-2022_09+42AM-0000000\n",
            "\n",
            "\u001b[1m > TRAINING (2022-11-17 12:38:40) \u001b[0m\n"
          ]
        },
        {
          "output_type": "stream",
          "name": "stdout",
          "text": [
            "\n",
            "\n",
            "> DataLoader initialization\n",
            "| > Tokenizer:\n",
            "\t| > add_blank: False\n",
            "\t| > use_eos_bos: False\n",
            "\t| > use_phonemes: True\n",
            "\t| > phonemizer:\n",
            "\t\t| > phoneme language: en-us\n",
            "\t\t| > phoneme backend: gruut\n",
            "\t| > 1 not found characters:\n",
            "\t| > ͡\n",
            "| > Number of instances : 100\n",
            " | > Preprocessing samples\n",
            " | > Max text length: 169\n",
            " | > Min text length: 26\n",
            " | > Avg text length: 100.83\n",
            " | \n",
            " | > Max audio length: 219315.0\n",
            " | > Min audio length: 39347.0\n",
            " | > Avg audio length: 145581.88\n",
            " | > Num. instances discarded samples: 0\n",
            " | > Batch group size: 0.\n"
          ]
        },
        {
          "output_type": "stream",
          "name": "stderr",
          "text": [
            "\n",
            "\u001b[1m > EVALUATION \u001b[0m\n",
            "\n"
          ]
        },
        {
          "output_type": "stream",
          "name": "stdout",
          "text": [
            "\n",
            "\n",
            "> DataLoader initialization\n",
            "| > Tokenizer:\n",
            "\t| > add_blank: False\n",
            "\t| > use_eos_bos: False\n",
            "\t| > use_phonemes: True\n",
            "\t| > phonemizer:\n",
            "\t\t| > phoneme language: en-us\n",
            "\t\t| > phoneme backend: gruut\n",
            "\t| > 1 not found characters:\n",
            "\t| > ͡\n",
            "| > Number of instances : 1\n",
            " | > Preprocessing samples\n",
            " | > Max text length: 140\n",
            " | > Min text length: 140\n",
            " | > Avg text length: 140.0\n",
            " | \n",
            " | > Max audio length: 212659.0\n",
            " | > Min audio length: 212659.0\n",
            " | > Avg audio length: 212659.0\n",
            " | > Num. instances discarded samples: 0\n",
            " | > Batch group size: 0.\n",
            " | > Synthesizing test sentences.\n"
          ]
        },
        {
          "output_type": "stream",
          "name": "stderr",
          "text": [
            "\n",
            "  \u001b[1m--> EVAL PERFORMANCE\u001b[0m\n",
            "     | > avg_loader_time:\u001b[91m 0.29197 \u001b[0m(+0.01202)\n",
            "     | > avg_loss:\u001b[92m 1.94942 \u001b[0m(-0.01618)\n",
            "     | > avg_log_mle:\u001b[92m 0.46503 \u001b[0m(-0.00455)\n",
            "     | > avg_loss_dur:\u001b[92m 1.48439 \u001b[0m(-0.01163)\n",
            "\n",
            " > BEST MODEL : tts_train_dir/run-November-17-2022_09+42AM-0000000/best_model_364.pth\n",
            "\n",
            "\u001b[4m\u001b[1m > EPOCH: 91/100\u001b[0m\n",
            " --> tts_train_dir/run-November-17-2022_09+42AM-0000000\n",
            "\n",
            "\u001b[1m > TRAINING (2022-11-17 12:40:42) \u001b[0m\n"
          ]
        },
        {
          "output_type": "stream",
          "name": "stdout",
          "text": [
            "\n",
            "\n",
            "> DataLoader initialization\n",
            "| > Tokenizer:\n",
            "\t| > add_blank: False\n",
            "\t| > use_eos_bos: False\n",
            "\t| > use_phonemes: True\n",
            "\t| > phonemizer:\n",
            "\t\t| > phoneme language: en-us\n",
            "\t\t| > phoneme backend: gruut\n",
            "\t| > 1 not found characters:\n",
            "\t| > ͡\n",
            "| > Number of instances : 100\n",
            " | > Preprocessing samples\n",
            " | > Max text length: 169\n",
            " | > Min text length: 26\n",
            " | > Avg text length: 100.83\n",
            " | \n",
            " | > Max audio length: 219315.0\n",
            " | > Min audio length: 39347.0\n",
            " | > Avg audio length: 145581.88\n",
            " | > Num. instances discarded samples: 0\n",
            " | > Batch group size: 0.\n"
          ]
        },
        {
          "output_type": "stream",
          "name": "stderr",
          "text": [
            "\n",
            "\u001b[1m > EVALUATION \u001b[0m\n",
            "\n"
          ]
        },
        {
          "output_type": "stream",
          "name": "stdout",
          "text": [
            "\n",
            "\n",
            "> DataLoader initialization\n",
            "| > Tokenizer:\n",
            "\t| > add_blank: False\n",
            "\t| > use_eos_bos: False\n",
            "\t| > use_phonemes: True\n",
            "\t| > phonemizer:\n",
            "\t\t| > phoneme language: en-us\n",
            "\t\t| > phoneme backend: gruut\n",
            "\t| > 1 not found characters:\n",
            "\t| > ͡\n",
            "| > Number of instances : 1\n",
            " | > Preprocessing samples\n",
            " | > Max text length: 140\n",
            " | > Min text length: 140\n",
            " | > Avg text length: 140.0\n",
            " | \n",
            " | > Max audio length: 212659.0\n",
            " | > Min audio length: 212659.0\n",
            " | > Avg audio length: 212659.0\n",
            " | > Num. instances discarded samples: 0\n",
            " | > Batch group size: 0.\n",
            " | > Synthesizing test sentences.\n"
          ]
        },
        {
          "output_type": "stream",
          "name": "stderr",
          "text": [
            "\n",
            "  \u001b[1m--> EVAL PERFORMANCE\u001b[0m\n",
            "     | > avg_loader_time:\u001b[92m 0.26731 \u001b[0m(-0.02466)\n",
            "     | > avg_loss:\u001b[91m 1.95321 \u001b[0m(+0.00379)\n",
            "     | > avg_log_mle:\u001b[92m 0.46037 \u001b[0m(-0.00466)\n",
            "     | > avg_loss_dur:\u001b[91m 1.49284 \u001b[0m(+0.00845)\n",
            "\n",
            "\n",
            "\u001b[4m\u001b[1m > EPOCH: 92/100\u001b[0m\n",
            " --> tts_train_dir/run-November-17-2022_09+42AM-0000000\n",
            "\n",
            "\u001b[1m > TRAINING (2022-11-17 12:42:40) \u001b[0m\n"
          ]
        },
        {
          "output_type": "stream",
          "name": "stdout",
          "text": [
            "\n",
            "\n",
            "> DataLoader initialization\n",
            "| > Tokenizer:\n",
            "\t| > add_blank: False\n",
            "\t| > use_eos_bos: False\n",
            "\t| > use_phonemes: True\n",
            "\t| > phonemizer:\n",
            "\t\t| > phoneme language: en-us\n",
            "\t\t| > phoneme backend: gruut\n",
            "\t| > 1 not found characters:\n",
            "\t| > ͡\n",
            "| > Number of instances : 100\n",
            " | > Preprocessing samples\n",
            " | > Max text length: 169\n",
            " | > Min text length: 26\n",
            " | > Avg text length: 100.83\n",
            " | \n",
            " | > Max audio length: 219315.0\n",
            " | > Min audio length: 39347.0\n",
            " | > Avg audio length: 145581.88\n",
            " | > Num. instances discarded samples: 0\n",
            " | > Batch group size: 0.\n"
          ]
        },
        {
          "output_type": "stream",
          "name": "stderr",
          "text": [
            "\n",
            "\u001b[1m > EVALUATION \u001b[0m\n",
            "\n"
          ]
        },
        {
          "output_type": "stream",
          "name": "stdout",
          "text": [
            "\n",
            "\n",
            "> DataLoader initialization\n",
            "| > Tokenizer:\n",
            "\t| > add_blank: False\n",
            "\t| > use_eos_bos: False\n",
            "\t| > use_phonemes: True\n",
            "\t| > phonemizer:\n",
            "\t\t| > phoneme language: en-us\n",
            "\t\t| > phoneme backend: gruut\n",
            "\t| > 1 not found characters:\n",
            "\t| > ͡\n",
            "| > Number of instances : 1\n",
            " | > Preprocessing samples\n",
            " | > Max text length: 140\n",
            " | > Min text length: 140\n",
            " | > Avg text length: 140.0\n",
            " | \n",
            " | > Max audio length: 212659.0\n",
            " | > Min audio length: 212659.0\n",
            " | > Avg audio length: 212659.0\n",
            " | > Num. instances discarded samples: 0\n",
            " | > Batch group size: 0.\n",
            " | > Synthesizing test sentences.\n"
          ]
        },
        {
          "output_type": "stream",
          "name": "stderr",
          "text": [
            "\n",
            "  \u001b[1m--> EVAL PERFORMANCE\u001b[0m\n",
            "     | > avg_loader_time:\u001b[91m 0.28052 \u001b[0m(+0.01321)\n",
            "     | > avg_loss:\u001b[91m 1.97996 \u001b[0m(+0.02675)\n",
            "     | > avg_log_mle:\u001b[92m 0.45599 \u001b[0m(-0.00438)\n",
            "     | > avg_loss_dur:\u001b[91m 1.52398 \u001b[0m(+0.03113)\n",
            "\n",
            "\n",
            "\u001b[4m\u001b[1m > EPOCH: 93/100\u001b[0m\n",
            " --> tts_train_dir/run-November-17-2022_09+42AM-0000000\n",
            "\n",
            "\u001b[1m > TRAINING (2022-11-17 12:44:37) \u001b[0m\n"
          ]
        },
        {
          "output_type": "stream",
          "name": "stdout",
          "text": [
            "\n",
            "\n",
            "> DataLoader initialization\n",
            "| > Tokenizer:\n",
            "\t| > add_blank: False\n",
            "\t| > use_eos_bos: False\n",
            "\t| > use_phonemes: True\n",
            "\t| > phonemizer:\n",
            "\t\t| > phoneme language: en-us\n",
            "\t\t| > phoneme backend: gruut\n",
            "\t| > 1 not found characters:\n",
            "\t| > ͡\n",
            "| > Number of instances : 100\n",
            " | > Preprocessing samples\n",
            " | > Max text length: 169\n",
            " | > Min text length: 26\n",
            " | > Avg text length: 100.83\n",
            " | \n",
            " | > Max audio length: 219315.0\n",
            " | > Min audio length: 39347.0\n",
            " | > Avg audio length: 145581.88\n",
            " | > Num. instances discarded samples: 0\n",
            " | > Batch group size: 0.\n"
          ]
        },
        {
          "output_type": "stream",
          "name": "stderr",
          "text": [
            "\n",
            "\u001b[1m   --> STEP: 3/4 -- GLOBAL_STEP: 375\u001b[0m\n",
            "     | > loss: 1.87722  (1.90516)\n",
            "     | > log_mle: 0.40340  (0.41522)\n",
            "     | > loss_dur: 1.47381  (1.48994)\n",
            "     | > grad_norm: 3.56282  (3.68967)\n",
            "     | > current_lr: 0.00002 \n",
            "     | > step_time: 5.10470  (25.47560)\n",
            "     | > loader_time: 0.00170  (0.00212)\n",
            "\n",
            "\n",
            "\u001b[1m > EVALUATION \u001b[0m\n",
            "\n"
          ]
        },
        {
          "output_type": "stream",
          "name": "stdout",
          "text": [
            "\n",
            "\n",
            "> DataLoader initialization\n",
            "| > Tokenizer:\n",
            "\t| > add_blank: False\n",
            "\t| > use_eos_bos: False\n",
            "\t| > use_phonemes: True\n",
            "\t| > phonemizer:\n",
            "\t\t| > phoneme language: en-us\n",
            "\t\t| > phoneme backend: gruut\n",
            "\t| > 1 not found characters:\n",
            "\t| > ͡\n",
            "| > Number of instances : 1\n",
            " | > Preprocessing samples\n",
            " | > Max text length: 140\n",
            " | > Min text length: 140\n",
            " | > Avg text length: 140.0\n",
            " | \n",
            " | > Max audio length: 212659.0\n",
            " | > Min audio length: 212659.0\n",
            " | > Avg audio length: 212659.0\n",
            " | > Num. instances discarded samples: 0\n",
            " | > Batch group size: 0.\n",
            " | > Synthesizing test sentences.\n"
          ]
        },
        {
          "output_type": "stream",
          "name": "stderr",
          "text": [
            "\n",
            "  \u001b[1m--> EVAL PERFORMANCE\u001b[0m\n",
            "     | > avg_loader_time:\u001b[91m 0.36681 \u001b[0m(+0.08629)\n",
            "     | > avg_loss:\u001b[92m 1.97470 \u001b[0m(-0.00526)\n",
            "     | > avg_log_mle:\u001b[92m 0.45137 \u001b[0m(-0.00462)\n",
            "     | > avg_loss_dur:\u001b[92m 1.52333 \u001b[0m(-0.00065)\n",
            "\n",
            "\n",
            "\u001b[4m\u001b[1m > EPOCH: 94/100\u001b[0m\n",
            " --> tts_train_dir/run-November-17-2022_09+42AM-0000000\n",
            "\n",
            "\u001b[1m > TRAINING (2022-11-17 12:46:41) \u001b[0m\n"
          ]
        },
        {
          "output_type": "stream",
          "name": "stdout",
          "text": [
            "\n",
            "\n",
            "> DataLoader initialization\n",
            "| > Tokenizer:\n",
            "\t| > add_blank: False\n",
            "\t| > use_eos_bos: False\n",
            "\t| > use_phonemes: True\n",
            "\t| > phonemizer:\n",
            "\t\t| > phoneme language: en-us\n",
            "\t\t| > phoneme backend: gruut\n",
            "\t| > 1 not found characters:\n",
            "\t| > ͡\n",
            "| > Number of instances : 100\n",
            " | > Preprocessing samples\n",
            " | > Max text length: 169\n",
            " | > Min text length: 26\n",
            " | > Avg text length: 100.83\n",
            " | \n",
            " | > Max audio length: 219315.0\n",
            " | > Min audio length: 39347.0\n",
            " | > Avg audio length: 145581.88\n",
            " | > Num. instances discarded samples: 0\n",
            " | > Batch group size: 0.\n"
          ]
        },
        {
          "output_type": "stream",
          "name": "stderr",
          "text": [
            "\n",
            "\u001b[1m > EVALUATION \u001b[0m\n",
            "\n"
          ]
        },
        {
          "output_type": "stream",
          "name": "stdout",
          "text": [
            "\n",
            "\n",
            "> DataLoader initialization\n",
            "| > Tokenizer:\n",
            "\t| > add_blank: False\n",
            "\t| > use_eos_bos: False\n",
            "\t| > use_phonemes: True\n",
            "\t| > phonemizer:\n",
            "\t\t| > phoneme language: en-us\n",
            "\t\t| > phoneme backend: gruut\n",
            "\t| > 1 not found characters:\n",
            "\t| > ͡\n",
            "| > Number of instances : 1\n",
            " | > Preprocessing samples\n",
            " | > Max text length: 140\n",
            " | > Min text length: 140\n",
            " | > Avg text length: 140.0\n",
            " | \n",
            " | > Max audio length: 212659.0\n",
            " | > Min audio length: 212659.0\n",
            " | > Avg audio length: 212659.0\n",
            " | > Num. instances discarded samples: 0\n",
            " | > Batch group size: 0.\n",
            " | > Synthesizing test sentences.\n"
          ]
        },
        {
          "output_type": "stream",
          "name": "stderr",
          "text": [
            "\n",
            "  \u001b[1m--> EVAL PERFORMANCE\u001b[0m\n",
            "     | > avg_loader_time:\u001b[92m 0.29844 \u001b[0m(-0.06836)\n",
            "     | > avg_loss:\u001b[92m 1.95674 \u001b[0m(-0.01795)\n",
            "     | > avg_log_mle:\u001b[92m 0.44791 \u001b[0m(-0.00346)\n",
            "     | > avg_loss_dur:\u001b[92m 1.50884 \u001b[0m(-0.01449)\n",
            "\n",
            "\n",
            "\u001b[4m\u001b[1m > EPOCH: 95/100\u001b[0m\n",
            " --> tts_train_dir/run-November-17-2022_09+42AM-0000000\n",
            "\n",
            "\u001b[1m > TRAINING (2022-11-17 12:48:45) \u001b[0m\n"
          ]
        },
        {
          "output_type": "stream",
          "name": "stdout",
          "text": [
            "\n",
            "\n",
            "> DataLoader initialization\n",
            "| > Tokenizer:\n",
            "\t| > add_blank: False\n",
            "\t| > use_eos_bos: False\n",
            "\t| > use_phonemes: True\n",
            "\t| > phonemizer:\n",
            "\t\t| > phoneme language: en-us\n",
            "\t\t| > phoneme backend: gruut\n",
            "\t| > 1 not found characters:\n",
            "\t| > ͡\n",
            "| > Number of instances : 100\n",
            " | > Preprocessing samples\n",
            " | > Max text length: 169\n",
            " | > Min text length: 26\n",
            " | > Avg text length: 100.83\n",
            " | \n",
            " | > Max audio length: 219315.0\n",
            " | > Min audio length: 39347.0\n",
            " | > Avg audio length: 145581.88\n",
            " | > Num. instances discarded samples: 0\n",
            " | > Batch group size: 0.\n"
          ]
        },
        {
          "output_type": "stream",
          "name": "stderr",
          "text": [
            "\n",
            "\u001b[1m > EVALUATION \u001b[0m\n",
            "\n"
          ]
        },
        {
          "output_type": "stream",
          "name": "stdout",
          "text": [
            "\n",
            "\n",
            "> DataLoader initialization\n",
            "| > Tokenizer:\n",
            "\t| > add_blank: False\n",
            "\t| > use_eos_bos: False\n",
            "\t| > use_phonemes: True\n",
            "\t| > phonemizer:\n",
            "\t\t| > phoneme language: en-us\n",
            "\t\t| > phoneme backend: gruut\n",
            "\t| > 1 not found characters:\n",
            "\t| > ͡\n",
            "| > Number of instances : 1\n",
            " | > Preprocessing samples\n",
            " | > Max text length: 140\n",
            " | > Min text length: 140\n",
            " | > Avg text length: 140.0\n",
            " | \n",
            " | > Max audio length: 212659.0\n",
            " | > Min audio length: 212659.0\n",
            " | > Avg audio length: 212659.0\n",
            " | > Num. instances discarded samples: 0\n",
            " | > Batch group size: 0.\n",
            " | > Synthesizing test sentences.\n"
          ]
        },
        {
          "output_type": "stream",
          "name": "stderr",
          "text": [
            "\n",
            "  \u001b[1m--> EVAL PERFORMANCE\u001b[0m\n",
            "     | > avg_loader_time:\u001b[92m 0.27707 \u001b[0m(-0.02137)\n",
            "     | > avg_loss:\u001b[92m 1.92673 \u001b[0m(-0.03002)\n",
            "     | > avg_log_mle:\u001b[92m 0.44315 \u001b[0m(-0.00476)\n",
            "     | > avg_loss_dur:\u001b[92m 1.48358 \u001b[0m(-0.02526)\n",
            "\n",
            " > BEST MODEL : tts_train_dir/run-November-17-2022_09+42AM-0000000/best_model_384.pth\n",
            "\n",
            "\u001b[4m\u001b[1m > EPOCH: 96/100\u001b[0m\n",
            " --> tts_train_dir/run-November-17-2022_09+42AM-0000000\n",
            "\n",
            "\u001b[1m > TRAINING (2022-11-17 12:50:46) \u001b[0m\n"
          ]
        },
        {
          "output_type": "stream",
          "name": "stdout",
          "text": [
            "\n",
            "\n",
            "> DataLoader initialization\n",
            "| > Tokenizer:\n",
            "\t| > add_blank: False\n",
            "\t| > use_eos_bos: False\n",
            "\t| > use_phonemes: True\n",
            "\t| > phonemizer:\n",
            "\t\t| > phoneme language: en-us\n",
            "\t\t| > phoneme backend: gruut\n",
            "\t| > 1 not found characters:\n",
            "\t| > ͡\n",
            "| > Number of instances : 100\n",
            " | > Preprocessing samples\n",
            " | > Max text length: 169\n",
            " | > Min text length: 26\n",
            " | > Avg text length: 100.83\n",
            " | \n",
            " | > Max audio length: 219315.0\n",
            " | > Min audio length: 39347.0\n",
            " | > Avg audio length: 145581.88\n",
            " | > Num. instances discarded samples: 0\n",
            " | > Batch group size: 0.\n"
          ]
        },
        {
          "output_type": "stream",
          "name": "stderr",
          "text": [
            "\n",
            "\u001b[1m > EVALUATION \u001b[0m\n",
            "\n"
          ]
        },
        {
          "output_type": "stream",
          "name": "stdout",
          "text": [
            "\n",
            "\n",
            "> DataLoader initialization\n",
            "| > Tokenizer:\n",
            "\t| > add_blank: False\n",
            "\t| > use_eos_bos: False\n",
            "\t| > use_phonemes: True\n",
            "\t| > phonemizer:\n",
            "\t\t| > phoneme language: en-us\n",
            "\t\t| > phoneme backend: gruut\n",
            "\t| > 1 not found characters:\n",
            "\t| > ͡\n",
            "| > Number of instances : 1\n",
            " | > Preprocessing samples\n",
            " | > Max text length: 140\n",
            " | > Min text length: 140\n",
            " | > Avg text length: 140.0\n",
            " | \n",
            " | > Max audio length: 212659.0\n",
            " | > Min audio length: 212659.0\n",
            " | > Avg audio length: 212659.0\n",
            " | > Num. instances discarded samples: 0\n",
            " | > Batch group size: 0.\n",
            " | > Synthesizing test sentences.\n"
          ]
        },
        {
          "output_type": "stream",
          "name": "stderr",
          "text": [
            "\n",
            "  \u001b[1m--> EVAL PERFORMANCE\u001b[0m\n",
            "     | > avg_loader_time:\u001b[92m 0.26327 \u001b[0m(-0.01380)\n",
            "     | > avg_loss:\u001b[92m 1.87911 \u001b[0m(-0.04762)\n",
            "     | > avg_log_mle:\u001b[92m 0.43938 \u001b[0m(-0.00376)\n",
            "     | > avg_loss_dur:\u001b[92m 1.43972 \u001b[0m(-0.04386)\n",
            "\n",
            " > BEST MODEL : tts_train_dir/run-November-17-2022_09+42AM-0000000/best_model_388.pth\n",
            "\n",
            "\u001b[4m\u001b[1m > EPOCH: 97/100\u001b[0m\n",
            " --> tts_train_dir/run-November-17-2022_09+42AM-0000000\n",
            "\n",
            "\u001b[1m > TRAINING (2022-11-17 12:52:46) \u001b[0m\n"
          ]
        },
        {
          "output_type": "stream",
          "name": "stdout",
          "text": [
            "\n",
            "\n",
            "> DataLoader initialization\n",
            "| > Tokenizer:\n",
            "\t| > add_blank: False\n",
            "\t| > use_eos_bos: False\n",
            "\t| > use_phonemes: True\n",
            "\t| > phonemizer:\n",
            "\t\t| > phoneme language: en-us\n",
            "\t\t| > phoneme backend: gruut\n",
            "\t| > 1 not found characters:\n",
            "\t| > ͡\n",
            "| > Number of instances : 100\n",
            " | > Preprocessing samples\n",
            " | > Max text length: 169\n",
            " | > Min text length: 26\n",
            " | > Avg text length: 100.83\n",
            " | \n",
            " | > Max audio length: 219315.0\n",
            " | > Min audio length: 39347.0\n",
            " | > Avg audio length: 145581.88\n",
            " | > Num. instances discarded samples: 0\n",
            " | > Batch group size: 0.\n"
          ]
        },
        {
          "output_type": "stream",
          "name": "stderr",
          "text": [
            "\n",
            "\u001b[1m > EVALUATION \u001b[0m\n",
            "\n"
          ]
        },
        {
          "output_type": "stream",
          "name": "stdout",
          "text": [
            "\n",
            "\n",
            "> DataLoader initialization\n",
            "| > Tokenizer:\n",
            "\t| > add_blank: False\n",
            "\t| > use_eos_bos: False\n",
            "\t| > use_phonemes: True\n",
            "\t| > phonemizer:\n",
            "\t\t| > phoneme language: en-us\n",
            "\t\t| > phoneme backend: gruut\n",
            "\t| > 1 not found characters:\n",
            "\t| > ͡\n",
            "| > Number of instances : 1\n",
            " | > Preprocessing samples\n",
            " | > Max text length: 140\n",
            " | > Min text length: 140\n",
            " | > Avg text length: 140.0\n",
            " | \n",
            " | > Max audio length: 212659.0\n",
            " | > Min audio length: 212659.0\n",
            " | > Avg audio length: 212659.0\n",
            " | > Num. instances discarded samples: 0\n",
            " | > Batch group size: 0.\n",
            " | > Synthesizing test sentences.\n"
          ]
        },
        {
          "output_type": "stream",
          "name": "stderr",
          "text": [
            "\n",
            "  \u001b[1m--> EVAL PERFORMANCE\u001b[0m\n",
            "     | > avg_loader_time:\u001b[91m 0.28051 \u001b[0m(+0.01724)\n",
            "     | > avg_loss:\u001b[92m 1.87736 \u001b[0m(-0.00175)\n",
            "     | > avg_log_mle:\u001b[92m 0.43448 \u001b[0m(-0.00491)\n",
            "     | > avg_loss_dur:\u001b[91m 1.44288 \u001b[0m(+0.00316)\n",
            "\n",
            " > BEST MODEL : tts_train_dir/run-November-17-2022_09+42AM-0000000/best_model_392.pth\n",
            "\n",
            "\u001b[4m\u001b[1m > EPOCH: 98/100\u001b[0m\n",
            " --> tts_train_dir/run-November-17-2022_09+42AM-0000000\n",
            "\n",
            "\u001b[1m > TRAINING (2022-11-17 12:54:48) \u001b[0m\n"
          ]
        },
        {
          "output_type": "stream",
          "name": "stdout",
          "text": [
            "\n",
            "\n",
            "> DataLoader initialization\n",
            "| > Tokenizer:\n",
            "\t| > add_blank: False\n",
            "\t| > use_eos_bos: False\n",
            "\t| > use_phonemes: True\n",
            "\t| > phonemizer:\n",
            "\t\t| > phoneme language: en-us\n",
            "\t\t| > phoneme backend: gruut\n",
            "\t| > 1 not found characters:\n",
            "\t| > ͡\n",
            "| > Number of instances : 100\n",
            " | > Preprocessing samples\n",
            " | > Max text length: 169\n",
            " | > Min text length: 26\n",
            " | > Avg text length: 100.83\n",
            " | \n",
            " | > Max audio length: 219315.0\n",
            " | > Min audio length: 39347.0\n",
            " | > Avg audio length: 145581.88\n",
            " | > Num. instances discarded samples: 0\n",
            " | > Batch group size: 0.\n"
          ]
        },
        {
          "output_type": "stream",
          "name": "stderr",
          "text": [
            "\n",
            "\u001b[1m > EVALUATION \u001b[0m\n",
            "\n"
          ]
        },
        {
          "output_type": "stream",
          "name": "stdout",
          "text": [
            "\n",
            "\n",
            "> DataLoader initialization\n",
            "| > Tokenizer:\n",
            "\t| > add_blank: False\n",
            "\t| > use_eos_bos: False\n",
            "\t| > use_phonemes: True\n",
            "\t| > phonemizer:\n",
            "\t\t| > phoneme language: en-us\n",
            "\t\t| > phoneme backend: gruut\n",
            "\t| > 1 not found characters:\n",
            "\t| > ͡\n",
            "| > Number of instances : 1\n",
            " | > Preprocessing samples\n",
            " | > Max text length: 140\n",
            " | > Min text length: 140\n",
            " | > Avg text length: 140.0\n",
            " | \n",
            " | > Max audio length: 212659.0\n",
            " | > Min audio length: 212659.0\n",
            " | > Avg audio length: 212659.0\n",
            " | > Num. instances discarded samples: 0\n",
            " | > Batch group size: 0.\n",
            " | > Synthesizing test sentences.\n"
          ]
        },
        {
          "output_type": "stream",
          "name": "stderr",
          "text": [
            "\n",
            "  \u001b[1m--> EVAL PERFORMANCE\u001b[0m\n",
            "     | > avg_loader_time:\u001b[91m 0.36434 \u001b[0m(+0.08383)\n",
            "     | > avg_loss:\u001b[92m 1.83170 \u001b[0m(-0.04566)\n",
            "     | > avg_log_mle:\u001b[92m 0.43046 \u001b[0m(-0.00401)\n",
            "     | > avg_loss_dur:\u001b[92m 1.40123 \u001b[0m(-0.04165)\n",
            "\n",
            " > BEST MODEL : tts_train_dir/run-November-17-2022_09+42AM-0000000/best_model_396.pth\n",
            "\n",
            "\u001b[4m\u001b[1m > EPOCH: 99/100\u001b[0m\n",
            " --> tts_train_dir/run-November-17-2022_09+42AM-0000000\n",
            "\n",
            "\u001b[1m > TRAINING (2022-11-17 12:56:54) \u001b[0m\n"
          ]
        },
        {
          "output_type": "stream",
          "name": "stdout",
          "text": [
            "\n",
            "\n",
            "> DataLoader initialization\n",
            "| > Tokenizer:\n",
            "\t| > add_blank: False\n",
            "\t| > use_eos_bos: False\n",
            "\t| > use_phonemes: True\n",
            "\t| > phonemizer:\n",
            "\t\t| > phoneme language: en-us\n",
            "\t\t| > phoneme backend: gruut\n",
            "\t| > 1 not found characters:\n",
            "\t| > ͡\n",
            "| > Number of instances : 100\n",
            " | > Preprocessing samples\n",
            " | > Max text length: 169\n",
            " | > Min text length: 26\n",
            " | > Avg text length: 100.83\n",
            " | \n",
            " | > Max audio length: 219315.0\n",
            " | > Min audio length: 39347.0\n",
            " | > Avg audio length: 145581.88\n",
            " | > Num. instances discarded samples: 0\n",
            " | > Batch group size: 0.\n"
          ]
        },
        {
          "output_type": "stream",
          "name": "stderr",
          "text": [
            "\n",
            "\u001b[1m > EVALUATION \u001b[0m\n",
            "\n"
          ]
        },
        {
          "output_type": "stream",
          "name": "stdout",
          "text": [
            "\n",
            "\n",
            "> DataLoader initialization\n",
            "| > Tokenizer:\n",
            "\t| > add_blank: False\n",
            "\t| > use_eos_bos: False\n",
            "\t| > use_phonemes: True\n",
            "\t| > phonemizer:\n",
            "\t\t| > phoneme language: en-us\n",
            "\t\t| > phoneme backend: gruut\n",
            "\t| > 1 not found characters:\n",
            "\t| > ͡\n",
            "| > Number of instances : 1\n",
            " | > Preprocessing samples\n",
            " | > Max text length: 140\n",
            " | > Min text length: 140\n",
            " | > Avg text length: 140.0\n",
            " | \n",
            " | > Max audio length: 212659.0\n",
            " | > Min audio length: 212659.0\n",
            " | > Avg audio length: 212659.0\n",
            " | > Num. instances discarded samples: 0\n",
            " | > Batch group size: 0.\n",
            " | > Synthesizing test sentences.\n"
          ]
        },
        {
          "output_type": "stream",
          "name": "stderr",
          "text": [
            "\n",
            "  \u001b[1m--> EVAL PERFORMANCE\u001b[0m\n",
            "     | > avg_loader_time:\u001b[92m 0.27882 \u001b[0m(-0.08552)\n",
            "     | > avg_loss:\u001b[92m 1.81379 \u001b[0m(-0.01791)\n",
            "     | > avg_log_mle:\u001b[92m 0.42697 \u001b[0m(-0.00349)\n",
            "     | > avg_loss_dur:\u001b[92m 1.38682 \u001b[0m(-0.01442)\n",
            "\n",
            " > BEST MODEL : tts_train_dir/run-November-17-2022_09+42AM-0000000/best_model_400.pth\n"
          ]
        }
      ],
      "source": [
        "trainer.fit()"
      ]
    },
    {
      "cell_type": "code",
      "source": [
        "import glob, os\n",
        "output_path = \"tts_train_dir\"\n",
        "ckpts = sorted([f for f in glob.glob(output_path+\"/*/*.pth\")])\n",
        "configs = sorted([f for f in glob.glob(output_path+\"/*/*.json\")])\n"
      ],
      "metadata": {
        "id": "Lp-fg6DArHK6"
      },
      "execution_count": 46,
      "outputs": []
    },
    {
      "cell_type": "code",
      "source": [
        " !tts --text \"Text for TTS\" \\\n",
        "      --model_path $test_ckpt \\\n",
        "      --config_path $test_config \\\n",
        "      --out_path out.wav"
      ],
      "metadata": {
        "colab": {
          "base_uri": "https://localhost:8080/"
        },
        "id": "EEGkFMRdrtIx",
        "outputId": "8eaee7ff-c5e7-4fe8-859f-1a1f33ee2fd5"
      },
      "execution_count": 47,
      "outputs": [
        {
          "output_type": "stream",
          "name": "stdout",
          "text": [
            "usage: tts [-h] [--list_models [LIST_MODELS]]\n",
            "           [--model_info_by_idx MODEL_INFO_BY_IDX]\n",
            "           [--model_info_by_name MODEL_INFO_BY_NAME] [--text TEXT]\n",
            "           [--model_name MODEL_NAME] [--vocoder_name VOCODER_NAME]\n",
            "           [--config_path CONFIG_PATH] [--model_path MODEL_PATH]\n",
            "           [--out_path OUT_PATH] [--use_cuda USE_CUDA]\n",
            "           [--vocoder_path VOCODER_PATH]\n",
            "           [--vocoder_config_path VOCODER_CONFIG_PATH]\n",
            "           [--encoder_path ENCODER_PATH]\n",
            "           [--encoder_config_path ENCODER_CONFIG_PATH]\n",
            "           [--speakers_file_path SPEAKERS_FILE_PATH]\n",
            "           [--language_ids_file_path LANGUAGE_IDS_FILE_PATH]\n",
            "           [--speaker_idx SPEAKER_IDX] [--language_idx LANGUAGE_IDX]\n",
            "           [--speaker_wav SPEAKER_WAV [SPEAKER_WAV ...]]\n",
            "           [--gst_style GST_STYLE]\n",
            "           [--capacitron_style_wav CAPACITRON_STYLE_WAV]\n",
            "           [--capacitron_style_text CAPACITRON_STYLE_TEXT]\n",
            "           [--list_speaker_idxs [LIST_SPEAKER_IDXS]]\n",
            "           [--list_language_idxs [LIST_LANGUAGE_IDXS]]\n",
            "           [--save_spectogram SAVE_SPECTOGRAM] [--reference_wav REFERENCE_WAV]\n",
            "           [--reference_speaker_idx REFERENCE_SPEAKER_IDX]\n",
            "           [--progress_bar PROGRESS_BAR]\n",
            "tts: error: argument --model_path: expected one argument\n"
          ]
        }
      ]
    }
  ],
  "metadata": {
    "colab": {
      "provenance": [],
      "authorship_tag": "ABX9TyPVBbspibTtGqAPpTApyuPk",
      "include_colab_link": true
    },
    "kernelspec": {
      "display_name": "Python 3",
      "name": "python3"
    },
    "language_info": {
      "name": "python"
    }
  },
  "nbformat": 4,
  "nbformat_minor": 0
}